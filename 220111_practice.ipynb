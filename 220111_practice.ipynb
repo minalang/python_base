{
 "cells": [
  {
   "cell_type": "markdown",
   "id": "8accc791",
   "metadata": {},
   "source": [
    "## 1. 14를 3으로 나누었을 때 몫과 나머지를 각각 출력하세요."
   ]
  },
  {
   "cell_type": "code",
   "execution_count": 32,
   "id": "3cda6c1e",
   "metadata": {},
   "outputs": [
    {
     "data": {
      "text/plain": [
       "4"
      ]
     },
     "execution_count": 32,
     "metadata": {},
     "output_type": "execute_result"
    }
   ],
   "source": [
    "#몫\n",
    "14 // 3"
   ]
  },
  {
   "cell_type": "code",
   "execution_count": 3,
   "id": "1240ebcd",
   "metadata": {},
   "outputs": [
    {
     "data": {
      "text/plain": [
       "2"
      ]
     },
     "execution_count": 3,
     "metadata": {},
     "output_type": "execute_result"
    }
   ],
   "source": [
    "#나머지\n",
    "14 % 3"
   ]
  },
  {
   "cell_type": "markdown",
   "id": "10a1aef5",
   "metadata": {},
   "source": [
    "## 2. \"You need python\" 문장을 변수에 할당하고 길이를 구해보세요."
   ]
  },
  {
   "cell_type": "code",
   "execution_count": 4,
   "id": "e253a911",
   "metadata": {},
   "outputs": [
    {
     "data": {
      "text/plain": [
       "15"
      ]
     },
     "execution_count": 4,
     "metadata": {},
     "output_type": "execute_result"
    }
   ],
   "source": [
    "string = \"You need python\"\n",
    "len(string)"
   ]
  },
  {
   "cell_type": "markdown",
   "id": "8963e2e1",
   "metadata": {},
   "source": [
    "## 3. 문자열 포맷팅을 사용하여 4.254536를 소수점 두번째 자리까지만 표시하고 전체 길이가 10개인 문자열 공간에서 오른쪽으로 정렬되도록 해보세요."
   ]
  },
  {
   "cell_type": "code",
   "execution_count": 23,
   "id": "d8bc19c1",
   "metadata": {},
   "outputs": [],
   "source": [
    "a = \"%0.2f\" % 4.254536 #소수 두번째 자리까지 표시"
   ]
  },
  {
   "cell_type": "code",
   "execution_count": 25,
   "id": "ed3e4c41",
   "metadata": {},
   "outputs": [
    {
     "data": {
      "text/plain": [
       "'      4.25'"
      ]
     },
     "execution_count": 25,
     "metadata": {},
     "output_type": "execute_result"
    }
   ],
   "source": [
    "\"%10s\" % a #전체길이 10개인 문자열공간"
   ]
  },
  {
   "cell_type": "code",
   "execution_count": 33,
   "id": "0a73f41f",
   "metadata": {},
   "outputs": [
    {
     "data": {
      "text/plain": [
       "'      4.25'"
      ]
     },
     "execution_count": 33,
     "metadata": {},
     "output_type": "execute_result"
    }
   ],
   "source": [
    "#답\n",
    "\n",
    "\"%10.2f\" % 4.254536 #전체길이 10에서 앞에 공백 들어가게 출력"
   ]
  },
  {
   "cell_type": "markdown",
   "id": "6a165404",
   "metadata": {},
   "source": [
    "## 4. A = [1, 2, 3, 4, 5] 리스트에서 슬라이싱을 사용하여 리스트 [2, 3]을 만들어보세요."
   ]
  },
  {
   "cell_type": "code",
   "execution_count": 6,
   "id": "f16b5eee",
   "metadata": {},
   "outputs": [
    {
     "data": {
      "text/plain": [
       "[2, 3]"
      ]
     },
     "execution_count": 6,
     "metadata": {},
     "output_type": "execute_result"
    }
   ],
   "source": [
    "A = [1, 2, 3, 4, 5]\n",
    "A[1:3]"
   ]
  },
  {
   "cell_type": "markdown",
   "id": "28d31a01",
   "metadata": {},
   "source": [
    "## 5. (1, 2, 3)이라는 튜플 t1에 값 4를 추가하여 (1, 2, 3, 4)를 만들어 출력해보세요."
   ]
  },
  {
   "cell_type": "code",
   "execution_count": 7,
   "id": "00da8d41",
   "metadata": {},
   "outputs": [
    {
     "data": {
      "text/plain": [
       "(1, 2, 3, 4)"
      ]
     },
     "execution_count": 7,
     "metadata": {},
     "output_type": "execute_result"
    }
   ],
   "source": [
    "t1 = (1, 2, 3)\n",
    "t2 = (4, )\n",
    "t1+t2"
   ]
  },
  {
   "cell_type": "code",
   "execution_count": 34,
   "id": "b75945aa",
   "metadata": {},
   "outputs": [
    {
     "data": {
      "text/plain": [
       "(1, 2, 3, 4)"
      ]
     },
     "execution_count": 34,
     "metadata": {},
     "output_type": "execute_result"
    }
   ],
   "source": [
    "#답\n",
    "#tuple에 값 추가하는 방법?\n",
    "t1 = (1, 2, 3)\n",
    "t1 + (4, )"
   ]
  },
  {
   "cell_type": "code",
   "execution_count": 36,
   "id": "9c841ba2",
   "metadata": {},
   "outputs": [
    {
     "data": {
      "text/plain": [
       "(1, 2, 3, 4, 4)"
      ]
     },
     "execution_count": 36,
     "metadata": {},
     "output_type": "execute_result"
    }
   ],
   "source": [
    "#or\n",
    "t1 += (4, )\n",
    "t1"
   ]
  },
  {
   "cell_type": "markdown",
   "id": "eae2291d",
   "metadata": {},
   "source": [
    "## 6. name은 aaa, birth는 1128, age는 30이라는 자료를 딕셔너리로 만들어보세요."
   ]
  },
  {
   "cell_type": "code",
   "execution_count": 8,
   "id": "f909a3c4",
   "metadata": {},
   "outputs": [
    {
     "data": {
      "text/plain": [
       "{'name': 'aaa', 'birth': 1128, 'age': 30}"
      ]
     },
     "execution_count": 8,
     "metadata": {},
     "output_type": "execute_result"
    }
   ],
   "source": [
    "#딕셔너리 만들기\n",
    "dic = {'name': 'aaa', 'birth': 1128, 'age': 30}\n",
    "dic"
   ]
  },
  {
   "cell_type": "markdown",
   "id": "7614bc24",
   "metadata": {},
   "source": [
    "## 7. 각 과목별 점수가 korean 80, english 75, math 55 라고 했을 때 각 변수에 할당하여 사칙연산을 이용하여 평균을 구해보세요."
   ]
  },
  {
   "cell_type": "code",
   "execution_count": 9,
   "id": "6bc25ae8",
   "metadata": {},
   "outputs": [
    {
     "data": {
      "text/plain": [
       "70.0"
      ]
     },
     "execution_count": 9,
     "metadata": {},
     "output_type": "execute_result"
    }
   ],
   "source": [
    "korean = 80\n",
    "english = 75\n",
    "math = 55\n",
    "(korean+english+math)/3\n",
    "#이렇게 푸셨음"
   ]
  },
  {
   "cell_type": "markdown",
   "id": "e7d3ed27",
   "metadata": {},
   "source": [
    "## 8. 13이 홀수인지 짝수인지 알아보기 위해 적절한 연산자를 사용하여 살펴보세요."
   ]
  },
  {
   "cell_type": "code",
   "execution_count": 21,
   "id": "158e4b4d",
   "metadata": {},
   "outputs": [
    {
     "data": {
      "text/plain": [
       "1"
      ]
     },
     "execution_count": 21,
     "metadata": {},
     "output_type": "execute_result"
    }
   ],
   "source": [
    "#이건 뭐지?\n",
    "13%2 #2로 나누었을 때 나머지가 1이면 홀수, 아님 짝수"
   ]
  },
  {
   "cell_type": "code",
   "execution_count": 31,
   "id": "dfdfe226",
   "metadata": {},
   "outputs": [
    {
     "name": "stdout",
     "output_type": "stream",
     "text": [
      "13\n",
      "홀수\n"
     ]
    }
   ],
   "source": [
    "i = int(input())\n",
    "if i % 2 == 1:\n",
    "    print('홀수')\n",
    "elif i % 2 == 0:\n",
    "    print('짝수')"
   ]
  },
  {
   "cell_type": "code",
   "execution_count": 38,
   "id": "98b25b07",
   "metadata": {},
   "outputs": [
    {
     "data": {
      "text/plain": [
       "1"
      ]
     },
     "execution_count": 38,
     "metadata": {},
     "output_type": "execute_result"
    }
   ],
   "source": [
    "#답: %기호 응용\n",
    "13 % 2 #1이면 홀수고 0이면 짝수"
   ]
  },
  {
   "cell_type": "markdown",
   "id": "dca5d58f",
   "metadata": {},
   "source": [
    "## 9. aaa씨의 주민등록번호는 001231-1234567 입니다. aaa씨의 주민등록번호를 연월일(YYMMDD) 부분과 그 뒤의 숫자(num) 부분으로 나누어 할당되도록 해보세요."
   ]
  },
  {
   "cell_type": "code",
   "execution_count": 10,
   "id": "f5a5814b",
   "metadata": {},
   "outputs": [
    {
     "data": {
      "text/plain": [
       "['001231', '1234567']"
      ]
     },
     "execution_count": 10,
     "metadata": {},
     "output_type": "execute_result"
    }
   ],
   "source": [
    "#슬라이싱\n",
    "aaa = \"001231-1234567\"\n",
    "aaa.split('-')"
   ]
  },
  {
   "cell_type": "code",
   "execution_count": 39,
   "id": "a72c1665",
   "metadata": {},
   "outputs": [
    {
     "name": "stdout",
     "output_type": "stream",
     "text": [
      "001231\n",
      "1234567\n"
     ]
    }
   ],
   "source": [
    "aaa = \"001231-1234567\"\n",
    "YYMMDD = aaa[:6]\n",
    "num = aaa[7:]\n",
    "print(YYMMDD)\n",
    "print(num)"
   ]
  },
  {
   "cell_type": "markdown",
   "id": "4b992332",
   "metadata": {},
   "source": [
    "## 10. 문자열 a:b:c:d를 적절한 함수를 사용하여 a#b#c#d로 바꾸어 출력해보세요."
   ]
  },
  {
   "cell_type": "code",
   "execution_count": 13,
   "id": "b3736341",
   "metadata": {},
   "outputs": [
    {
     "data": {
      "text/plain": [
       "'a#b#c#d'"
      ]
     },
     "execution_count": 13,
     "metadata": {},
     "output_type": "execute_result"
    }
   ],
   "source": [
    "string = 'a:b:c:d'\n",
    "string.replace(':', '#')"
   ]
  },
  {
   "cell_type": "code",
   "execution_count": 40,
   "id": "e0e7cd83",
   "metadata": {},
   "outputs": [
    {
     "data": {
      "text/plain": [
       "'a#b#c#d'"
      ]
     },
     "execution_count": 40,
     "metadata": {},
     "output_type": "execute_result"
    }
   ],
   "source": [
    "'a:b:c:d'.replace(':', \"#\")"
   ]
  },
  {
   "cell_type": "markdown",
   "id": "13f7f8a2",
   "metadata": {},
   "source": [
    "## 11.  [1, 3, 5, 4, 2]라는 리스트 a를 역순으로 정렬되도록 적절한 함수를 사용하여 [5, 4, 3, 2, 1]로 만들어보세요."
   ]
  },
  {
   "cell_type": "code",
   "execution_count": 15,
   "id": "2e9bee9d",
   "metadata": {},
   "outputs": [],
   "source": [
    "a = [1, 3, 5, 4, 2]\n",
    "a.sort()"
   ]
  },
  {
   "cell_type": "code",
   "execution_count": 16,
   "id": "d26b904f",
   "metadata": {},
   "outputs": [
    {
     "data": {
      "text/plain": [
       "[1, 2, 3, 4, 5]"
      ]
     },
     "execution_count": 16,
     "metadata": {},
     "output_type": "execute_result"
    }
   ],
   "source": [
    "a"
   ]
  },
  {
   "cell_type": "code",
   "execution_count": 17,
   "id": "d40a6687",
   "metadata": {},
   "outputs": [],
   "source": [
    "a.reverse()"
   ]
  },
  {
   "cell_type": "code",
   "execution_count": 18,
   "id": "fada5640",
   "metadata": {},
   "outputs": [
    {
     "data": {
      "text/plain": [
       "[5, 4, 3, 2, 1]"
      ]
     },
     "execution_count": 18,
     "metadata": {},
     "output_type": "execute_result"
    }
   ],
   "source": [
    "a"
   ]
  },
  {
   "cell_type": "code",
   "execution_count": 41,
   "id": "f168777a",
   "metadata": {},
   "outputs": [
    {
     "name": "stdout",
     "output_type": "stream",
     "text": [
      "[5, 4, 3, 2, 1]\n"
     ]
    }
   ],
   "source": [
    "#답\n",
    "#sorted쓰면 사실 더 편함.\n",
    "a = [1, 3, 5, 4, 2]\n",
    "a.sort()\n",
    "a.reverse()\n",
    "print(a)"
   ]
  },
  {
   "cell_type": "code",
   "execution_count": 44,
   "id": "6cfc2f84",
   "metadata": {},
   "outputs": [],
   "source": [
    "a = [1, 3, 5, 4, 2]\n",
    "a.sort(reverse=True)\n",
    "#shift+tab누르면 설명"
   ]
  },
  {
   "cell_type": "code",
   "execution_count": 45,
   "id": "7a0cae1f",
   "metadata": {},
   "outputs": [
    {
     "data": {
      "text/plain": [
       "[5, 4, 3, 2, 1]"
      ]
     },
     "execution_count": 45,
     "metadata": {},
     "output_type": "execute_result"
    }
   ],
   "source": [
    "print(a)"
   ]
  },
  {
   "cell_type": "markdown",
   "id": "4f3ca76b",
   "metadata": {},
   "source": [
    "## 12. ['Life', 'is', 'too', 'short']라는 리스트 b를 'Life is too short'라는 문자열 result가 되도록 적절한 함수를 사용하여 만들어 출력해보세요."
   ]
  },
  {
   "cell_type": "code",
   "execution_count": 19,
   "id": "ef4250b3",
   "metadata": {},
   "outputs": [],
   "source": [
    "b = ['Life', 'is', 'too', 'short']\n",
    "result=' '.join(b) #구분자 먼저"
   ]
  },
  {
   "cell_type": "code",
   "execution_count": 20,
   "id": "ef574531",
   "metadata": {},
   "outputs": [
    {
     "data": {
      "text/plain": [
       "'Life is too short'"
      ]
     },
     "execution_count": 20,
     "metadata": {},
     "output_type": "execute_result"
    }
   ],
   "source": [
    "result"
   ]
  },
  {
   "cell_type": "markdown",
   "id": "2eee857f",
   "metadata": {},
   "source": [
    "## 13. a = [1, 1, 1, 2, 2, 3, 3, 3, 4, 4, 5]라는 리스트에서 중복된 숫자들을 제거해보세요."
   ]
  },
  {
   "cell_type": "code",
   "execution_count": 5,
   "id": "9c32a4b4",
   "metadata": {},
   "outputs": [
    {
     "data": {
      "text/plain": [
       "{1, 2, 3, 4, 5}"
      ]
     },
     "execution_count": 5,
     "metadata": {},
     "output_type": "execute_result"
    }
   ],
   "source": [
    "a = [1, 1, 1, 2, 2, 3, 3, 3, 4, 4, 5]\n",
    "set_a = set(a)\n",
    "set_a"
   ]
  },
  {
   "cell_type": "code",
   "execution_count": 46,
   "id": "7e09ebe0",
   "metadata": {},
   "outputs": [
    {
     "name": "stdout",
     "output_type": "stream",
     "text": [
      "[1, 2, 3, 4, 5]\n"
     ]
    }
   ],
   "source": [
    "a = [1, 1, 1, 2, 2, 3, 3, 3, 4, 4, 5]\n",
    "a_new = list(set(a))\n",
    "print(a_new)"
   ]
  }
 ],
 "metadata": {
  "kernelspec": {
   "display_name": "Python 3 (ipykernel)",
   "language": "python",
   "name": "python3"
  },
  "language_info": {
   "codemirror_mode": {
    "name": "ipython",
    "version": 3
   },
   "file_extension": ".py",
   "mimetype": "text/x-python",
   "name": "python",
   "nbconvert_exporter": "python",
   "pygments_lexer": "ipython3",
   "version": "3.9.7"
  }
 },
 "nbformat": 4,
 "nbformat_minor": 5
}
