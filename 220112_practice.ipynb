{
 "cells": [
  {
   "cell_type": "markdown",
   "id": "8accc791",
   "metadata": {},
   "source": [
    "## 1. num = 716의 모든 약수를 구하는 제어문을 작성해보세요. \n",
    "## 예를 들어, 6의 약수는 1, 2, 3, 6입니다. \n",
    "## for문과 if문을 사용하세요. \n",
    "## 문자열 포맷팅을 응용하여 '1은(는) 716의 약수입니다.'라는 형식으로 출력되도록 하세요."
   ]
  },
  {
   "cell_type": "code",
   "execution_count": 1,
   "id": "cbd34987",
   "metadata": {},
   "outputs": [
    {
     "name": "stdout",
     "output_type": "stream",
     "text": [
      "1은(는) 716의 약수입니다\n",
      "2은(는) 716의 약수입니다\n",
      "4은(는) 716의 약수입니다\n",
      "179은(는) 716의 약수입니다\n",
      "358은(는) 716의 약수입니다\n",
      "716은(는) 716의 약수입니다\n"
     ]
    }
   ],
   "source": [
    "for i in range(1, 717):\n",
    "    if 716 % i == 0:\n",
    "        print(\"%d은(는) 716의 약수입니다\" % i)"
   ]
  },
  {
   "cell_type": "code",
   "execution_count": 21,
   "id": "c36401a4",
   "metadata": {},
   "outputs": [
    {
     "name": "stdout",
     "output_type": "stream",
     "text": [
      "1은(는) 716의 약수입니다.\n",
      "2은(는) 716의 약수입니다.\n",
      "4은(는) 716의 약수입니다.\n",
      "179은(는) 716의 약수입니다.\n",
      "358은(는) 716의 약수입니다.\n",
      "716은(는) 716의 약수입니다.\n"
     ]
    }
   ],
   "source": [
    "#답\n",
    "#나누었을 때 딱 떨어지는 숫자들\n",
    "num = 716\n",
    "for i in range(1, num + 1):\n",
    "    if not (num % i):\n",
    "        print(\"%d은(는) %d의 약수입니다.\" % (i, num))\n",
    "        \n",
    "실습문제 1번에서 if not 나오는 구문 한 번 더 설명해주실 수 있을까요?"
   ]
  },
  {
   "cell_type": "markdown",
   "id": "10a1aef5",
   "metadata": {},
   "source": [
    "## 2. 1~200 사이의 정수 가운데 7의 배수이면서 5의 배수는 아닌 모든 숫자들을 찾아 콤마(,)로 구분된 문자열을 구성하여 출력해보세요."
   ]
  },
  {
   "cell_type": "code",
   "execution_count": 5,
   "id": "7e302175",
   "metadata": {},
   "outputs": [
    {
     "name": "stdout",
     "output_type": "stream",
     "text": [
      "7,14,21,28,42,49,56,63,77,84,91,98,112,119,126,133,147,154,161,168,182,189,196,"
     ]
    }
   ],
   "source": [
    "for i in range(1, 201):\n",
    "    if i % 7 == 0 and i % 5 != 0:\n",
    "        print(i, end = ',') #end 로 문자열의 구분자를 설정해줄 수 있음\n",
    "#마지막에 콤마가 나옴"
   ]
  },
  {
   "cell_type": "code",
   "execution_count": 22,
   "id": "ed22706a",
   "metadata": {},
   "outputs": [
    {
     "name": "stdout",
     "output_type": "stream",
     "text": [
      "7,14,21,28,42,49,56,63,77,84,91,98,112,119,126,133,147,154,161,168,182,189,196\n"
     ]
    }
   ],
   "source": [
    "result=\"\"\n",
    "for i in range(1, 201):\n",
    "    #if i % 7 == 0 and i % 5 != 0:\n",
    "     if not (i % 7) and (i % 5):\n",
    "            #7의 배수    #5의 배수가 아닐 때\n",
    "            \"\"\"숫자 자료형의 false는 0일 때 혹은 비어있을 때\n",
    "            따라서 i가 7의 배수일 때 (i % 7)은 false이므로 \n",
    "            not (i % 7)은 true가 됨\n",
    "            \n",
    "            5의 배수가 아닌 경우(i % 5)는 true임(나머지가 0이 아니므로)\n",
    "            따라서 둘 다 true\"\"\"\n",
    "        result += str(i) + ','\n",
    "print(result[:-1]) #슬라이싱을 통해 마지막 콤마가 나오지 않게 해줌"
   ]
  },
  {
   "cell_type": "markdown",
   "id": "8963e2e1",
   "metadata": {},
   "source": [
    "## 3. 100~300 사이의 정수에서 각각의 자리 숫자가 짝수인 정수를 찾아 콤마(,)로 구분하여 출력해보세요."
   ]
  },
  {
   "cell_type": "code",
   "execution_count": 11,
   "id": "6a11f212",
   "metadata": {},
   "outputs": [
    {
     "name": "stdout",
     "output_type": "stream",
     "text": [
      "200,202,204,206,208,220,222,224,226,228,240,242,244,246,248,260,262,264,266,268,280,282,284,286,288,"
     ]
    }
   ],
   "source": [
    "#내 풀이\n",
    "for i in range(100, 301):\n",
    "    if int(str(i)[0]) % 2 == 0 and int(str(i)[1]) % 2 == 0 and int(str(i)[2]) % 2 == 0:\n",
    "        print(i, end=',')"
   ]
  },
  {
   "cell_type": "code",
   "execution_count": 32,
   "id": "f01ea1ed",
   "metadata": {},
   "outputs": [
    {
     "name": "stdout",
     "output_type": "stream",
     "text": [
      "200,202,204,206,208,220,222,224,226,228,240,242,244,246,248,260,262,264,266,268,280,282,284,286,288\n"
     ]
    }
   ],
   "source": [
    "# 교수님 제시 정답\n",
    "# 논리 이해하는게 중요함\n",
    "result = []\n",
    "for i in range(100, 301):\n",
    "    a = i\n",
    "    t = False\n",
    "    #일의 자리 숫자 확인\n",
    "    for k in range(3): #전부 세자리\n",
    "        #1의 자리 수가 홀수인지 확인(홀수라면 t=True)\n",
    "        #10의 자리 수가 홀수인지 확인(홀수라면 t=True)\n",
    "        #100의 자리 수가 홀수인지 확인(홀수라면 t=True)\n",
    "        if (i % 10) % 2 != 0: #1의 자리 숫자가 홀수일 때 \n",
    "            t = True\n",
    "            break\n",
    "        #1의 자리 수가 홀수가 아니라면 10으로 나누어 10의 자리 수가 홀/짝인지 확인\n",
    "        #10의 자리 수가 홀수가 아니라면 다시 10으로 나누어 100의 자리 수가 홀/짝인지 확인\n",
    "        i = i // 10\n",
    "    if t == False: #or not t 다 짝수인 애들만 \n",
    "        result.append(str(a))\n",
    "print(\",\".join(result))"
   ]
  },
  {
   "cell_type": "code",
   "execution_count": 6,
   "id": "e4d64bb5",
   "metadata": {},
   "outputs": [
    {
     "name": "stdout",
     "output_type": "stream",
     "text": [
      "200,202,204,206,208,220,222,224,226,228,240,242,244,246,248,260,262,264,266,268,280,282,284,286,288,"
     ]
    }
   ],
   "source": [
    "#다른 사람이 푼 거\n",
    "for i in range(100, 301):\n",
    "    if (i // 100) % 2 == 0 and (i-(i//100)*100)//10%2 == 0 and (i % 10) % 2==0:\n",
    "        print(i, end=',')\n",
    "#백의 자리 숫자 확인: (i//100)%2==0\n",
    "#십의 자리 숫자확인: (i-(백의자리숫자*100))//10%2==0 10으로 나눠서 십의자리수만 남기고 이게 나머지0인가\n",
    "#일의 자리 숫자확인: 10으로 나눈 몫이 0인가"
   ]
  },
  {
   "cell_type": "code",
   "execution_count": 13,
   "id": "11ca9986",
   "metadata": {},
   "outputs": [
    {
     "name": "stdout",
     "output_type": "stream",
     "text": [
      "200,202,204,206,208,220,222,224,226,228,240,242,244,246,248,260,262,264,266,268,280,282,284,286,288,"
     ]
    }
   ],
   "source": [
    "#if not 이용하기\n",
    "for i in range(100, 301):\n",
    "    if not (int(str(i)[0])%2) and not (int(str(i)[1])%2) and not (int(str(i)[2])%2):\n",
    "        print(i, end=',')"
   ]
  },
  {
   "attachments": {
    "image.png": {
     "image/png": "[encoded data removed]"
    }
   },
   "cell_type": "markdown",
   "id": "5ce8809a",
   "metadata": {},
   "source": [
    "## 4. while문을 이용하여 아래와 같이 별(*)을 표시하도록 출력해보세요.\n",
    "![image.png](attachment:image.png)"
   ]
  },
  {
   "cell_type": "code",
   "execution_count": 12,
   "id": "6f1defb2",
   "metadata": {},
   "outputs": [
    {
     "name": "stdout",
     "output_type": "stream",
     "text": [
      "*****\n",
      "****\n",
      "***\n",
      "**\n",
      "*\n"
     ]
    }
   ],
   "source": [
    "star = '*'\n",
    "i = 5\n",
    "while i > 0:\n",
    "    print(star * i)\n",
    "    i -= 1"
   ]
  },
  {
   "cell_type": "code",
   "execution_count": 26,
   "id": "4ad9bad2",
   "metadata": {},
   "outputs": [
    {
     "name": "stdout",
     "output_type": "stream",
     "text": [
      "*****\n",
      "****\n",
      "***\n",
      "**\n",
      "*\n"
     ]
    }
   ],
   "source": [
    "i = 5\n",
    "while i: #0부터는 출력값이 나오지 않으니까 이렇게 해도 되는 듯\n",
    "    print(\"*\" * i)\n",
    "    i -= 1"
   ]
  },
  {
   "attachments": {
    "image.png": {
     "image/png": "[encoded data removed]"
    }
   },
   "cell_type": "markdown",
   "id": "12e7efb7",
   "metadata": {},
   "source": [
    "## 5. while문을 이용하여 아래와 같이 별(*)을 표시하도록 출력해보세요.\n",
    "![image.png](attachment:image.png)"
   ]
  },
  {
   "cell_type": "code",
   "execution_count": 20,
   "id": "20b1907b",
   "metadata": {},
   "outputs": [
    {
     "name": "stdout",
     "output_type": "stream",
     "text": [
      "*******\n",
      "*****\n",
      "***\n",
      "*\n"
     ]
    }
   ],
   "source": [
    "star = \"*\"\n",
    "i = 7\n",
    "while i > 0:\n",
    "    #print(\"%7s\" % star*i)\n",
    "    print(star*i)\n",
    "    i -= 2"
   ]
  },
  {
   "cell_type": "code",
   "execution_count": 27,
   "id": "ecdb8b81",
   "metadata": {},
   "outputs": [
    {
     "name": "stdout",
     "output_type": "stream",
     "text": [
      "*******\n",
      " *****\n",
      "  ***\n",
      "   *\n"
     ]
    }
   ],
   "source": [
    "### 교수님 풀이 ###\n",
    "#가운데 정렬은 어떻게 하나요?\n",
    "#교수님은 format함수를 사용하셨습니다.\n",
    "i, k = 7, 0 #튜플로 인식되어 각각 할당해줄 수 있다\n",
    "while i > 0:\n",
    "    print(\"{0}{1}\".format((\" \" * k), (\"*\" * i)))\n",
    "    i -= 2\n",
    "    k += 1"
   ]
  },
  {
   "cell_type": "code",
   "execution_count": 14,
   "id": "71ddf335",
   "metadata": {},
   "outputs": [
    {
     "name": "stdout",
     "output_type": "stream",
     "text": [
      "*******\n",
      " ***** \n",
      "  ***  \n",
      "   *   \n"
     ]
    }
   ],
   "source": [
    "num = 8\n",
    "while num > 0:\n",
    "    num -= 1\n",
    "    if num % 2 == 0: \n",
    "        continue #num이 홀수인 경우에만 밑으로 내려감\n",
    "    print(\" \" * ((7-num)//2) + \"*\" * num + \" \" * ((7-num)//2))\n",
    "#공백: \" \" * (7-홀수인 숫자)//2(양쪽에 있어야하니 2로 분할)"
   ]
  },
  {
   "cell_type": "code",
   "execution_count": 30,
   "id": "be3478da",
   "metadata": {},
   "outputs": [
    {
     "name": "stdout",
     "output_type": "stream",
     "text": [
      "*******\n",
      " *****\n",
      "  ***\n",
      "   *\n"
     ]
    }
   ],
   "source": [
    "# 가운데 기준으로 4개씩 되도록\n",
    "num = 4\n",
    "row_num = num\n",
    "while num > 0:\n",
    "    print(\" \" * (row_num - num), '*' * (num-1), '*'*num, sep='')\n",
    "    num -= 1"
   ]
  },
  {
   "cell_type": "code",
   "execution_count": 31,
   "id": "8c541248",
   "metadata": {},
   "outputs": [
    {
     "name": "stdout",
     "output_type": "stream",
     "text": [
      "*********\n",
      " *******\n",
      "  *****\n",
      "   ***\n",
      "    *\n"
     ]
    }
   ],
   "source": [
    "# 장점: 숫자를 확장하더라도 똑같은 형태의 피라미드를 만들 수 있다.\n",
    "num = 5\n",
    "row_num = num\n",
    "while num > 0:\n",
    "    print(\" \" * (row_num - num), '*' * (num-1), '*'*num, sep='')\n",
    "    num -= 1"
   ]
  }
 ],
 "metadata": {
  "kernelspec": {
   "display_name": "Python 3 (ipykernel)",
   "language": "python",
   "name": "python3"
  },
  "language_info": {
   "codemirror_mode": {
    "name": "ipython",
    "version": 3
   },
   "file_extension": ".py",
   "mimetype": "text/x-python",
   "name": "python",
   "nbconvert_exporter": "python",
   "pygments_lexer": "ipython3",
   "version": "3.9.7"
  }
 },
 "nbformat": 4,
 "nbformat_minor": 5
}
