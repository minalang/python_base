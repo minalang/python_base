{
 "cells": [
  {
   "cell_type": "markdown",
   "id": "85eb5b9a",
   "metadata": {},
   "source": [
    "# 두번째 수업 자료형: 리스트, 튜플, 집합, 불자료형"
   ]
  },
  {
   "cell_type": "markdown",
   "id": "25eb713e",
   "metadata": {},
   "source": [
    "## 3) 리스트 자료형\n",
    "- 대괄호([])로 둘러싸여있음\n",
    "- 구분자는 쉼표\n",
    "- 가장 많이 사용되는 대표적인 파이썬 자료형\n",
    "- 값의 수정과 삭제가 가능하다\n",
    "- 리스트의 요소는 인덱스 0부터 시작되어 순서대로 진행됨\n",
    "- 인덱싱과 슬라이싱이 가능함"
   ]
  },
  {
   "cell_type": "code",
   "execution_count": 1,
   "id": "a15165b0",
   "metadata": {},
   "outputs": [],
   "source": [
    "#예: 10미만의 홀수를 넣어주는 리스트를 만들고싶다\n",
    "odd = [1, 3, 5, 7, 9] # 구분자는 쉼표"
   ]
  },
  {
   "cell_type": "code",
   "execution_count": 2,
   "id": "94d3f716",
   "metadata": {},
   "outputs": [
    {
     "data": {
      "text/plain": [
       "[1, 3, 5, 7, 9]"
      ]
     },
     "execution_count": 2,
     "metadata": {},
     "output_type": "execute_result"
    }
   ],
   "source": [
    "odd"
   ]
  },
  {
   "cell_type": "code",
   "execution_count": 3,
   "id": "3c0374c3",
   "metadata": {},
   "outputs": [],
   "source": [
    "a = []\n",
    "b = [1, 2, 3]\n",
    "c = [\"Life\", 'is']\n",
    "d = [1, 2, 'Life'] #숫자 문자 한꺼번에도 가능\n",
    "e = [1, 2, ['Life', 'is']]"
   ]
  },
  {
   "cell_type": "markdown",
   "id": "591ea191",
   "metadata": {},
   "source": [
    "#### (1) 리스트의 인덱싱과 슬라이싱"
   ]
  },
  {
   "cell_type": "code",
   "execution_count": 4,
   "id": "3d59d7e8",
   "metadata": {},
   "outputs": [
    {
     "data": {
      "text/plain": [
       "1"
      ]
     },
     "execution_count": 4,
     "metadata": {},
     "output_type": "execute_result"
    }
   ],
   "source": [
    "#인덱싱(하나씩 가져올 때)과 슬라이싱(부분을 가져올 때)\n",
    "b[0] #첫번째 요소를 반환 cf. 문자열은 첫 글자"
   ]
  },
  {
   "cell_type": "code",
   "execution_count": 5,
   "id": "f17b0349",
   "metadata": {},
   "outputs": [
    {
     "data": {
      "text/plain": [
       "'Life'"
      ]
     },
     "execution_count": 5,
     "metadata": {},
     "output_type": "execute_result"
    }
   ],
   "source": [
    "c[0]"
   ]
  },
  {
   "cell_type": "code",
   "execution_count": 6,
   "id": "8acbaaec",
   "metadata": {},
   "outputs": [
    {
     "data": {
      "text/plain": [
       "['Life', 'is']"
      ]
     },
     "execution_count": 6,
     "metadata": {},
     "output_type": "execute_result"
    }
   ],
   "source": [
    "e[-1] #리스트 하나가 요소 하나가 됨"
   ]
  },
  {
   "cell_type": "code",
   "execution_count": 7,
   "id": "ef42fadb",
   "metadata": {},
   "outputs": [
    {
     "data": {
      "text/plain": [
       "'is'"
      ]
     },
     "execution_count": 7,
     "metadata": {},
     "output_type": "execute_result"
    }
   ],
   "source": [
    "e[-1][1]"
   ]
  },
  {
   "cell_type": "code",
   "execution_count": 8,
   "id": "6667c298",
   "metadata": {},
   "outputs": [
    {
     "data": {
      "text/plain": [
       "5"
      ]
     },
     "execution_count": 8,
     "metadata": {},
     "output_type": "execute_result"
    }
   ],
   "source": [
    "#연산\n",
    "b[1] + b[2]"
   ]
  },
  {
   "cell_type": "code",
   "execution_count": 9,
   "id": "edda7b1d",
   "metadata": {},
   "outputs": [
    {
     "data": {
      "text/plain": [
       "'is'"
      ]
     },
     "execution_count": 9,
     "metadata": {},
     "output_type": "execute_result"
    }
   ],
   "source": [
    "e[-1][-1] #is를 반환하고싶다면"
   ]
  },
  {
   "cell_type": "code",
   "execution_count": 10,
   "id": "48f2b3f9",
   "metadata": {},
   "outputs": [],
   "source": [
    "l1 = [1, 2, ['a', 'b', ['Life', 'is']]]"
   ]
  },
  {
   "cell_type": "code",
   "execution_count": 11,
   "id": "3e408e36",
   "metadata": {},
   "outputs": [
    {
     "data": {
      "text/plain": [
       "['a', 'b', ['Life', 'is']]"
      ]
     },
     "execution_count": 11,
     "metadata": {},
     "output_type": "execute_result"
    }
   ],
   "source": [
    "l1[-1]"
   ]
  },
  {
   "cell_type": "code",
   "execution_count": 12,
   "id": "76c135bb",
   "metadata": {},
   "outputs": [
    {
     "data": {
      "text/plain": [
       "['Life', 'is']"
      ]
     },
     "execution_count": 12,
     "metadata": {},
     "output_type": "execute_result"
    }
   ],
   "source": [
    "l1[-1][-1]"
   ]
  },
  {
   "cell_type": "code",
   "execution_count": 13,
   "id": "b186dfa6",
   "metadata": {},
   "outputs": [
    {
     "data": {
      "text/plain": [
       "'Life'"
      ]
     },
     "execution_count": 13,
     "metadata": {},
     "output_type": "execute_result"
    }
   ],
   "source": [
    "l1[-1][-1][0]"
   ]
  },
  {
   "cell_type": "code",
   "execution_count": 14,
   "id": "98daa2fa",
   "metadata": {},
   "outputs": [],
   "source": [
    "# 슬라이싱\n",
    "\n",
    "a = [1, 2, 3, 4, 5]"
   ]
  },
  {
   "cell_type": "code",
   "execution_count": 15,
   "id": "3716a8fa",
   "metadata": {},
   "outputs": [
    {
     "data": {
      "text/plain": [
       "[1, 2]"
      ]
     },
     "execution_count": 15,
     "metadata": {},
     "output_type": "execute_result"
    }
   ],
   "source": [
    "a[:2] #앞의 두 요소만 가져오기, 끝나는 번호보다 하나 더 큰 수를 가져온다"
   ]
  },
  {
   "cell_type": "code",
   "execution_count": 16,
   "id": "265bc4e7",
   "metadata": {},
   "outputs": [
    {
     "data": {
      "text/plain": [
       "[3, 4, 5]"
      ]
     },
     "execution_count": 16,
     "metadata": {},
     "output_type": "execute_result"
    }
   ],
   "source": [
    "a[2:]"
   ]
  },
  {
   "cell_type": "code",
   "execution_count": 17,
   "id": "234ffe1d",
   "metadata": {},
   "outputs": [],
   "source": [
    "#중첩된 리스트의 슬라이싱\n",
    "a = [1, 2, 3, ['a', 'b', 'c'], 4, 5]"
   ]
  },
  {
   "cell_type": "code",
   "execution_count": 18,
   "id": "9c62a642",
   "metadata": {},
   "outputs": [
    {
     "data": {
      "text/plain": [
       "['a', 'b']"
      ]
     },
     "execution_count": 18,
     "metadata": {},
     "output_type": "execute_result"
    }
   ],
   "source": [
    "a[3][:2] #중첩된 리스트에서의 슬라이싱"
   ]
  },
  {
   "cell_type": "code",
   "execution_count": 19,
   "id": "5d6920a5",
   "metadata": {},
   "outputs": [
    {
     "data": {
      "text/plain": [
       "[1, 2, 3, 4, 5, 6]"
      ]
     },
     "execution_count": 19,
     "metadata": {},
     "output_type": "execute_result"
    }
   ],
   "source": [
    "#리스트연산기호 사용\n",
    "a = [1, 2, 3]\n",
    "b = [4, 5, 6]\n",
    "a + b #문자열과 마찬가지로 더하면 연결이 된다(두 리스트가 합쳐진다)"
   ]
  },
  {
   "cell_type": "code",
   "execution_count": 20,
   "id": "31ce3c4f",
   "metadata": {},
   "outputs": [
    {
     "data": {
      "text/plain": [
       "[1, 2, 3, 1, 2, 3, 1, 2, 3]"
      ]
     },
     "execution_count": 20,
     "metadata": {},
     "output_type": "execute_result"
    }
   ],
   "source": [
    "#곱해주면 반복이된다\n",
    "a * 3"
   ]
  },
  {
   "cell_type": "code",
   "execution_count": 21,
   "id": "5665ee10",
   "metadata": {},
   "outputs": [
    {
     "data": {
      "text/plain": [
       "3"
      ]
     },
     "execution_count": 21,
     "metadata": {},
     "output_type": "execute_result"
    }
   ],
   "source": [
    "#문자열의 길이\n",
    "len(a)"
   ]
  },
  {
   "cell_type": "code",
   "execution_count": 22,
   "id": "9e11d8d9",
   "metadata": {},
   "outputs": [
    {
     "data": {
      "text/plain": [
       "6"
      ]
     },
     "execution_count": 22,
     "metadata": {},
     "output_type": "execute_result"
    }
   ],
   "source": [
    "a = [1, 2, 3, ['a', 'b', 'c'], 4, 5]\n",
    "len(a) #요소의 수를 세는 것(리스트 일지라도 하나로 처리)"
   ]
  },
  {
   "cell_type": "code",
   "execution_count": 23,
   "id": "780176a3",
   "metadata": {},
   "outputs": [
    {
     "ename": "TypeError",
     "evalue": "unsupported operand type(s) for +: 'int' and 'str'",
     "output_type": "error",
     "traceback": [
      "\u001b[1;31m---------------------------------------------------------------------------\u001b[0m",
      "\u001b[1;31mTypeError\u001b[0m                                 Traceback (most recent call last)",
      "\u001b[1;32mC:\\Users\\MINALA~1.DES\\AppData\\Local\\Temp/ipykernel_952/432785923.py\u001b[0m in \u001b[0;36m<module>\u001b[1;34m\u001b[0m\n\u001b[0;32m      1\u001b[0m \u001b[1;31m#리스트 연산 시 주의할 점\u001b[0m\u001b[1;33m\u001b[0m\u001b[1;33m\u001b[0m\u001b[0m\n\u001b[1;32m----> 2\u001b[1;33m \u001b[0ma\u001b[0m\u001b[1;33m[\u001b[0m\u001b[1;36m0\u001b[0m\u001b[1;33m]\u001b[0m\u001b[1;33m+\u001b[0m\u001b[1;34m'hello'\u001b[0m\u001b[1;33m\u001b[0m\u001b[1;33m\u001b[0m\u001b[0m\n\u001b[0m",
      "\u001b[1;31mTypeError\u001b[0m: unsupported operand type(s) for +: 'int' and 'str'"
     ]
    }
   ],
   "source": [
    "#리스트 연산 시 주의할 점\n",
    "a[0]+'hello' #숫자와 문자는 함께 연산할 수 없다"
   ]
  },
  {
   "cell_type": "code",
   "execution_count": 24,
   "id": "f0ae3746",
   "metadata": {},
   "outputs": [
    {
     "data": {
      "text/plain": [
       "'1hello'"
      ]
     },
     "execution_count": 24,
     "metadata": {},
     "output_type": "execute_result"
    }
   ],
   "source": [
    "str(a[0]) + \"hello\""
   ]
  },
  {
   "cell_type": "markdown",
   "id": "24295749",
   "metadata": {},
   "source": [
    "#### (2) 리스트 값 수정, 삭제"
   ]
  },
  {
   "cell_type": "code",
   "execution_count": 25,
   "id": "04c7b1e4",
   "metadata": {},
   "outputs": [
    {
     "data": {
      "text/plain": [
       "[1, 2, 3, ['a', 'b', 'c'], 4, 5]"
      ]
     },
     "execution_count": 25,
     "metadata": {},
     "output_type": "execute_result"
    }
   ],
   "source": [
    "#값 수정, 삭제 가능\n",
    "a"
   ]
  },
  {
   "cell_type": "code",
   "execution_count": 26,
   "id": "8118d8f4",
   "metadata": {},
   "outputs": [],
   "source": [
    "a[2]=4"
   ]
  },
  {
   "cell_type": "code",
   "execution_count": 27,
   "id": "ec26f4aa",
   "metadata": {},
   "outputs": [
    {
     "data": {
      "text/plain": [
       "[1, 2, 4, ['a', 'b', 'c'], 4, 5]"
      ]
     },
     "execution_count": 27,
     "metadata": {},
     "output_type": "execute_result"
    }
   ],
   "source": [
    "a"
   ]
  },
  {
   "cell_type": "code",
   "execution_count": 28,
   "id": "0dec56fb",
   "metadata": {},
   "outputs": [
    {
     "data": {
      "text/plain": [
       "[1, 2]"
      ]
     },
     "execution_count": 28,
     "metadata": {},
     "output_type": "execute_result"
    }
   ],
   "source": [
    "a[:2]"
   ]
  },
  {
   "cell_type": "code",
   "execution_count": 29,
   "id": "88d9c448",
   "metadata": {},
   "outputs": [],
   "source": [
    "a[:2]=[2, 3]"
   ]
  },
  {
   "cell_type": "code",
   "execution_count": 30,
   "id": "0f5e5ac0",
   "metadata": {},
   "outputs": [
    {
     "data": {
      "text/plain": [
       "[2, 3, 4, ['a', 'b', 'c'], 4, 5]"
      ]
     },
     "execution_count": 30,
     "metadata": {},
     "output_type": "execute_result"
    }
   ],
   "source": [
    "a"
   ]
  },
  {
   "cell_type": "code",
   "execution_count": 31,
   "id": "6bd77f99",
   "metadata": {},
   "outputs": [],
   "source": [
    "#삭제는 del\n",
    "del a[-1]"
   ]
  },
  {
   "cell_type": "code",
   "execution_count": 32,
   "id": "ca00fe24",
   "metadata": {},
   "outputs": [
    {
     "data": {
      "text/plain": [
       "[2, 3, 4, ['a', 'b', 'c'], 4]"
      ]
     },
     "execution_count": 32,
     "metadata": {},
     "output_type": "execute_result"
    }
   ],
   "source": [
    "a"
   ]
  },
  {
   "cell_type": "code",
   "execution_count": 33,
   "id": "4a1745fd",
   "metadata": {},
   "outputs": [],
   "source": [
    "del a[3:]"
   ]
  },
  {
   "cell_type": "code",
   "execution_count": 34,
   "id": "ac7bddcc",
   "metadata": {},
   "outputs": [
    {
     "data": {
      "text/plain": [
       "[2, 3, 4]"
      ]
     },
     "execution_count": 34,
     "metadata": {},
     "output_type": "execute_result"
    }
   ],
   "source": [
    "a"
   ]
  },
  {
   "cell_type": "markdown",
   "id": "bc775ecc",
   "metadata": {},
   "source": [
    "#### (3) 리스트 관련 함수"
   ]
  },
  {
   "cell_type": "code",
   "execution_count": 35,
   "id": "db07037a",
   "metadata": {},
   "outputs": [],
   "source": [
    "#.append(): 리스트의 맨 마지막에 값 추가(하나의 값만)\n",
    "a.append(5)"
   ]
  },
  {
   "cell_type": "code",
   "execution_count": 36,
   "id": "bd364ef5",
   "metadata": {},
   "outputs": [
    {
     "data": {
      "text/plain": [
       "[2, 3, 4, 5]"
      ]
     },
     "execution_count": 36,
     "metadata": {},
     "output_type": "execute_result"
    }
   ],
   "source": [
    "a"
   ]
  },
  {
   "cell_type": "code",
   "execution_count": 37,
   "id": "7f570594",
   "metadata": {},
   "outputs": [
    {
     "ename": "TypeError",
     "evalue": "list.append() takes exactly one argument (2 given)",
     "output_type": "error",
     "traceback": [
      "\u001b[1;31m---------------------------------------------------------------------------\u001b[0m",
      "\u001b[1;31mTypeError\u001b[0m                                 Traceback (most recent call last)",
      "\u001b[1;32mC:\\Users\\MINALA~1.DES\\AppData\\Local\\Temp/ipykernel_952/4222711171.py\u001b[0m in \u001b[0;36m<module>\u001b[1;34m\u001b[0m\n\u001b[1;32m----> 1\u001b[1;33m \u001b[0ma\u001b[0m\u001b[1;33m.\u001b[0m\u001b[0mappend\u001b[0m\u001b[1;33m(\u001b[0m\u001b[1;36m6\u001b[0m\u001b[1;33m,\u001b[0m\u001b[1;36m7\u001b[0m\u001b[1;33m)\u001b[0m\u001b[1;33m\u001b[0m\u001b[1;33m\u001b[0m\u001b[0m\n\u001b[0m",
      "\u001b[1;31mTypeError\u001b[0m: list.append() takes exactly one argument (2 given)"
     ]
    }
   ],
   "source": [
    "a.append(6,7) #append함수는 하나의 값만 받을 수 있다."
   ]
  },
  {
   "cell_type": "code",
   "execution_count": 38,
   "id": "6d7e8537",
   "metadata": {},
   "outputs": [],
   "source": [
    "a.append([6,7])"
   ]
  },
  {
   "cell_type": "code",
   "execution_count": 39,
   "id": "5bca05cc",
   "metadata": {},
   "outputs": [
    {
     "data": {
      "text/plain": [
       "[2, 3, 4, 5, [6, 7]]"
      ]
     },
     "execution_count": 39,
     "metadata": {},
     "output_type": "execute_result"
    }
   ],
   "source": [
    "a #리스트 자체가 하나의 요소가 됨"
   ]
  },
  {
   "cell_type": "code",
   "execution_count": 40,
   "id": "7e9d087c",
   "metadata": {},
   "outputs": [
    {
     "ename": "AttributeError",
     "evalue": "'NoneType' object has no attribute 'append'",
     "output_type": "error",
     "traceback": [
      "\u001b[1;31m---------------------------------------------------------------------------\u001b[0m",
      "\u001b[1;31mAttributeError\u001b[0m                            Traceback (most recent call last)",
      "\u001b[1;32mC:\\Users\\MINALA~1.DES\\AppData\\Local\\Temp/ipykernel_952/4282589962.py\u001b[0m in \u001b[0;36m<module>\u001b[1;34m\u001b[0m\n\u001b[1;32m----> 1\u001b[1;33m \u001b[0ma\u001b[0m\u001b[1;33m.\u001b[0m\u001b[0mappend\u001b[0m\u001b[1;33m(\u001b[0m\u001b[1;36m6\u001b[0m\u001b[1;33m)\u001b[0m\u001b[1;33m.\u001b[0m\u001b[0mappend\u001b[0m\u001b[1;33m(\u001b[0m\u001b[1;36m7\u001b[0m\u001b[1;33m)\u001b[0m\u001b[1;33m\u001b[0m\u001b[1;33m\u001b[0m\u001b[0m\n\u001b[0m",
      "\u001b[1;31mAttributeError\u001b[0m: 'NoneType' object has no attribute 'append'"
     ]
    }
   ],
   "source": [
    "a.append(6).append(7) \n",
    "#a.append(6)까지는 정상적으로 실행됐는데 .append(7)에서 에러발생함"
   ]
  },
  {
   "cell_type": "code",
   "execution_count": 41,
   "id": "865345d8",
   "metadata": {},
   "outputs": [],
   "source": [
    "a.append(6)\n",
    "a.append(7)"
   ]
  },
  {
   "cell_type": "code",
   "execution_count": 42,
   "id": "f00b245b",
   "metadata": {},
   "outputs": [
    {
     "data": {
      "text/plain": [
       "[2, 3, 4, 5, [6, 7], 6, 6, 7]"
      ]
     },
     "execution_count": 42,
     "metadata": {},
     "output_type": "execute_result"
    }
   ],
   "source": [
    "a"
   ]
  },
  {
   "cell_type": "markdown",
   "id": "fb26c8e4",
   "metadata": {},
   "source": [
    "##### sort()함수"
   ]
  },
  {
   "cell_type": "code",
   "execution_count": 43,
   "id": "09e35967",
   "metadata": {
    "scrolled": true
   },
   "outputs": [
    {
     "ename": "TypeError",
     "evalue": "'<' not supported between instances of 'list' and 'int'",
     "output_type": "error",
     "traceback": [
      "\u001b[1;31m---------------------------------------------------------------------------\u001b[0m",
      "\u001b[1;31mTypeError\u001b[0m                                 Traceback (most recent call last)",
      "\u001b[1;32mC:\\Users\\MINALA~1.DES\\AppData\\Local\\Temp/ipykernel_952/2629139315.py\u001b[0m in \u001b[0;36m<module>\u001b[1;34m\u001b[0m\n\u001b[1;32m----> 1\u001b[1;33m \u001b[0ma\u001b[0m\u001b[1;33m.\u001b[0m\u001b[0msort\u001b[0m\u001b[1;33m(\u001b[0m\u001b[1;33m)\u001b[0m\u001b[1;33m\u001b[0m\u001b[1;33m\u001b[0m\u001b[0m\n\u001b[0m",
      "\u001b[1;31mTypeError\u001b[0m: '<' not supported between instances of 'list' and 'int'"
     ]
    }
   ],
   "source": [
    "a.sort() #리스트 안에 리스트 있으면 정렬 시켜줄 수 없다"
   ]
  },
  {
   "cell_type": "code",
   "execution_count": 44,
   "id": "c55cced4",
   "metadata": {},
   "outputs": [],
   "source": [
    "a = [1, 2, 'a', 'b', 'c']"
   ]
  },
  {
   "cell_type": "code",
   "execution_count": 45,
   "id": "d19db676",
   "metadata": {},
   "outputs": [
    {
     "ename": "TypeError",
     "evalue": "'<' not supported between instances of 'str' and 'int'",
     "output_type": "error",
     "traceback": [
      "\u001b[1;31m---------------------------------------------------------------------------\u001b[0m",
      "\u001b[1;31mTypeError\u001b[0m                                 Traceback (most recent call last)",
      "\u001b[1;32mC:\\Users\\MINALA~1.DES\\AppData\\Local\\Temp/ipykernel_952/2629139315.py\u001b[0m in \u001b[0;36m<module>\u001b[1;34m\u001b[0m\n\u001b[1;32m----> 1\u001b[1;33m \u001b[0ma\u001b[0m\u001b[1;33m.\u001b[0m\u001b[0msort\u001b[0m\u001b[1;33m(\u001b[0m\u001b[1;33m)\u001b[0m\u001b[1;33m\u001b[0m\u001b[1;33m\u001b[0m\u001b[0m\n\u001b[0m",
      "\u001b[1;31mTypeError\u001b[0m: '<' not supported between instances of 'str' and 'int'"
     ]
    }
   ],
   "source": [
    "a.sort() #안에 문자가 있으면 정렬을 시켜줄 수 없다."
   ]
  },
  {
   "cell_type": "code",
   "execution_count": 46,
   "id": "81a30132",
   "metadata": {},
   "outputs": [],
   "source": [
    "a = [3,2,5,1,4]"
   ]
  },
  {
   "cell_type": "code",
   "execution_count": 48,
   "id": "efb11bd9",
   "metadata": {},
   "outputs": [],
   "source": [
    "a.sort()"
   ]
  },
  {
   "cell_type": "code",
   "execution_count": 49,
   "id": "11f037ed",
   "metadata": {},
   "outputs": [
    {
     "data": {
      "text/plain": [
       "[1, 2, 3, 4, 5]"
      ]
     },
     "execution_count": 49,
     "metadata": {},
     "output_type": "execute_result"
    }
   ],
   "source": [
    "a"
   ]
  },
  {
   "cell_type": "code",
   "execution_count": 50,
   "id": "2854b10d",
   "metadata": {},
   "outputs": [],
   "source": [
    "a=['a', 'b', 'c']"
   ]
  },
  {
   "cell_type": "code",
   "execution_count": 51,
   "id": "9d789934",
   "metadata": {},
   "outputs": [],
   "source": [
    "a.sort()"
   ]
  },
  {
   "cell_type": "code",
   "execution_count": 52,
   "id": "f125a03b",
   "metadata": {},
   "outputs": [
    {
     "data": {
      "text/plain": [
       "['a', 'b', 'c']"
      ]
     },
     "execution_count": 52,
     "metadata": {},
     "output_type": "execute_result"
    }
   ],
   "source": [
    "a"
   ]
  },
  {
   "cell_type": "markdown",
   "id": "4cf6e593",
   "metadata": {},
   "source": [
    "##### reverse\n",
    "역정렬이 아니라 그냥 현재의 리스트를 뒤집어주는 함수."
   ]
  },
  {
   "cell_type": "code",
   "execution_count": 53,
   "id": "4de76ef9",
   "metadata": {},
   "outputs": [],
   "source": [
    "a.reverse() \n",
    "#그냥 현재의 리스트를 뒤집어주는 함수. 역순으로 정렬하는게 아님"
   ]
  },
  {
   "cell_type": "code",
   "execution_count": 54,
   "id": "b43255c0",
   "metadata": {},
   "outputs": [
    {
     "data": {
      "text/plain": [
       "['c', 'b', 'a']"
      ]
     },
     "execution_count": 54,
     "metadata": {},
     "output_type": "execute_result"
    }
   ],
   "source": [
    "a"
   ]
  },
  {
   "cell_type": "code",
   "execution_count": 90,
   "id": "443e3885",
   "metadata": {},
   "outputs": [],
   "source": [
    "b = ['b', 'a', 'c', 'd']"
   ]
  },
  {
   "cell_type": "code",
   "execution_count": 91,
   "id": "e5f5c3d5",
   "metadata": {},
   "outputs": [],
   "source": [
    "b.reverse()"
   ]
  },
  {
   "cell_type": "code",
   "execution_count": 92,
   "id": "08b1dc53",
   "metadata": {},
   "outputs": [
    {
     "data": {
      "text/plain": [
       "['d', 'c', 'a', 'b']"
      ]
     },
     "execution_count": 92,
     "metadata": {},
     "output_type": "execute_result"
    }
   ],
   "source": [
    "b"
   ]
  },
  {
   "cell_type": "code",
   "execution_count": 55,
   "id": "f9ce7dd7",
   "metadata": {},
   "outputs": [],
   "source": [
    "a = [3,4,5,2,1]"
   ]
  },
  {
   "cell_type": "code",
   "execution_count": 56,
   "id": "cf56e134",
   "metadata": {},
   "outputs": [],
   "source": [
    "a.reverse()"
   ]
  },
  {
   "cell_type": "code",
   "execution_count": 57,
   "id": "c898a03b",
   "metadata": {},
   "outputs": [
    {
     "data": {
      "text/plain": [
       "[1, 2, 5, 4, 3]"
      ]
     },
     "execution_count": 57,
     "metadata": {},
     "output_type": "execute_result"
    }
   ],
   "source": [
    "a"
   ]
  },
  {
   "cell_type": "code",
   "execution_count": 58,
   "id": "8e76c97b",
   "metadata": {},
   "outputs": [
    {
     "data": {
      "text/plain": [
       "[1, 2, 5, 4, 3]"
      ]
     },
     "execution_count": 58,
     "metadata": {},
     "output_type": "execute_result"
    }
   ],
   "source": [
    "a"
   ]
  },
  {
   "cell_type": "markdown",
   "id": "d32f540d",
   "metadata": {},
   "source": [
    "##### .index()\n",
    "인덱스의 번호 반환"
   ]
  },
  {
   "cell_type": "code",
   "execution_count": 59,
   "id": "ae318175",
   "metadata": {},
   "outputs": [
    {
     "data": {
      "text/plain": [
       "4"
      ]
     },
     "execution_count": 59,
     "metadata": {},
     "output_type": "execute_result"
    }
   ],
   "source": [
    "a.index(3) #인덱스 번호 반환"
   ]
  },
  {
   "cell_type": "code",
   "execution_count": 60,
   "id": "4afd09c2",
   "metadata": {},
   "outputs": [
    {
     "data": {
      "text/plain": [
       "3"
      ]
     },
     "execution_count": 60,
     "metadata": {},
     "output_type": "execute_result"
    }
   ],
   "source": [
    "a[4]"
   ]
  },
  {
   "cell_type": "code",
   "execution_count": 61,
   "id": "aa25637e",
   "metadata": {},
   "outputs": [
    {
     "ename": "ValueError",
     "evalue": "0 is not in list",
     "output_type": "error",
     "traceback": [
      "\u001b[1;31m---------------------------------------------------------------------------\u001b[0m",
      "\u001b[1;31mValueError\u001b[0m                                Traceback (most recent call last)",
      "\u001b[1;32mC:\\Users\\MINALA~1.DES\\AppData\\Local\\Temp/ipykernel_952/2671509078.py\u001b[0m in \u001b[0;36m<module>\u001b[1;34m\u001b[0m\n\u001b[1;32m----> 1\u001b[1;33m \u001b[0ma\u001b[0m\u001b[1;33m.\u001b[0m\u001b[0mindex\u001b[0m\u001b[1;33m(\u001b[0m\u001b[1;36m0\u001b[0m\u001b[1;33m)\u001b[0m\u001b[1;33m\u001b[0m\u001b[1;33m\u001b[0m\u001b[0m\n\u001b[0m",
      "\u001b[1;31mValueError\u001b[0m: 0 is not in list"
     ]
    }
   ],
   "source": [
    "a.index(0) #없는 값의 인덱스번호 찾게되면 에러"
   ]
  },
  {
   "cell_type": "code",
   "execution_count": 62,
   "id": "7336eab8",
   "metadata": {},
   "outputs": [
    {
     "ename": "AttributeError",
     "evalue": "'list' object has no attribute 'find'",
     "output_type": "error",
     "traceback": [
      "\u001b[1;31m---------------------------------------------------------------------------\u001b[0m",
      "\u001b[1;31mAttributeError\u001b[0m                            Traceback (most recent call last)",
      "\u001b[1;32mC:\\Users\\MINALA~1.DES\\AppData\\Local\\Temp/ipykernel_952/4180981196.py\u001b[0m in \u001b[0;36m<module>\u001b[1;34m\u001b[0m\n\u001b[1;32m----> 1\u001b[1;33m \u001b[0ma\u001b[0m\u001b[1;33m.\u001b[0m\u001b[0mfind\u001b[0m\u001b[1;33m(\u001b[0m\u001b[1;36m3\u001b[0m\u001b[1;33m)\u001b[0m\u001b[1;33m\u001b[0m\u001b[1;33m\u001b[0m\u001b[0m\n\u001b[0m",
      "\u001b[1;31mAttributeError\u001b[0m: 'list' object has no attribute 'find'"
     ]
    }
   ],
   "source": [
    "a.find(3) #문자열에서만 사용가능하다. list에서 찾을 땐 index()활용해야한다"
   ]
  },
  {
   "cell_type": "markdown",
   "id": "340fc533",
   "metadata": {},
   "source": [
    "##### in\n",
    "해당 요소가 리스트에 있는지 확인(출력값 True, False)"
   ]
  },
  {
   "cell_type": "code",
   "execution_count": 63,
   "id": "27c18f93",
   "metadata": {},
   "outputs": [
    {
     "data": {
      "text/plain": [
       "True"
      ]
     },
     "execution_count": 63,
     "metadata": {},
     "output_type": "execute_result"
    }
   ],
   "source": [
    "3 in a"
   ]
  },
  {
   "cell_type": "code",
   "execution_count": 64,
   "id": "addd080a",
   "metadata": {},
   "outputs": [
    {
     "data": {
      "text/plain": [
       "False"
      ]
     },
     "execution_count": 64,
     "metadata": {},
     "output_type": "execute_result"
    }
   ],
   "source": [
    "0 in a #인덱스 번호 찾고싶으면 .index(), 유무만 알고싶으면 in"
   ]
  },
  {
   "cell_type": "code",
   "execution_count": 65,
   "id": "1cc12ef6",
   "metadata": {},
   "outputs": [],
   "source": [
    "#insert() (append는 맨 마지막에 요소추가)\n",
    "a.insert(2, 0) #2와 5사이에 0추가\n",
    "#2번째 자리에 0추가"
   ]
  },
  {
   "cell_type": "code",
   "execution_count": 66,
   "id": "1d3af2e4",
   "metadata": {},
   "outputs": [
    {
     "data": {
      "text/plain": [
       "[1, 2, 0, 5, 4, 3]"
      ]
     },
     "execution_count": 66,
     "metadata": {},
     "output_type": "execute_result"
    }
   ],
   "source": [
    "a"
   ]
  },
  {
   "cell_type": "markdown",
   "id": "96339343",
   "metadata": {},
   "source": [
    "##### remove()"
   ]
  },
  {
   "cell_type": "code",
   "execution_count": 67,
   "id": "5fc6d776",
   "metadata": {},
   "outputs": [],
   "source": [
    "#리스트 요소 삭제 del, remove\n",
    "a.remove(5)"
   ]
  },
  {
   "cell_type": "code",
   "execution_count": 68,
   "id": "2f5cdc47",
   "metadata": {},
   "outputs": [
    {
     "data": {
      "text/plain": [
       "[1, 2, 0, 4, 3]"
      ]
     },
     "execution_count": 68,
     "metadata": {},
     "output_type": "execute_result"
    }
   ],
   "source": [
    "a #리스트에서 5를 찾아서 삭제해줌"
   ]
  },
  {
   "cell_type": "code",
   "execution_count": 69,
   "id": "0c154a12",
   "metadata": {},
   "outputs": [],
   "source": [
    "a = [1, 2, 3, 4, 5, 5, 5, 6]"
   ]
  },
  {
   "cell_type": "code",
   "execution_count": 70,
   "id": "a8ec1cd1",
   "metadata": {},
   "outputs": [],
   "source": [
    "a.remove(5)"
   ]
  },
  {
   "cell_type": "code",
   "execution_count": 71,
   "id": "0b7e6003",
   "metadata": {},
   "outputs": [
    {
     "data": {
      "text/plain": [
       "[1, 2, 3, 4, 5, 5, 6]"
      ]
     },
     "execution_count": 71,
     "metadata": {},
     "output_type": "execute_result"
    }
   ],
   "source": [
    "a #맨 처음 5만 지워짐"
   ]
  },
  {
   "cell_type": "code",
   "execution_count": 72,
   "id": "07158e66",
   "metadata": {},
   "outputs": [],
   "source": [
    "a.remove(5)\n",
    "a.remove(5)"
   ]
  },
  {
   "cell_type": "code",
   "execution_count": 73,
   "id": "7f458875",
   "metadata": {},
   "outputs": [
    {
     "data": {
      "text/plain": [
       "[1, 2, 3, 4, 6]"
      ]
     },
     "execution_count": 73,
     "metadata": {},
     "output_type": "execute_result"
    }
   ],
   "source": [
    "a"
   ]
  },
  {
   "cell_type": "code",
   "execution_count": 74,
   "id": "63eecbd2",
   "metadata": {},
   "outputs": [
    {
     "ename": "ValueError",
     "evalue": "list.remove(x): x not in list",
     "output_type": "error",
     "traceback": [
      "\u001b[1;31m---------------------------------------------------------------------------\u001b[0m",
      "\u001b[1;31mValueError\u001b[0m                                Traceback (most recent call last)",
      "\u001b[1;32mC:\\Users\\MINALA~1.DES\\AppData\\Local\\Temp/ipykernel_952/2613193872.py\u001b[0m in \u001b[0;36m<module>\u001b[1;34m\u001b[0m\n\u001b[1;32m----> 1\u001b[1;33m \u001b[0ma\u001b[0m\u001b[1;33m.\u001b[0m\u001b[0mremove\u001b[0m\u001b[1;33m(\u001b[0m\u001b[1;36m5\u001b[0m\u001b[1;33m)\u001b[0m\u001b[1;33m\u001b[0m\u001b[1;33m\u001b[0m\u001b[0m\n\u001b[0m",
      "\u001b[1;31mValueError\u001b[0m: list.remove(x): x not in list"
     ]
    }
   ],
   "source": [
    "a.remove(5)"
   ]
  },
  {
   "cell_type": "markdown",
   "id": "f8527973",
   "metadata": {},
   "source": [
    "##### pop()"
   ]
  },
  {
   "cell_type": "code",
   "execution_count": 75,
   "id": "dbe8e2a9",
   "metadata": {},
   "outputs": [
    {
     "data": {
      "text/plain": [
       "6"
      ]
     },
     "execution_count": 75,
     "metadata": {},
     "output_type": "execute_result"
    }
   ],
   "source": [
    "#pop()\n",
    "a.pop() #마지막 요소값 출력함"
   ]
  },
  {
   "cell_type": "code",
   "execution_count": 76,
   "id": "be5be0b2",
   "metadata": {},
   "outputs": [
    {
     "data": {
      "text/plain": [
       "[1, 2, 3, 4]"
      ]
     },
     "execution_count": 76,
     "metadata": {},
     "output_type": "execute_result"
    }
   ],
   "source": [
    "a #마지막 요소값이 지워짐"
   ]
  },
  {
   "cell_type": "markdown",
   "id": "a03f8f62",
   "metadata": {},
   "source": [
    "##### .count()"
   ]
  },
  {
   "cell_type": "code",
   "execution_count": 77,
   "id": "a32010ae",
   "metadata": {},
   "outputs": [],
   "source": [
    "a = [1, 2, 3, 4, 1, 2, 3]"
   ]
  },
  {
   "cell_type": "code",
   "execution_count": 78,
   "id": "6c0be304",
   "metadata": {},
   "outputs": [
    {
     "data": {
      "text/plain": [
       "2"
      ]
     },
     "execution_count": 78,
     "metadata": {},
     "output_type": "execute_result"
    }
   ],
   "source": [
    "a.count(1) #문자열과 동일하게 사용가능"
   ]
  },
  {
   "cell_type": "code",
   "execution_count": 79,
   "id": "c376225d",
   "metadata": {},
   "outputs": [
    {
     "data": {
      "text/plain": [
       "1"
      ]
     },
     "execution_count": 79,
     "metadata": {},
     "output_type": "execute_result"
    }
   ],
   "source": [
    "a.count(4)"
   ]
  },
  {
   "cell_type": "code",
   "execution_count": 80,
   "id": "e234ca3d",
   "metadata": {},
   "outputs": [
    {
     "data": {
      "text/plain": [
       "0"
      ]
     },
     "execution_count": 80,
     "metadata": {},
     "output_type": "execute_result"
    }
   ],
   "source": [
    "a.count(0)"
   ]
  },
  {
   "cell_type": "markdown",
   "id": "f0247980",
   "metadata": {},
   "source": [
    "##### .extend()"
   ]
  },
  {
   "cell_type": "code",
   "execution_count": 81,
   "id": "bd1ccb22",
   "metadata": {},
   "outputs": [],
   "source": [
    "#extend: append랑 비슷한데 더하기를 해주는 것\n",
    "a = [1, 2, 3]"
   ]
  },
  {
   "cell_type": "code",
   "execution_count": 82,
   "id": "7b2aaac1",
   "metadata": {},
   "outputs": [],
   "source": [
    "a.append(4)"
   ]
  },
  {
   "cell_type": "code",
   "execution_count": 83,
   "id": "e11568be",
   "metadata": {},
   "outputs": [
    {
     "data": {
      "text/plain": [
       "[1, 2, 3, 4]"
      ]
     },
     "execution_count": 83,
     "metadata": {},
     "output_type": "execute_result"
    }
   ],
   "source": [
    "a"
   ]
  },
  {
   "cell_type": "code",
   "execution_count": 84,
   "id": "95ee5e65",
   "metadata": {},
   "outputs": [],
   "source": [
    "a.extend([5]) #5가 요소값으로 들어감"
   ]
  },
  {
   "cell_type": "code",
   "execution_count": 85,
   "id": "fe896d36",
   "metadata": {},
   "outputs": [
    {
     "data": {
      "text/plain": [
       "[1, 2, 3, 4, 5]"
      ]
     },
     "execution_count": 85,
     "metadata": {},
     "output_type": "execute_result"
    }
   ],
   "source": [
    "a"
   ]
  },
  {
   "cell_type": "code",
   "execution_count": 3,
   "id": "007acd4b",
   "metadata": {},
   "outputs": [
    {
     "data": {
      "text/plain": [
       "[1, 2, 3, 4, 5, 6]"
      ]
     },
     "execution_count": 3,
     "metadata": {},
     "output_type": "execute_result"
    }
   ],
   "source": [
    "a = [1, 2, 3]\n",
    "a.extend([4, 5, 6])\n",
    "a #여러 요소도 붙여넣을 수 있음"
   ]
  },
  {
   "cell_type": "code",
   "execution_count": 86,
   "id": "041a3c59",
   "metadata": {},
   "outputs": [
    {
     "data": {
      "text/plain": [
       "[1, 2, 3, 4, 5, 5]"
      ]
     },
     "execution_count": 86,
     "metadata": {},
     "output_type": "execute_result"
    }
   ],
   "source": [
    "a + [5]"
   ]
  },
  {
   "cell_type": "code",
   "execution_count": 87,
   "id": "dc7b9f11",
   "metadata": {},
   "outputs": [],
   "source": [
    "b = [6, 7]"
   ]
  },
  {
   "cell_type": "code",
   "execution_count": 88,
   "id": "05b5c814",
   "metadata": {},
   "outputs": [],
   "source": [
    "a.extend(b)"
   ]
  },
  {
   "cell_type": "code",
   "execution_count": 89,
   "id": "5a98cb35",
   "metadata": {},
   "outputs": [
    {
     "data": {
      "text/plain": [
       "[1, 2, 3, 4, 5, 6, 7]"
      ]
     },
     "execution_count": 89,
     "metadata": {},
     "output_type": "execute_result"
    }
   ],
   "source": [
    "a"
   ]
  },
  {
   "cell_type": "markdown",
   "id": "1ffed160",
   "metadata": {},
   "source": [
    "#### (4) 추가"
   ]
  },
  {
   "cell_type": "code",
   "execution_count": 4,
   "id": "96df4edc",
   "metadata": {},
   "outputs": [
    {
     "data": {
      "text/plain": [
       "55"
      ]
     },
     "execution_count": 4,
     "metadata": {},
     "output_type": "execute_result"
    }
   ],
   "source": [
    "#sum(): 리스트의 모든 값 합\n",
    "a = [1, 2, 3, 4, 5, 6, 7, 8, 9, 10]\n",
    "sum(a)"
   ]
  },
  {
   "cell_type": "code",
   "execution_count": 6,
   "id": "dda4cbda",
   "metadata": {},
   "outputs": [
    {
     "data": {
      "text/plain": [
       "[]"
      ]
     },
     "execution_count": 6,
     "metadata": {},
     "output_type": "execute_result"
    }
   ],
   "source": [
    "#clear(): 리스트의 모든 값 삭제\n",
    "a = [1, 2, 3, 4, 5, 6, 7, 8, 9, 10]\n",
    "a.clear()\n",
    "a"
   ]
  },
  {
   "cell_type": "markdown",
   "id": "ef65a0f6",
   "metadata": {},
   "source": [
    "## 4) 튜플자료형\n",
    "- 소괄호로 둘러싸여있음() --> 괄호는 선언 시에 생략가능\n",
    "- 요소를 하나만 넣으면 그냥 숫자로 인식하기 때문에 꼭 쉼표를 넣어주어야 함\n",
    "- 구분자 쉼표\n",
    "- 인덱싱과 슬라이싱 가능\n",
    "- <b>단, 요소의 값을 수정 및 변경할 수 없음</b>"
   ]
  },
  {
   "cell_type": "code",
   "execution_count": 93,
   "id": "788c7a59",
   "metadata": {},
   "outputs": [],
   "source": [
    "t1 = () #괄호사용"
   ]
  },
  {
   "cell_type": "code",
   "execution_count": 94,
   "id": "d4773134",
   "metadata": {},
   "outputs": [],
   "source": [
    "t2 = (1)"
   ]
  },
  {
   "cell_type": "code",
   "execution_count": 95,
   "id": "1b81a49e",
   "metadata": {},
   "outputs": [
    {
     "data": {
      "text/plain": [
       "1"
      ]
     },
     "execution_count": 95,
     "metadata": {},
     "output_type": "execute_result"
    }
   ],
   "source": [
    "t2 #요소를 하나만 넣으면 그냥 숫자로 인식한다"
   ]
  },
  {
   "cell_type": "code",
   "execution_count": 96,
   "id": "501f78aa",
   "metadata": {},
   "outputs": [],
   "source": [
    "#튜플로 인식시키고 싶으면 쉽표넣기\n",
    "t2 = (1, )"
   ]
  },
  {
   "cell_type": "code",
   "execution_count": 97,
   "id": "a89ef8d2",
   "metadata": {},
   "outputs": [],
   "source": [
    "t3 = (1, 2, 3)"
   ]
  },
  {
   "cell_type": "code",
   "execution_count": 100,
   "id": "025a895e",
   "metadata": {},
   "outputs": [
    {
     "data": {
      "text/plain": [
       "(1, 2, 3)"
      ]
     },
     "execution_count": 100,
     "metadata": {},
     "output_type": "execute_result"
    }
   ],
   "source": [
    "t3"
   ]
  },
  {
   "cell_type": "code",
   "execution_count": 98,
   "id": "49c40074",
   "metadata": {},
   "outputs": [],
   "source": [
    "t4 = 1, 2, 3 #괄호 생략가능"
   ]
  },
  {
   "cell_type": "code",
   "execution_count": 99,
   "id": "aa528e7e",
   "metadata": {},
   "outputs": [
    {
     "data": {
      "text/plain": [
       "(1, 2, 3)"
      ]
     },
     "execution_count": 99,
     "metadata": {},
     "output_type": "execute_result"
    }
   ],
   "source": [
    "t4"
   ]
  },
  {
   "cell_type": "code",
   "execution_count": 101,
   "id": "3af9c928",
   "metadata": {},
   "outputs": [],
   "source": [
    "t5 = (1, 2, ('a', 'b'))"
   ]
  },
  {
   "cell_type": "code",
   "execution_count": 102,
   "id": "859a36dd",
   "metadata": {},
   "outputs": [
    {
     "data": {
      "text/plain": [
       "(1, 2, ('a', 'b'))"
      ]
     },
     "execution_count": 102,
     "metadata": {},
     "output_type": "execute_result"
    }
   ],
   "source": [
    "t5"
   ]
  },
  {
   "cell_type": "code",
   "execution_count": 103,
   "id": "095e4502",
   "metadata": {},
   "outputs": [
    {
     "data": {
      "text/plain": [
       "1"
      ]
     },
     "execution_count": 103,
     "metadata": {},
     "output_type": "execute_result"
    }
   ],
   "source": [
    "#인덱싱 및 슬라이싱 가능 그러나 수정 및 삭제 불가능\n",
    "#인덱싱\n",
    "t5[0]"
   ]
  },
  {
   "cell_type": "code",
   "execution_count": 104,
   "id": "6d14f1f5",
   "metadata": {},
   "outputs": [
    {
     "ename": "TypeError",
     "evalue": "'tuple' object does not support item assignment",
     "output_type": "error",
     "traceback": [
      "\u001b[1;31m---------------------------------------------------------------------------\u001b[0m",
      "\u001b[1;31mTypeError\u001b[0m                                 Traceback (most recent call last)",
      "\u001b[1;32mC:\\Users\\MINALA~1.DES\\AppData\\Local\\Temp/ipykernel_952/3883693444.py\u001b[0m in \u001b[0;36m<module>\u001b[1;34m\u001b[0m\n\u001b[1;32m----> 1\u001b[1;33m \u001b[0mt5\u001b[0m\u001b[1;33m[\u001b[0m\u001b[1;36m0\u001b[0m\u001b[1;33m]\u001b[0m \u001b[1;33m=\u001b[0m \u001b[1;36m2\u001b[0m\u001b[1;33m\u001b[0m\u001b[1;33m\u001b[0m\u001b[0m\n\u001b[0m",
      "\u001b[1;31mTypeError\u001b[0m: 'tuple' object does not support item assignment"
     ]
    }
   ],
   "source": [
    "t5[0] = 2 #튜플은 값을 수정할 수 없다."
   ]
  },
  {
   "cell_type": "code",
   "execution_count": 105,
   "id": "0364edc8",
   "metadata": {},
   "outputs": [
    {
     "ename": "TypeError",
     "evalue": "'tuple' object doesn't support item deletion",
     "output_type": "error",
     "traceback": [
      "\u001b[1;31m---------------------------------------------------------------------------\u001b[0m",
      "\u001b[1;31mTypeError\u001b[0m                                 Traceback (most recent call last)",
      "\u001b[1;32mC:\\Users\\MINALA~1.DES\\AppData\\Local\\Temp/ipykernel_952/1801311628.py\u001b[0m in \u001b[0;36m<module>\u001b[1;34m\u001b[0m\n\u001b[1;32m----> 1\u001b[1;33m \u001b[1;32mdel\u001b[0m \u001b[0mt5\u001b[0m\u001b[1;33m[\u001b[0m\u001b[1;36m0\u001b[0m\u001b[1;33m]\u001b[0m\u001b[1;33m\u001b[0m\u001b[1;33m\u001b[0m\u001b[0m\n\u001b[0m",
      "\u001b[1;31mTypeError\u001b[0m: 'tuple' object doesn't support item deletion"
     ]
    }
   ],
   "source": [
    "del t5[0] #튜플은 값을 삭제할 수도 없다."
   ]
  },
  {
   "cell_type": "code",
   "execution_count": 106,
   "id": "398ac905",
   "metadata": {},
   "outputs": [
    {
     "data": {
      "text/plain": [
       "(1, 2, ('a', 'b'))"
      ]
     },
     "execution_count": 106,
     "metadata": {},
     "output_type": "execute_result"
    }
   ],
   "source": [
    "t5"
   ]
  },
  {
   "cell_type": "code",
   "execution_count": 107,
   "id": "6dacef2b",
   "metadata": {},
   "outputs": [
    {
     "data": {
      "text/plain": [
       "'a'"
      ]
     },
     "execution_count": 107,
     "metadata": {},
     "output_type": "execute_result"
    }
   ],
   "source": [
    "t5[-1][0] #인덱싱"
   ]
  },
  {
   "cell_type": "code",
   "execution_count": 108,
   "id": "1ca50970",
   "metadata": {},
   "outputs": [
    {
     "data": {
      "text/plain": [
       "(1, 2)"
      ]
     },
     "execution_count": 108,
     "metadata": {},
     "output_type": "execute_result"
    }
   ],
   "source": [
    "t5[:2] #슬라이싱"
   ]
  },
  {
   "cell_type": "code",
   "execution_count": 109,
   "id": "a94dde82",
   "metadata": {},
   "outputs": [
    {
     "data": {
      "text/plain": [
       "(1,)"
      ]
     },
     "execution_count": 109,
     "metadata": {},
     "output_type": "execute_result"
    }
   ],
   "source": [
    "t2"
   ]
  },
  {
   "cell_type": "code",
   "execution_count": 110,
   "id": "d7f921dd",
   "metadata": {},
   "outputs": [
    {
     "data": {
      "text/plain": [
       "(1, 2, ('a', 'b'), 1)"
      ]
     },
     "execution_count": 110,
     "metadata": {},
     "output_type": "execute_result"
    }
   ],
   "source": [
    "t5 + t2 #연산 가능"
   ]
  },
  {
   "cell_type": "code",
   "execution_count": 111,
   "id": "cc2fe335",
   "metadata": {},
   "outputs": [
    {
     "data": {
      "text/plain": [
       "(1, 1, 1)"
      ]
     },
     "execution_count": 111,
     "metadata": {},
     "output_type": "execute_result"
    }
   ],
   "source": [
    "t2 * 3 #곱셈도 가능"
   ]
  },
  {
   "cell_type": "code",
   "execution_count": 112,
   "id": "5bf5a29f",
   "metadata": {},
   "outputs": [
    {
     "data": {
      "text/plain": [
       "3"
      ]
     },
     "execution_count": 112,
     "metadata": {},
     "output_type": "execute_result"
    }
   ],
   "source": [
    "#길이 구하기\n",
    "len(t5)"
   ]
  },
  {
   "cell_type": "markdown",
   "id": "ca43b82c",
   "metadata": {},
   "source": [
    "### 5) 딕셔너리 자료형\n",
    "- 중괄호로 둘러싸여있음\n",
    "- key값과 value값의 쌍으로 이루어짐\n",
    "- 리스트는 요소에 접근할 때 0부터 시작하는 인덱스를 사용, 딕셔너리는 key를 사용하여 접근\n",
    "- 새로운 값을 입력하거나 딕셔너리 안에 있는 요소를 참조할 때 대괄호를 사용"
   ]
  },
  {
   "cell_type": "code",
   "execution_count": 113,
   "id": "a2668b41",
   "metadata": {},
   "outputs": [],
   "source": [
    "dic = {'name': 'aaa', 'birth': 1231}"
   ]
  },
  {
   "cell_type": "code",
   "execution_count": 114,
   "id": "a1fa716c",
   "metadata": {},
   "outputs": [
    {
     "data": {
      "text/plain": [
       "1231"
      ]
     },
     "execution_count": 114,
     "metadata": {},
     "output_type": "execute_result"
    }
   ],
   "source": [
    "#인덱싱: key값 활용\n",
    "dic['birth']"
   ]
  },
  {
   "cell_type": "code",
   "execution_count": 115,
   "id": "60ee9a63",
   "metadata": {},
   "outputs": [],
   "source": [
    "#값 추가\n",
    "dic['mobile']='01012345678'"
   ]
  },
  {
   "cell_type": "code",
   "execution_count": 116,
   "id": "b01d166c",
   "metadata": {},
   "outputs": [
    {
     "data": {
      "text/plain": [
       "{'name': 'aaa', 'birth': 1231, 'mobile': '01012345678'}"
      ]
     },
     "execution_count": 116,
     "metadata": {},
     "output_type": "execute_result"
    }
   ],
   "source": [
    "dic"
   ]
  },
  {
   "cell_type": "code",
   "execution_count": 117,
   "id": "3a79668d",
   "metadata": {},
   "outputs": [],
   "source": [
    "dic['a']=[1, 2, 3]"
   ]
  },
  {
   "cell_type": "code",
   "execution_count": 118,
   "id": "07654fc7",
   "metadata": {},
   "outputs": [
    {
     "data": {
      "text/plain": [
       "{'name': 'aaa', 'birth': 1231, 'mobile': '01012345678', 'a': [1, 2, 3]}"
      ]
     },
     "execution_count": 118,
     "metadata": {},
     "output_type": "execute_result"
    }
   ],
   "source": [
    "dic"
   ]
  },
  {
   "cell_type": "code",
   "execution_count": 119,
   "id": "83e4d0e1",
   "metadata": {},
   "outputs": [],
   "source": [
    "dic['b']=(2, 3, 4)"
   ]
  },
  {
   "cell_type": "code",
   "execution_count": 121,
   "id": "eccc1937",
   "metadata": {},
   "outputs": [
    {
     "data": {
      "text/plain": [
       "{'name': 'aaa',\n",
       " 'birth': 1231,\n",
       " 'mobile': '01012345678',\n",
       " 'a': [1, 2, 3],\n",
       " 'b': (2, 3, 4)}"
      ]
     },
     "execution_count": 121,
     "metadata": {},
     "output_type": "execute_result"
    }
   ],
   "source": [
    "dic"
   ]
  },
  {
   "cell_type": "code",
   "execution_count": 122,
   "id": "7eb08bfe",
   "metadata": {},
   "outputs": [
    {
     "ename": "TypeError",
     "evalue": "unhashable type: 'list'",
     "output_type": "error",
     "traceback": [
      "\u001b[1;31m---------------------------------------------------------------------------\u001b[0m",
      "\u001b[1;31mTypeError\u001b[0m                                 Traceback (most recent call last)",
      "\u001b[1;32mC:\\Users\\MINALA~1.DES\\AppData\\Local\\Temp/ipykernel_952/4211163970.py\u001b[0m in \u001b[0;36m<module>\u001b[1;34m\u001b[0m\n\u001b[1;32m----> 1\u001b[1;33m \u001b[0mdic\u001b[0m\u001b[1;33m[\u001b[0m\u001b[1;33m[\u001b[0m\u001b[1;36m1\u001b[0m\u001b[1;33m,\u001b[0m \u001b[1;36m2\u001b[0m\u001b[1;33m]\u001b[0m\u001b[1;33m]\u001b[0m\u001b[1;33m=\u001b[0m\u001b[1;34m'a'\u001b[0m\u001b[1;33m\u001b[0m\u001b[1;33m\u001b[0m\u001b[0m\n\u001b[0m",
      "\u001b[1;31mTypeError\u001b[0m: unhashable type: 'list'"
     ]
    }
   ],
   "source": [
    "dic[[1, 2]]='a' #key값으로는 list, tuple자료형 넣을 수 없다"
   ]
  },
  {
   "cell_type": "markdown",
   "id": "b526cd70",
   "metadata": {},
   "source": [
    "#### (1) 관련된 함수"
   ]
  },
  {
   "cell_type": "code",
   "execution_count": 123,
   "id": "a5da867e",
   "metadata": {},
   "outputs": [
    {
     "data": {
      "text/plain": [
       "dict_keys(['name', 'birth', 'mobile', 'a', 'b'])"
      ]
     },
     "execution_count": 123,
     "metadata": {},
     "output_type": "execute_result"
    }
   ],
   "source": [
    "#key값만 따로 추출해서 살펴보고 싶다.\n",
    "dic.keys()"
   ]
  },
  {
   "cell_type": "code",
   "execution_count": 124,
   "id": "c2e58bb2",
   "metadata": {},
   "outputs": [],
   "source": [
    "dic_keys=dic.keys()"
   ]
  },
  {
   "cell_type": "code",
   "execution_count": 125,
   "id": "0829cad3",
   "metadata": {},
   "outputs": [
    {
     "ename": "TypeError",
     "evalue": "'dict_keys' object is not subscriptable",
     "output_type": "error",
     "traceback": [
      "\u001b[1;31m---------------------------------------------------------------------------\u001b[0m",
      "\u001b[1;31mTypeError\u001b[0m                                 Traceback (most recent call last)",
      "\u001b[1;32mC:\\Users\\MINALA~1.DES\\AppData\\Local\\Temp/ipykernel_952/3471462219.py\u001b[0m in \u001b[0;36m<module>\u001b[1;34m\u001b[0m\n\u001b[1;32m----> 1\u001b[1;33m \u001b[0mdic_keys\u001b[0m\u001b[1;33m[\u001b[0m\u001b[1;36m2\u001b[0m\u001b[1;33m]\u001b[0m\u001b[1;33m\u001b[0m\u001b[1;33m\u001b[0m\u001b[0m\n\u001b[0m",
      "\u001b[1;31mTypeError\u001b[0m: 'dict_keys' object is not subscriptable"
     ]
    }
   ],
   "source": [
    "dic_keys[2] #인덱싱을 할 수 없다. 따라서 리스트 자료형으로 변환"
   ]
  },
  {
   "cell_type": "code",
   "execution_count": 126,
   "id": "4ca0936e",
   "metadata": {},
   "outputs": [],
   "source": [
    "dic_keys = list(dic_keys)"
   ]
  },
  {
   "cell_type": "code",
   "execution_count": 127,
   "id": "a0b6a701",
   "metadata": {},
   "outputs": [
    {
     "data": {
      "text/plain": [
       "['name', 'birth', 'mobile', 'a', 'b']"
      ]
     },
     "execution_count": 127,
     "metadata": {},
     "output_type": "execute_result"
    }
   ],
   "source": [
    "dic_keys"
   ]
  },
  {
   "cell_type": "code",
   "execution_count": 128,
   "id": "0c241984",
   "metadata": {},
   "outputs": [
    {
     "data": {
      "text/plain": [
       "'mobile'"
      ]
     },
     "execution_count": 128,
     "metadata": {},
     "output_type": "execute_result"
    }
   ],
   "source": [
    "dic_keys[2]"
   ]
  },
  {
   "cell_type": "code",
   "execution_count": 129,
   "id": "d71161d1",
   "metadata": {},
   "outputs": [
    {
     "data": {
      "text/plain": [
       "dict_values(['aaa', 1231, '01012345678', [1, 2, 3], (2, 3, 4)])"
      ]
     },
     "execution_count": 129,
     "metadata": {},
     "output_type": "execute_result"
    }
   ],
   "source": [
    "#value값만 따로 추출해서 살펴보고 싶다.\n",
    "dic.values()"
   ]
  },
  {
   "cell_type": "code",
   "execution_count": 130,
   "id": "ab375037",
   "metadata": {},
   "outputs": [
    {
     "data": {
      "text/plain": [
       "['aaa', 1231, '01012345678', [1, 2, 3], (2, 3, 4)]"
      ]
     },
     "execution_count": 130,
     "metadata": {},
     "output_type": "execute_result"
    }
   ],
   "source": [
    "list(dic.values())"
   ]
  },
  {
   "cell_type": "code",
   "execution_count": 131,
   "id": "95a14b6f",
   "metadata": {},
   "outputs": [
    {
     "data": {
      "text/plain": [
       "dict_items([('name', 'aaa'), ('birth', 1231), ('mobile', '01012345678'), ('a', [1, 2, 3]), ('b', (2, 3, 4))])"
      ]
     },
     "execution_count": 131,
     "metadata": {},
     "output_type": "execute_result"
    }
   ],
   "source": [
    "#각각을 튜플형태로 추출하고 싶다\n",
    "dic.items()"
   ]
  },
  {
   "cell_type": "code",
   "execution_count": 132,
   "id": "d4e898fb",
   "metadata": {},
   "outputs": [],
   "source": [
    "t_dic = tuple(dic.items())"
   ]
  },
  {
   "cell_type": "code",
   "execution_count": 133,
   "id": "bb63fb6a",
   "metadata": {},
   "outputs": [
    {
     "data": {
      "text/plain": [
       "(('name', 'aaa'),\n",
       " ('birth', 1231),\n",
       " ('mobile', '01012345678'),\n",
       " ('a', [1, 2, 3]),\n",
       " ('b', (2, 3, 4)))"
      ]
     },
     "execution_count": 133,
     "metadata": {},
     "output_type": "execute_result"
    }
   ],
   "source": [
    "t_dic"
   ]
  },
  {
   "cell_type": "code",
   "execution_count": 134,
   "id": "ceec8220",
   "metadata": {},
   "outputs": [
    {
     "data": {
      "text/plain": [
       "'aaa'"
      ]
     },
     "execution_count": 134,
     "metadata": {},
     "output_type": "execute_result"
    }
   ],
   "source": [
    "dic['name'] #key값으로 value값 찾기"
   ]
  },
  {
   "cell_type": "code",
   "execution_count": 135,
   "id": "feed52e5",
   "metadata": {},
   "outputs": [
    {
     "data": {
      "text/plain": [
       "'aaa'"
      ]
     },
     "execution_count": 135,
     "metadata": {},
     "output_type": "execute_result"
    }
   ],
   "source": [
    "dic.get('name')"
   ]
  },
  {
   "cell_type": "code",
   "execution_count": 136,
   "id": "c4066a1b",
   "metadata": {},
   "outputs": [],
   "source": [
    "dic.get('phone') #없는 key를 찾으면 아무것도 출력되지않음"
   ]
  },
  {
   "cell_type": "code",
   "execution_count": 137,
   "id": "a7d4b203",
   "metadata": {},
   "outputs": [
    {
     "ename": "KeyError",
     "evalue": "'phone'",
     "output_type": "error",
     "traceback": [
      "\u001b[1;31m---------------------------------------------------------------------------\u001b[0m",
      "\u001b[1;31mKeyError\u001b[0m                                  Traceback (most recent call last)",
      "\u001b[1;32mC:\\Users\\MINALA~1.DES\\AppData\\Local\\Temp/ipykernel_952/1002649648.py\u001b[0m in \u001b[0;36m<module>\u001b[1;34m\u001b[0m\n\u001b[1;32m----> 1\u001b[1;33m \u001b[0mdic\u001b[0m\u001b[1;33m[\u001b[0m\u001b[1;34m'phone'\u001b[0m\u001b[1;33m]\u001b[0m\u001b[1;33m\u001b[0m\u001b[1;33m\u001b[0m\u001b[0m\n\u001b[0m",
      "\u001b[1;31mKeyError\u001b[0m: 'phone'"
     ]
    }
   ],
   "source": [
    "dic['phone'] #대괄호로 찾으면 KeyError발생"
   ]
  },
  {
   "cell_type": "code",
   "execution_count": 138,
   "id": "1c0f7eaa",
   "metadata": {},
   "outputs": [
    {
     "data": {
      "text/plain": [
       "'9999'"
      ]
     },
     "execution_count": 138,
     "metadata": {},
     "output_type": "execute_result"
    }
   ],
   "source": [
    "#특정한 문구가 나왔으면 좋겠다\n",
    "dic.get('phone', '9999') #없을 때 9999발생"
   ]
  },
  {
   "cell_type": "code",
   "execution_count": 139,
   "id": "263114c6",
   "metadata": {},
   "outputs": [
    {
     "data": {
      "text/plain": [
       "'aaa'"
      ]
     },
     "execution_count": 139,
     "metadata": {},
     "output_type": "execute_result"
    }
   ],
   "source": [
    "dic.get('name', '9999') #있을 땐 해당하는 value값 출력됨\n",
    "#for문 돌면서 찾을 때 없는 경우 설정할 수 있음"
   ]
  },
  {
   "cell_type": "code",
   "execution_count": 140,
   "id": "989f3de1",
   "metadata": {},
   "outputs": [
    {
     "data": {
      "text/plain": [
       "True"
      ]
     },
     "execution_count": 140,
     "metadata": {},
     "output_type": "execute_result"
    }
   ],
   "source": [
    "'name' in dic"
   ]
  },
  {
   "cell_type": "code",
   "execution_count": 141,
   "id": "c1ad91cb",
   "metadata": {},
   "outputs": [
    {
     "data": {
      "text/plain": [
       "False"
      ]
     },
     "execution_count": 141,
     "metadata": {},
     "output_type": "execute_result"
    }
   ],
   "source": [
    "'phone' in dic"
   ]
  },
  {
   "cell_type": "code",
   "execution_count": 142,
   "id": "91912538",
   "metadata": {},
   "outputs": [
    {
     "data": {
      "text/plain": [
       "False"
      ]
     },
     "execution_count": 142,
     "metadata": {},
     "output_type": "execute_result"
    }
   ],
   "source": [
    "1231 in dic #value값으로는 찾을 수 없다."
   ]
  },
  {
   "cell_type": "markdown",
   "id": "9bc053bf",
   "metadata": {},
   "source": [
    "### 6) 집합 자료형\n",
    "- 선언 할 때는 set(['요소1', '요소2']) 출력 시에는 중괄호로 둘러싸임{}\n",
    "- 교집합, 차집합, 합집합과 같은 집합 연산 가능\n",
    "- <b>중복된 요소를 가질 수 없음(unique word구할 때 좋음)</b>\n",
    "- <b>요소의 순서가 존재하지 않음(인덱싱과 슬라이싱 불가능)</b>"
   ]
  },
  {
   "cell_type": "code",
   "execution_count": 143,
   "id": "c78e9fc7",
   "metadata": {},
   "outputs": [],
   "source": [
    "s1 = set([1, 2, 3])"
   ]
  },
  {
   "cell_type": "code",
   "execution_count": 144,
   "id": "a70e662a",
   "metadata": {},
   "outputs": [
    {
     "data": {
      "text/plain": [
       "{1, 2, 3}"
      ]
     },
     "execution_count": 144,
     "metadata": {},
     "output_type": "execute_result"
    }
   ],
   "source": [
    "s1 #표시는 중괄호"
   ]
  },
  {
   "cell_type": "code",
   "execution_count": 145,
   "id": "f45ec582",
   "metadata": {},
   "outputs": [],
   "source": [
    "s2 = set(\"Hello\")"
   ]
  },
  {
   "cell_type": "code",
   "execution_count": 146,
   "id": "07cb6115",
   "metadata": {},
   "outputs": [
    {
     "data": {
      "text/plain": [
       "{'H', 'e', 'l', 'o'}"
      ]
     },
     "execution_count": 146,
     "metadata": {},
     "output_type": "execute_result"
    }
   ],
   "source": [
    "s2 #각 스펠들이 쪼개져서 들어가게 됨.\n",
    "# 중복을 허용하지 않는다.\n",
    "# 순서가 없다(인덱싱과 슬라이싱이 불가능)"
   ]
  },
  {
   "cell_type": "code",
   "execution_count": 147,
   "id": "b3a5aee7",
   "metadata": {},
   "outputs": [
    {
     "ename": "TypeError",
     "evalue": "'set' object is not subscriptable",
     "output_type": "error",
     "traceback": [
      "\u001b[1;31m---------------------------------------------------------------------------\u001b[0m",
      "\u001b[1;31mTypeError\u001b[0m                                 Traceback (most recent call last)",
      "\u001b[1;32mC:\\Users\\MINALA~1.DES\\AppData\\Local\\Temp/ipykernel_952/2344841457.py\u001b[0m in \u001b[0;36m<module>\u001b[1;34m\u001b[0m\n\u001b[1;32m----> 1\u001b[1;33m \u001b[0ms2\u001b[0m\u001b[1;33m[\u001b[0m\u001b[1;36m0\u001b[0m\u001b[1;33m]\u001b[0m\u001b[1;33m\u001b[0m\u001b[1;33m\u001b[0m\u001b[0m\n\u001b[0m",
      "\u001b[1;31mTypeError\u001b[0m: 'set' object is not subscriptable"
     ]
    }
   ],
   "source": [
    "s2[0]"
   ]
  },
  {
   "cell_type": "code",
   "execution_count": 148,
   "id": "02dcc75d",
   "metadata": {},
   "outputs": [],
   "source": [
    "s1 = set([1, 2, 3, 4, 5, 6])\n",
    "s2 = set([4, 5, 6, 7, 8, 9])"
   ]
  },
  {
   "cell_type": "code",
   "execution_count": 149,
   "id": "6ad17dc0",
   "metadata": {},
   "outputs": [
    {
     "data": {
      "text/plain": [
       "{4, 5, 6}"
      ]
     },
     "execution_count": 149,
     "metadata": {},
     "output_type": "execute_result"
    }
   ],
   "source": [
    "###교집합, 합집합, 차집합\n",
    "#교집합\n",
    "s1 & s2"
   ]
  },
  {
   "cell_type": "code",
   "execution_count": 150,
   "id": "38861502",
   "metadata": {},
   "outputs": [
    {
     "data": {
      "text/plain": [
       "{4, 5, 6}"
      ]
     },
     "execution_count": 150,
     "metadata": {},
     "output_type": "execute_result"
    }
   ],
   "source": [
    "s1.intersection(s2) #함수사용"
   ]
  },
  {
   "cell_type": "code",
   "execution_count": 151,
   "id": "7b987cf4",
   "metadata": {},
   "outputs": [
    {
     "data": {
      "text/plain": [
       "{4, 5, 6}"
      ]
     },
     "execution_count": 151,
     "metadata": {},
     "output_type": "execute_result"
    }
   ],
   "source": [
    "s2.intersection(s1) #교집합은 순서 바꿔도 동일"
   ]
  },
  {
   "cell_type": "code",
   "execution_count": 152,
   "id": "1e9c49da",
   "metadata": {},
   "outputs": [
    {
     "data": {
      "text/plain": [
       "{4, 5, 6}"
      ]
     },
     "execution_count": 152,
     "metadata": {},
     "output_type": "execute_result"
    }
   ],
   "source": [
    "s2 & s1"
   ]
  },
  {
   "cell_type": "code",
   "execution_count": 153,
   "id": "ea2d5edc",
   "metadata": {},
   "outputs": [
    {
     "data": {
      "text/plain": [
       "{1, 2, 3, 4, 5, 6, 7, 8, 9}"
      ]
     },
     "execution_count": 153,
     "metadata": {},
     "output_type": "execute_result"
    }
   ],
   "source": [
    "#합집합\n",
    "s1 | s2 #|는 vertical bar, or에 해당하는 기호로 사용한다."
   ]
  },
  {
   "cell_type": "code",
   "execution_count": 154,
   "id": "85f751b3",
   "metadata": {},
   "outputs": [
    {
     "data": {
      "text/plain": [
       "{1, 2, 3, 4, 5, 6, 7, 8, 9}"
      ]
     },
     "execution_count": 154,
     "metadata": {},
     "output_type": "execute_result"
    }
   ],
   "source": [
    "s1.union(s2)"
   ]
  },
  {
   "cell_type": "code",
   "execution_count": 155,
   "id": "43c4c57e",
   "metadata": {},
   "outputs": [
    {
     "data": {
      "text/plain": [
       "{1, 2, 3}"
      ]
     },
     "execution_count": 155,
     "metadata": {},
     "output_type": "execute_result"
    }
   ],
   "source": [
    "#차집합\n",
    "s1 - s2 #순서에 주의할 것"
   ]
  },
  {
   "cell_type": "code",
   "execution_count": 156,
   "id": "f3307616",
   "metadata": {},
   "outputs": [
    {
     "data": {
      "text/plain": [
       "{1, 2, 3}"
      ]
     },
     "execution_count": 156,
     "metadata": {},
     "output_type": "execute_result"
    }
   ],
   "source": [
    "s1.difference(s2)"
   ]
  },
  {
   "cell_type": "code",
   "execution_count": 157,
   "id": "83a93368",
   "metadata": {},
   "outputs": [
    {
     "data": {
      "text/plain": [
       "{7, 8, 9}"
      ]
     },
     "execution_count": 157,
     "metadata": {},
     "output_type": "execute_result"
    }
   ],
   "source": [
    "s2.difference(s1)"
   ]
  },
  {
   "cell_type": "code",
   "execution_count": 158,
   "id": "f4197c9f",
   "metadata": {},
   "outputs": [
    {
     "data": {
      "text/plain": [
       "{7, 8, 9}"
      ]
     },
     "execution_count": 158,
     "metadata": {},
     "output_type": "execute_result"
    }
   ],
   "source": [
    "s2 - s1"
   ]
  },
  {
   "cell_type": "markdown",
   "id": "03a76ee0",
   "metadata": {},
   "source": [
    "주요함수 알아보기"
   ]
  },
  {
   "cell_type": "code",
   "execution_count": 159,
   "id": "7e652e7a",
   "metadata": {},
   "outputs": [],
   "source": [
    "#값추가 add(한개의 값만 추가)\n",
    "s1.add(7)"
   ]
  },
  {
   "cell_type": "code",
   "execution_count": 161,
   "id": "772e4456",
   "metadata": {},
   "outputs": [
    {
     "data": {
      "text/plain": [
       "{1, 2, 3, 4, 5, 6, 7}"
      ]
     },
     "execution_count": 161,
     "metadata": {},
     "output_type": "execute_result"
    }
   ],
   "source": [
    "s1"
   ]
  },
  {
   "cell_type": "code",
   "execution_count": 162,
   "id": "e0b87bb1",
   "metadata": {},
   "outputs": [],
   "source": [
    "#여러개의 값을 추가하고 싶다: update\n",
    "s1.update([8, 9, 10]) #리스트 , 튜플 가능"
   ]
  },
  {
   "cell_type": "code",
   "execution_count": 164,
   "id": "ef1e0a5c",
   "metadata": {},
   "outputs": [
    {
     "data": {
      "text/plain": [
       "{1, 2, 3, 4, 5, 6, 7, 8, 9, 10}"
      ]
     },
     "execution_count": 164,
     "metadata": {},
     "output_type": "execute_result"
    }
   ],
   "source": [
    "s1"
   ]
  },
  {
   "cell_type": "code",
   "execution_count": 165,
   "id": "6a69b454",
   "metadata": {},
   "outputs": [],
   "source": [
    "#remove함수\n",
    "s1.remove(3)"
   ]
  },
  {
   "cell_type": "code",
   "execution_count": 166,
   "id": "e52cde60",
   "metadata": {},
   "outputs": [
    {
     "data": {
      "text/plain": [
       "{1, 2, 4, 5, 6, 7, 8, 9, 10}"
      ]
     },
     "execution_count": 166,
     "metadata": {},
     "output_type": "execute_result"
    }
   ],
   "source": [
    "s1"
   ]
  },
  {
   "cell_type": "markdown",
   "id": "fc7f6e55",
   "metadata": {},
   "source": [
    "### 7) 불자료형"
   ]
  },
  {
   "cell_type": "markdown",
   "id": "c2e7974f",
   "metadata": {},
   "source": [
    "- True, False 값만 가질 수 있음  \n",
    "- 조건문의 반환값으로 사용된다"
   ]
  },
  {
   "cell_type": "code",
   "execution_count": 167,
   "id": "35a63947",
   "metadata": {},
   "outputs": [],
   "source": [
    "a = True"
   ]
  },
  {
   "cell_type": "code",
   "execution_count": 168,
   "id": "8372d608",
   "metadata": {},
   "outputs": [
    {
     "data": {
      "text/plain": [
       "bool"
      ]
     },
     "execution_count": 168,
     "metadata": {},
     "output_type": "execute_result"
    }
   ],
   "source": [
    "type(a)"
   ]
  },
  {
   "cell_type": "code",
   "execution_count": 169,
   "id": "c2a4a3a0",
   "metadata": {},
   "outputs": [
    {
     "data": {
      "text/plain": [
       "True"
      ]
     },
     "execution_count": 169,
     "metadata": {},
     "output_type": "execute_result"
    }
   ],
   "source": [
    "1 == 1"
   ]
  },
  {
   "cell_type": "code",
   "execution_count": 170,
   "id": "c5d5358d",
   "metadata": {},
   "outputs": [
    {
     "data": {
      "text/plain": [
       "True"
      ]
     },
     "execution_count": 170,
     "metadata": {},
     "output_type": "execute_result"
    }
   ],
   "source": [
    "#자료형에 따라 참과 거짓이 있다\n",
    "'''문자열은 값이 뭐라도 하나 있으면 참 비어있으면 거짓'''\n",
    "bool(\"abc\")"
   ]
  },
  {
   "cell_type": "code",
   "execution_count": 171,
   "id": "9fdf953a",
   "metadata": {},
   "outputs": [
    {
     "data": {
      "text/plain": [
       "False"
      ]
     },
     "execution_count": 171,
     "metadata": {},
     "output_type": "execute_result"
    }
   ],
   "source": [
    "bool()"
   ]
  },
  {
   "cell_type": "code",
   "execution_count": 172,
   "id": "36085a25",
   "metadata": {},
   "outputs": [
    {
     "data": {
      "text/plain": [
       "True"
      ]
     },
     "execution_count": 172,
     "metadata": {},
     "output_type": "execute_result"
    }
   ],
   "source": [
    "bool([1, 2, 3]) #리스트도 안에 값이 있으면 참 비어있으면 거짓"
   ]
  },
  {
   "cell_type": "code",
   "execution_count": 173,
   "id": "63877c18",
   "metadata": {},
   "outputs": [
    {
     "data": {
      "text/plain": [
       "False"
      ]
     },
     "execution_count": 173,
     "metadata": {},
     "output_type": "execute_result"
    }
   ],
   "source": [
    "bool([])"
   ]
  },
  {
   "cell_type": "code",
   "execution_count": 174,
   "id": "a6c7f39c",
   "metadata": {},
   "outputs": [
    {
     "data": {
      "text/plain": [
       "True"
      ]
     },
     "execution_count": 174,
     "metadata": {},
     "output_type": "execute_result"
    }
   ],
   "source": [
    "bool((1, 2, 3))"
   ]
  },
  {
   "cell_type": "code",
   "execution_count": 175,
   "id": "8f924903",
   "metadata": {},
   "outputs": [
    {
     "data": {
      "text/plain": [
       "False"
      ]
     },
     "execution_count": 175,
     "metadata": {},
     "output_type": "execute_result"
    }
   ],
   "source": [
    "bool(())"
   ]
  },
  {
   "cell_type": "code",
   "execution_count": 176,
   "id": "bf5b83fa",
   "metadata": {},
   "outputs": [
    {
     "data": {
      "text/plain": [
       "False"
      ]
     },
     "execution_count": 176,
     "metadata": {},
     "output_type": "execute_result"
    }
   ],
   "source": [
    "bool({}) #딕셔너리도 마찬가지"
   ]
  },
  {
   "cell_type": "code",
   "execution_count": 177,
   "id": "d2d0d123",
   "metadata": {},
   "outputs": [
    {
     "data": {
      "text/plain": [
       "False"
      ]
     },
     "execution_count": 177,
     "metadata": {},
     "output_type": "execute_result"
    }
   ],
   "source": [
    "#숫자형은 비어있는 것을 만들 수 없으므로 none일 때 false\n",
    "bool(None)"
   ]
  },
  {
   "cell_type": "code",
   "execution_count": 178,
   "id": "9a2eaca5",
   "metadata": {},
   "outputs": [
    {
     "data": {
      "text/plain": [
       "True"
      ]
     },
     "execution_count": 178,
     "metadata": {},
     "output_type": "execute_result"
    }
   ],
   "source": [
    "bool(1)"
   ]
  },
  {
   "cell_type": "code",
   "execution_count": 179,
   "id": "876cfcdf",
   "metadata": {},
   "outputs": [
    {
     "data": {
      "text/plain": [
       "False"
      ]
     },
     "execution_count": 179,
     "metadata": {},
     "output_type": "execute_result"
    }
   ],
   "source": [
    "bool(0) \n",
    "#나중에 while문이나 조건문 나올 때 사용됨. 기억하기. 숫자0은 0도 거짓"
   ]
  },
  {
   "cell_type": "code",
   "execution_count": 182,
   "id": "013c79c4",
   "metadata": {},
   "outputs": [],
   "source": [
    "#문자열 질문\n",
    "str1 = \"abc\"\n",
    "str2 = 'abc'"
   ]
  },
  {
   "cell_type": "code",
   "execution_count": 183,
   "id": "9f0efb9e",
   "metadata": {},
   "outputs": [
    {
     "data": {
      "text/plain": [
       "'abc'"
      ]
     },
     "execution_count": 183,
     "metadata": {},
     "output_type": "execute_result"
    }
   ],
   "source": [
    "str1"
   ]
  },
  {
   "cell_type": "code",
   "execution_count": 184,
   "id": "3290fcc6",
   "metadata": {},
   "outputs": [
    {
     "data": {
      "text/plain": [
       "'abc'"
      ]
     },
     "execution_count": 184,
     "metadata": {},
     "output_type": "execute_result"
    }
   ],
   "source": [
    "str2"
   ]
  },
  {
   "cell_type": "code",
   "execution_count": 185,
   "id": "86c6d214",
   "metadata": {},
   "outputs": [],
   "source": [
    "str3=\"python's favorite...\""
   ]
  },
  {
   "cell_type": "code",
   "execution_count": 186,
   "id": "d775d0e7",
   "metadata": {},
   "outputs": [
    {
     "data": {
      "text/plain": [
       "\"python's favorite...\""
      ]
     },
     "execution_count": 186,
     "metadata": {},
     "output_type": "execute_result"
    }
   ],
   "source": [
    "str3 \n",
    "#문자열 안에 '이 있으므로 큰따옴표가 함께 출력된다."
   ]
  },
  {
   "cell_type": "code",
   "execution_count": 187,
   "id": "17c75add",
   "metadata": {},
   "outputs": [
    {
     "ename": "AttributeError",
     "evalue": "'str' object has no attribute 'append'",
     "output_type": "error",
     "traceback": [
      "\u001b[1;31m---------------------------------------------------------------------------\u001b[0m",
      "\u001b[1;31mAttributeError\u001b[0m                            Traceback (most recent call last)",
      "\u001b[1;32mC:\\Users\\MINALA~1.DES\\AppData\\Local\\Temp/ipykernel_952/3208339625.py\u001b[0m in \u001b[0;36m<module>\u001b[1;34m\u001b[0m\n\u001b[1;32m----> 1\u001b[1;33m \u001b[0mstr\u001b[0m\u001b[1;33m.\u001b[0m\u001b[0mappend\u001b[0m\u001b[1;33m(\u001b[0m\u001b[1;34m'a'\u001b[0m\u001b[1;33m)\u001b[0m\u001b[1;33m\u001b[0m\u001b[1;33m\u001b[0m\u001b[0m\n\u001b[0m",
      "\u001b[1;31mAttributeError\u001b[0m: 'str' object has no attribute 'append'"
     ]
    }
   ],
   "source": [
    "str.append('a')"
   ]
  },
  {
   "cell_type": "code",
   "execution_count": 2,
   "id": "73029cb9",
   "metadata": {},
   "outputs": [
    {
     "data": {
      "text/html": [
       "<style> .container{width:90% !important;}</style>"
      ],
      "text/plain": [
       "<IPython.core.display.HTML object>"
      ]
     },
     "metadata": {},
     "output_type": "display_data"
    }
   ],
   "source": [
    "#블로그에 올리려고 추가하는 코드\n",
    "from IPython.core.display import display, HTML\n",
    "display(HTML(\"<style> .container{width:90% !important;}</style>\"))"
   ]
  }
 ],
 "metadata": {
  "kernelspec": {
   "display_name": "Python 3 (ipykernel)",
   "language": "python",
   "name": "python3"
  },
  "language_info": {
   "codemirror_mode": {
    "name": "ipython",
    "version": 3
   },
   "file_extension": ".py",
   "mimetype": "text/x-python",
   "name": "python",
   "nbconvert_exporter": "python",
   "pygments_lexer": "ipython3",
   "version": "3.9.7"
  }
 },
 "nbformat": 4,
 "nbformat_minor": 5
}
