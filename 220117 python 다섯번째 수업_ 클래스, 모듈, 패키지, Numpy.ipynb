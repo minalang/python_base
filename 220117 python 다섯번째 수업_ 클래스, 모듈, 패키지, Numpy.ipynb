{
 "cells": [
  {
   "cell_type": "markdown",
   "id": "9e286692",
   "metadata": {},
   "source": [
    "# 220117 python 다섯번째 수업: 클래스, 모듈, 패키지, * Numpy *"
   ]
  },
  {
   "cell_type": "markdown",
   "id": "4e9a0945",
   "metadata": {},
   "source": [
    "### 1. 클래스\n",
    "클래스를 사용하지 않아도 구동할 수 있는 경우도 많다  \n",
    "필수적이지는 않지만 적재적소에 잘 사용하면 더 편리하게 사용할 수 있음  \n",
    "일단은 개념적인 이해를 선행하도록하자"
   ]
  },
  {
   "cell_type": "code",
   "execution_count": 1,
   "id": "9fa75ef3",
   "metadata": {},
   "outputs": [],
   "source": [
    "# 클래스의 필요성\n",
    "\n",
    "result = 0\n",
    "def add(num):\n",
    "    #괄호 안의 숫자가 들어오면 더해주게 만들기\n",
    "    global result\n",
    "    result += num\n",
    "    return result"
   ]
  },
  {
   "cell_type": "code",
   "execution_count": 2,
   "id": "5557382a",
   "metadata": {},
   "outputs": [
    {
     "name": "stdout",
     "output_type": "stream",
     "text": [
      "3\n",
      "7\n"
     ]
    }
   ],
   "source": [
    "print(add(3))\n",
    "print(add(4))"
   ]
  },
  {
   "cell_type": "code",
   "execution_count": 4,
   "id": "b617e88a",
   "metadata": {},
   "outputs": [],
   "source": [
    "# 클래스\n",
    "\n",
    "# 두 개의 계산기로 사용하기 위해서는 두 개의 함수가 필요하다\n",
    "# 그때마다 추가하면 너무 번거롭지않을까?\n",
    "\n",
    "result1 = 0\n",
    "result2 = 0\n",
    "\n",
    "def add1(num):\n",
    "    #괄호 안의 숫자가 들어오면 더해주게 만들기\n",
    "    global result1\n",
    "    result1 += num\n",
    "    return result1\n",
    "\n",
    "def add2(num):\n",
    "    #괄호 안의 숫자가 들어오면 더해주게 만들기\n",
    "    global result2\n",
    "    result2 += num\n",
    "    return result2"
   ]
  },
  {
   "cell_type": "code",
   "execution_count": 5,
   "id": "da5cec40",
   "metadata": {},
   "outputs": [
    {
     "name": "stdout",
     "output_type": "stream",
     "text": [
      "3\n",
      "7\n",
      "5\n",
      "11\n"
     ]
    }
   ],
   "source": [
    "print(add1(3))\n",
    "print(add1(4))\n",
    "print(add2(5))\n",
    "print(add2(6))"
   ]
  },
  {
   "cell_type": "code",
   "execution_count": 6,
   "id": "e9b9b7c9",
   "metadata": {},
   "outputs": [],
   "source": [
    "# 클래스 만들어보기\n",
    "class Calculator:\n",
    "    def __init__(self):\n",
    "        self.result = 0 # 초기값을 주기\n",
    "        #클래스 안에 있으니까 시작 값이 늘 0이 된다.\n",
    "    def add(self, num):\n",
    "        self.result += num\n",
    "        return self.result\n",
    "    "
   ]
  },
  {
   "cell_type": "code",
   "execution_count": 11,
   "id": "de7a8c41",
   "metadata": {},
   "outputs": [],
   "source": [
    "# 클래스 호출하기\n",
    "cal1 = Calculator()"
   ]
  },
  {
   "cell_type": "code",
   "execution_count": 12,
   "id": "65621fc0",
   "metadata": {},
   "outputs": [
    {
     "name": "stdout",
     "output_type": "stream",
     "text": [
      "3\n",
      "7\n"
     ]
    }
   ],
   "source": [
    "print(cal1.add(3)) #syntax: 변수.함수\n",
    "print(cal1.add(4))\n",
    "#예: a.upper() 이렇게"
   ]
  },
  {
   "cell_type": "code",
   "execution_count": 13,
   "id": "9adb4bbb",
   "metadata": {},
   "outputs": [],
   "source": [
    "# 초기화하고싶다면? 다른 변수로 새롭게 불러오면 된다.\n",
    "cal2 = Calculator()"
   ]
  },
  {
   "cell_type": "code",
   "execution_count": 14,
   "id": "c78dce15",
   "metadata": {},
   "outputs": [
    {
     "name": "stdout",
     "output_type": "stream",
     "text": [
      "5\n",
      "11\n"
     ]
    }
   ],
   "source": [
    "print(cal2.add(5)) #syntax: 변수.함수\n",
    "print(cal2.add(6))"
   ]
  },
  {
   "cell_type": "markdown",
   "id": "e42151e8",
   "metadata": {},
   "source": [
    "반복적인 함수를 만들어줄 때 클래스를 만들어준다."
   ]
  },
  {
   "cell_type": "markdown",
   "id": "f8a6efdd",
   "metadata": {},
   "source": [
    "## 2. 모듈\n",
    "클래스보다 상위개념   \n",
    "클래스, 함수, 외장함수(함수를 불러와야사용할 수 있음), 내장함수(바로 사용가능한 함수)  \n"
   ]
  },
  {
   "cell_type": "code",
   "execution_count": 15,
   "id": "456d9fd6",
   "metadata": {},
   "outputs": [],
   "source": [
    "import os\n",
    "#사용할 수 있는 함수, 클래스 등이 모아져있음\n",
    "#import하여 사용함\n",
    "\n",
    "######syntax######\n",
    "# from collections import ___: from 모듈이름 import 모듈 안 함수이름\n",
    "# sys.bulletin_module_names: 모듈이름.모듈 안 함수 이름"
   ]
  },
  {
   "cell_type": "markdown",
   "id": "dbecd27d",
   "metadata": {},
   "source": [
    "## 3. 패키지\n",
    "모듈보다 상위개념(지금까지 가장 상위의 개념)  \n",
    "계층적으로 모듈, 클래스, 함수, 변수가 들어있는 경우  \n",
    ".을 사용함. numpy, pandas 등을 패키지라고 함   "
   ]
  },
  {
   "cell_type": "markdown",
   "id": "3c0db31b",
   "metadata": {},
   "source": [
    "## 4. 예외처리\n",
    "오류를 어떻게 핸들링할 것인가?  \n",
    "오류를 문제없이 넘어가기 위해"
   ]
  },
  {
   "cell_type": "code",
   "execution_count": 16,
   "id": "12fd0c6d",
   "metadata": {},
   "outputs": [
    {
     "ename": "FileNotFoundError",
     "evalue": "[Errno 2] No such file or directory: '없는 파일'",
     "output_type": "error",
     "traceback": [
      "\u001b[1;31m---------------------------------------------------------------------------\u001b[0m",
      "\u001b[1;31mFileNotFoundError\u001b[0m                         Traceback (most recent call last)",
      "\u001b[1;32mC:\\Users\\MINALA~1.DES\\AppData\\Local\\Temp/ipykernel_13124/4031133636.py\u001b[0m in \u001b[0;36m<module>\u001b[1;34m\u001b[0m\n\u001b[0;32m      1\u001b[0m \u001b[1;31m# 대표적인 오류들\u001b[0m\u001b[1;33m\u001b[0m\u001b[1;33m\u001b[0m\u001b[0m\n\u001b[1;32m----> 2\u001b[1;33m \u001b[0mf\u001b[0m \u001b[1;33m=\u001b[0m \u001b[0mopen\u001b[0m\u001b[1;33m(\u001b[0m\u001b[1;34m'없는 파일'\u001b[0m\u001b[1;33m,\u001b[0m \u001b[1;34m'r'\u001b[0m\u001b[1;33m)\u001b[0m\u001b[1;33m\u001b[0m\u001b[1;33m\u001b[0m\u001b[0m\n\u001b[0m",
      "\u001b[1;31mFileNotFoundError\u001b[0m: [Errno 2] No such file or directory: '없는 파일'"
     ]
    }
   ],
   "source": [
    "# 대표적인 오류들\n",
    "f = open('없는 파일', 'r')\n",
    "# FileNotFoundError"
   ]
  },
  {
   "cell_type": "code",
   "execution_count": 17,
   "id": "bab0454b",
   "metadata": {},
   "outputs": [
    {
     "ename": "ZeroDivisionError",
     "evalue": "division by zero",
     "output_type": "error",
     "traceback": [
      "\u001b[1;31m---------------------------------------------------------------------------\u001b[0m",
      "\u001b[1;31mZeroDivisionError\u001b[0m                         Traceback (most recent call last)",
      "\u001b[1;32mC:\\Users\\MINALA~1.DES\\AppData\\Local\\Temp/ipykernel_13124/2293179708.py\u001b[0m in \u001b[0;36m<module>\u001b[1;34m\u001b[0m\n\u001b[1;32m----> 1\u001b[1;33m \u001b[1;36m4\u001b[0m \u001b[1;33m/\u001b[0m \u001b[1;36m0\u001b[0m\u001b[1;33m\u001b[0m\u001b[1;33m\u001b[0m\u001b[0m\n\u001b[0m",
      "\u001b[1;31mZeroDivisionError\u001b[0m: division by zero"
     ]
    }
   ],
   "source": [
    "# ZeroDivisionError\n",
    "4 / 0"
   ]
  },
  {
   "cell_type": "code",
   "execution_count": 18,
   "id": "6ffd49d6",
   "metadata": {},
   "outputs": [
    {
     "ename": "IndexError",
     "evalue": "list index out of range",
     "output_type": "error",
     "traceback": [
      "\u001b[1;31m---------------------------------------------------------------------------\u001b[0m",
      "\u001b[1;31mIndexError\u001b[0m                                Traceback (most recent call last)",
      "\u001b[1;32mC:\\Users\\MINALA~1.DES\\AppData\\Local\\Temp/ipykernel_13124/183376444.py\u001b[0m in \u001b[0;36m<module>\u001b[1;34m\u001b[0m\n\u001b[0;32m      1\u001b[0m \u001b[0ma\u001b[0m \u001b[1;33m=\u001b[0m \u001b[1;33m[\u001b[0m\u001b[1;36m1\u001b[0m\u001b[1;33m,\u001b[0m \u001b[1;36m2\u001b[0m\u001b[1;33m,\u001b[0m \u001b[1;36m3\u001b[0m\u001b[1;33m]\u001b[0m\u001b[1;33m\u001b[0m\u001b[1;33m\u001b[0m\u001b[0m\n\u001b[1;32m----> 2\u001b[1;33m \u001b[0ma\u001b[0m\u001b[1;33m[\u001b[0m\u001b[1;36m3\u001b[0m\u001b[1;33m]\u001b[0m\u001b[1;33m\u001b[0m\u001b[1;33m\u001b[0m\u001b[0m\n\u001b[0m",
      "\u001b[1;31mIndexError\u001b[0m: list index out of range"
     ]
    }
   ],
   "source": [
    "# IndexError \n",
    "a = [1, 2, 3]\n",
    "a[3]"
   ]
  },
  {
   "cell_type": "code",
   "execution_count": 19,
   "id": "3244a46d",
   "metadata": {},
   "outputs": [
    {
     "name": "stdout",
     "output_type": "stream",
     "text": [
      "1\n"
     ]
    },
    {
     "ename": "IndexError",
     "evalue": "list index out of range",
     "output_type": "error",
     "traceback": [
      "\u001b[1;31m---------------------------------------------------------------------------\u001b[0m",
      "\u001b[1;31mIndexError\u001b[0m                                Traceback (most recent call last)",
      "\u001b[1;32mC:\\Users\\MINALA~1.DES\\AppData\\Local\\Temp/ipykernel_13124/1185575511.py\u001b[0m in \u001b[0;36m<module>\u001b[1;34m\u001b[0m\n\u001b[0;32m      2\u001b[0m \u001b[0ma\u001b[0m \u001b[1;33m=\u001b[0m \u001b[1;33m[\u001b[0m\u001b[1;36m1\u001b[0m\u001b[1;33m,\u001b[0m \u001b[1;36m2\u001b[0m\u001b[1;33m,\u001b[0m \u001b[1;36m3\u001b[0m\u001b[1;33m]\u001b[0m\u001b[1;33m\u001b[0m\u001b[1;33m\u001b[0m\u001b[0m\n\u001b[0;32m      3\u001b[0m \u001b[0mprint\u001b[0m\u001b[1;33m(\u001b[0m\u001b[0ma\u001b[0m\u001b[1;33m[\u001b[0m\u001b[1;36m0\u001b[0m\u001b[1;33m]\u001b[0m\u001b[1;33m)\u001b[0m\u001b[1;33m\u001b[0m\u001b[1;33m\u001b[0m\u001b[0m\n\u001b[1;32m----> 4\u001b[1;33m \u001b[0mprint\u001b[0m\u001b[1;33m(\u001b[0m\u001b[0ma\u001b[0m\u001b[1;33m[\u001b[0m\u001b[1;36m3\u001b[0m\u001b[1;33m]\u001b[0m\u001b[1;33m)\u001b[0m\u001b[1;33m\u001b[0m\u001b[1;33m\u001b[0m\u001b[0m\n\u001b[0m\u001b[0;32m      5\u001b[0m \u001b[0mprint\u001b[0m\u001b[1;33m(\u001b[0m\u001b[0ma\u001b[0m\u001b[1;33m[\u001b[0m\u001b[1;36m1\u001b[0m\u001b[1;33m]\u001b[0m\u001b[1;33m)\u001b[0m\u001b[1;33m\u001b[0m\u001b[1;33m\u001b[0m\u001b[0m\n",
      "\u001b[1;31mIndexError\u001b[0m: list index out of range"
     ]
    }
   ],
   "source": [
    "# 에러 그냥 넘어가게 하려면?\n",
    "a = [1, 2, 3]\n",
    "print(a[0])\n",
    "print(a[3])# 오류 발생 전까지는 실행됨\n",
    "print(a[1])"
   ]
  },
  {
   "cell_type": "code",
   "execution_count": 23,
   "id": "11a4a6ed",
   "metadata": {},
   "outputs": [
    {
     "name": "stdout",
     "output_type": "stream",
     "text": [
      "1\n",
      "list index out of range\n"
     ]
    }
   ],
   "source": [
    "#예외처리 frame\n",
    "try:\n",
    "    a = [1, 2, 3]\n",
    "    b = [0, 3, 1]\n",
    "    for i in b:\n",
    "        print(a[i])\n",
    "        #a[3]일 때 오류가 생길 것이므로 에러가 발생할 때 해결하는 틀\n",
    "#모든 에러가 발생해도 넘어가기\n",
    "#except:\n",
    "# 에러 이름을 알 때\n",
    "except IndexError as e:\n",
    "    print(e)"
   ]
  },
  {
   "cell_type": "code",
   "execution_count": 24,
   "id": "ec3b5eea",
   "metadata": {},
   "outputs": [
    {
     "name": "stdout",
     "output_type": "stream",
     "text": [
      "1\n",
      "list index out of range\n"
     ]
    }
   ],
   "source": [
    "#예외처리 frame\n",
    "try:\n",
    "    a = [1, 2, 3]\n",
    "    print(a[0])\n",
    "    print(a[3])\n",
    "    print(a[1])\n",
    "        #a[3]일 때 오류가 생길 것이므로 에러가 발생할 때 해결하는 틀\n",
    "# 에러 이름을 알 때\n",
    "except IndexError as e:\n",
    "    print(e)"
   ]
  },
  {
   "cell_type": "code",
   "execution_count": 25,
   "id": "4b4e7ee9",
   "metadata": {},
   "outputs": [
    {
     "name": "stdout",
     "output_type": "stream",
     "text": [
      "1\n",
      "list index out of range\n",
      "2\n"
     ]
    }
   ],
   "source": [
    "a = [1, 2, 3]\n",
    "print(a[0])\n",
    "# 에러가 날 부분만 try except사용해 오류를 회피해준다.\n",
    "try:\n",
    "    print(a[3])\n",
    "        #a[3]일 때 오류가 생길 것이므로 에러가 발생할 때 해결하는 틀\n",
    "# 에러 이름을 알 때\n",
    "except IndexError as e:\n",
    "    print(e)\n",
    "print(a[1])"
   ]
  },
  {
   "cell_type": "code",
   "execution_count": 26,
   "id": "1dc89678",
   "metadata": {},
   "outputs": [
    {
     "name": "stdout",
     "output_type": "stream",
     "text": [
      "division by zero\n"
     ]
    }
   ],
   "source": [
    "#zerodivisionerror\n",
    "try: \n",
    "    4 / 0\n",
    "except ZeroDivisionError as e:\n",
    "    print(e)"
   ]
  },
  {
   "cell_type": "code",
   "execution_count": 28,
   "id": "495d3941",
   "metadata": {},
   "outputs": [
    {
     "name": "stdout",
     "output_type": "stream",
     "text": [
      "인덱스 번호를 확인하세요.\n"
     ]
    }
   ],
   "source": [
    "# 여러 개의 오류 발생하는 경우?\n",
    "try:\n",
    "    a = [1, 2, 3]\n",
    "    print(a[3])\n",
    "    4 / 0\n",
    "except IndexError:\n",
    "    print(\"인덱스 번호를 확인하세요.\")\n",
    "except ZeroDivisionError:\n",
    "    print(\"0으로는 나눌 수 없습니다.\")\n",
    "# 출력은 indexerror만 출력됨. 먼저 발생하는 오류만 except구문이 작동. \n",
    "# 에러 발생하면 구문이 멈추기 때문에"
   ]
  },
  {
   "cell_type": "code",
   "execution_count": 29,
   "id": "a5cefbc5",
   "metadata": {},
   "outputs": [
    {
     "name": "stdout",
     "output_type": "stream",
     "text": [
      "0으로는 나눌 수 없습니다.\n"
     ]
    }
   ],
   "source": [
    "# 여러 개의 오류 발생하는 경우?\n",
    "try:\n",
    "    4 / 0 #어떤 오류가 먼저 발생하였는가\n",
    "    a = [1, 2, 3]\n",
    "    print(a[3])\n",
    "except IndexError:\n",
    "    print(\"인덱스 번호를 확인하세요.\")\n",
    "except ZeroDivisionError:\n",
    "    print(\"0으로는 나눌 수 없습니다.\")\n",
    "# 출력은 indexerror만 출력됨. 먼저 발생하는 오류만 except구문이 작동. \n",
    "# 에러 발생하면 구문이 멈추기 때문에"
   ]
  },
  {
   "cell_type": "code",
   "execution_count": 30,
   "id": "aa0df354",
   "metadata": {},
   "outputs": [
    {
     "name": "stdout",
     "output_type": "stream",
     "text": [
      "list index out of range\n"
     ]
    }
   ],
   "source": [
    "# 여러 개의 오류 발생하는 경우?\n",
    "try:\n",
    "    a = [1, 2, 3]\n",
    "    print(a[3])\n",
    "    4 / 0\n",
    "except (IndexError, ZeroDivisionError) as e:\n",
    "    print(e)\n",
    "# 출력은 index error만 출력됨. 먼저 발생하는 오류만 except구문이 작동. \n",
    "# 에러 발생하면 구문이 멈추기 때문에"
   ]
  },
  {
   "cell_type": "code",
   "execution_count": 31,
   "id": "a9227509",
   "metadata": {},
   "outputs": [
    {
     "name": "stdout",
     "output_type": "stream",
     "text": [
      "1\n",
      "2\n"
     ]
    }
   ],
   "source": [
    "# 오류를 그냥 넘어가게 해주고 싶다면?\n",
    "a = [1, 2, 3]\n",
    "print(a[0])\n",
    "# 에러가 날 부분만 try except사용해 오류를 회피해준다.\n",
    "try:\n",
    "    print(a[3])\n",
    "        #a[3]일 때 오류가 생길 것이므로 에러가 발생할 때 해결하는 틀\n",
    "# 에러 이름을 알 때\n",
    "except IndexError:\n",
    "    pass\n",
    "print(a[1])\n",
    "\n",
    "#오류가 발생하면 구문이 멈추기 때문에 계속 내용을 진행시킬 수 없음. \n",
    "#새로이 뭔갈 넣어주어야 할 것 같네"
   ]
  },
  {
   "cell_type": "code",
   "execution_count": 34,
   "id": "6c0c2b3d",
   "metadata": {},
   "outputs": [
    {
     "name": "stdout",
     "output_type": "stream",
     "text": [
      "1\n",
      "list index out of range\n"
     ]
    }
   ],
   "source": [
    "try: \n",
    "    a = [1, 2, 3]\n",
    "    b = [0, 3, 1]\n",
    "    for i in b:\n",
    "        print(a[i])\n",
    "except IndexError as e:\n",
    "    print(e)"
   ]
  },
  {
   "cell_type": "code",
   "execution_count": 36,
   "id": "2330d9fb",
   "metadata": {},
   "outputs": [
    {
     "name": "stdout",
     "output_type": "stream",
     "text": [
      "1\n",
      "4\n",
      "7\n"
     ]
    }
   ],
   "source": [
    "for i in range(1, 10, 3): #start, stop+1, step\n",
    "    print(i)"
   ]
  },
  {
   "cell_type": "code",
   "execution_count": 37,
   "id": "5169b1ea",
   "metadata": {},
   "outputs": [
    {
     "data": {
      "text/plain": [
       "'navy salmon yellow'"
      ]
     },
     "execution_count": 37,
     "metadata": {},
     "output_type": "execute_result"
    }
   ],
   "source": [
    "a = ['navy', 'salmon', 'yellow']\n",
    "' '.join(a) #리스트도 join함수 사용가능하다"
   ]
  },
  {
   "cell_type": "markdown",
   "id": "007b2c40",
   "metadata": {},
   "source": [
    "# Numpy\n",
    "아나콘다 설치 시 자동으로 설치  \n",
    "불러와서 사용하는 방법, 생성하는 방법  \n",
    "### 1) numpy 배열만들기\n",
    "행렬을 만들어서 수학연산을 직접 해줄 필요가 있을 때 사용  \n",
    "결측치 작업할 때 사용     "
   ]
  },
  {
   "cell_type": "code",
   "execution_count": 38,
   "id": "f8ef87d4",
   "metadata": {},
   "outputs": [],
   "source": [
    "# 불러오기\n",
    "import numpy as np # 불러올 때 길면 복잡하니까 약자로 불러옴\n",
    "import pandas as pd"
   ]
  },
  {
   "cell_type": "code",
   "execution_count": 40,
   "id": "9558ffc2",
   "metadata": {},
   "outputs": [
    {
     "data": {
      "text/plain": [
       "array([ 1,  2,  3,  4,  5,  6,  7,  8,  9, 10])"
      ]
     },
     "execution_count": 40,
     "metadata": {},
     "output_type": "execute_result"
    }
   ],
   "source": [
    "# array만들기\n",
    "num = np.array(range(1, 11))\n",
    "num #겉보기에는 list와 유사해보인다"
   ]
  },
  {
   "cell_type": "code",
   "execution_count": 41,
   "id": "62c53ec2",
   "metadata": {},
   "outputs": [
    {
     "data": {
      "text/plain": [
       "array(['1', '2', 'a', 'b'], dtype='<U11')"
      ]
     },
     "execution_count": 41,
     "metadata": {},
     "output_type": "execute_result"
    }
   ],
   "source": [
    "array1 = np.array([1, 2, 'a', 'b'])\n",
    "array1 \n",
    "# 숫자가 문자로 바뀜. 문자열로 array를 만들면 datatype이 <U11이 된다\n",
    "# 문자열로 자동변환"
   ]
  },
  {
   "cell_type": "code",
   "execution_count": 42,
   "id": "f5b75fa6",
   "metadata": {},
   "outputs": [
    {
     "data": {
      "text/plain": [
       "array([[1., 1., 1., 1.],\n",
       "       [1., 1., 1., 1.]])"
      ]
     },
     "execution_count": 42,
     "metadata": {},
     "output_type": "execute_result"
    }
   ],
   "source": [
    "# 배열을 만들어주는 함수\n",
    "\n",
    "ones = np.ones([2, 4]) #1로만 이루어진 2행 4열\n",
    "ones"
   ]
  },
  {
   "cell_type": "code",
   "execution_count": 43,
   "id": "76c3f029",
   "metadata": {},
   "outputs": [
    {
     "data": {
      "text/plain": [
       "array([1., 1., 1., 1., 1., 1., 1., 1., 1., 1.])"
      ]
     },
     "execution_count": 43,
     "metadata": {},
     "output_type": "execute_result"
    }
   ],
   "source": [
    "ones1 = np.ones(10) #1차원 array\n",
    "ones1"
   ]
  },
  {
   "cell_type": "code",
   "execution_count": 45,
   "id": "0a039797",
   "metadata": {},
   "outputs": [
    {
     "data": {
      "text/plain": [
       "array([[0., 0., 0., 0.],\n",
       "       [0., 0., 0., 0.]])"
      ]
     },
     "execution_count": 45,
     "metadata": {},
     "output_type": "execute_result"
    }
   ],
   "source": [
    "# 0으로만 이루어진 행렬을 만들고 싶다\n",
    "zeros = np.zeros([2, 4])\n",
    "zeros"
   ]
  },
  {
   "cell_type": "code",
   "execution_count": 46,
   "id": "ba3e2bdf",
   "metadata": {},
   "outputs": [
    {
     "data": {
      "text/plain": [
       "(2, 4)"
      ]
     },
     "execution_count": 46,
     "metadata": {},
     "output_type": "execute_result"
    }
   ],
   "source": [
    "zeros.shape # 배열이 어떻게 구성되어있는지 출력"
   ]
  },
  {
   "cell_type": "code",
   "execution_count": 47,
   "id": "e46cb83e",
   "metadata": {},
   "outputs": [
    {
     "data": {
      "text/plain": [
       "2"
      ]
     },
     "execution_count": 47,
     "metadata": {},
     "output_type": "execute_result"
    }
   ],
   "source": [
    "zeros.ndim # 배열의 차원(행의 수)"
   ]
  },
  {
   "cell_type": "code",
   "execution_count": 48,
   "id": "6a42b722",
   "metadata": {},
   "outputs": [
    {
     "data": {
      "text/plain": [
       "dtype('float64')"
      ]
     },
     "execution_count": 48,
     "metadata": {},
     "output_type": "execute_result"
    }
   ],
   "source": [
    "# 어떤 데이터타입으로 구성되어있는지 궁금하다\n",
    "zeros.dtype #float"
   ]
  },
  {
   "cell_type": "code",
   "execution_count": 50,
   "id": "e12d5dce",
   "metadata": {},
   "outputs": [
    {
     "data": {
      "text/plain": [
       "array([1, 2, 3, 4, 5, 6, 7, 8, 9])"
      ]
     },
     "execution_count": 50,
     "metadata": {},
     "output_type": "execute_result"
    }
   ],
   "source": [
    "# 간편하게 동일한 모양으로\n",
    "np_nums = np.arange(1, 10)\n",
    "np_nums"
   ]
  },
  {
   "cell_type": "code",
   "execution_count": 51,
   "id": "89f48ba2",
   "metadata": {},
   "outputs": [
    {
     "data": {
      "text/plain": [
       "array([1.  , 1.25, 1.5 , 1.75, 2.  , 2.25, 2.5 , 2.75, 3.  , 3.25, 3.5 ,\n",
       "       3.75, 4.  , 4.25, 4.5 , 4.75, 5.  , 5.25, 5.5 , 5.75, 6.  , 6.25,\n",
       "       6.5 , 6.75, 7.  , 7.25, 7.5 , 7.75, 8.  , 8.25, 8.5 , 8.75, 9.  ,\n",
       "       9.25, 9.5 , 9.75])"
      ]
     },
     "execution_count": 51,
     "metadata": {},
     "output_type": "execute_result"
    }
   ],
   "source": [
    "# step\n",
    "np_nums = np.arange(1, 10, 0.25)\n",
    "np_nums"
   ]
  },
  {
   "cell_type": "code",
   "execution_count": 55,
   "id": "2008b4ed",
   "metadata": {},
   "outputs": [
    {
     "data": {
      "text/plain": [
       "array([1, 1, 1, 1, 2, 2, 2, 2, 3, 3, 3, 3, 4, 4, 4, 4, 5, 5, 5, 5, 6, 6,\n",
       "       6, 6, 7, 7, 7, 7, 8, 8, 8, 8, 9, 9, 9, 9])"
      ]
     },
     "execution_count": 55,
     "metadata": {},
     "output_type": "execute_result"
    }
   ],
   "source": [
    "#소수점은 버리고싶다\n",
    "np_nums = np.arange(1, 10, 0.25).astype(int) #정수형\n",
    "np_nums"
   ]
  },
  {
   "cell_type": "markdown",
   "id": "c284bccb",
   "metadata": {},
   "source": [
    "### 2) 행렬전환"
   ]
  },
  {
   "cell_type": "code",
   "execution_count": 63,
   "id": "6eacb01c",
   "metadata": {},
   "outputs": [
    {
     "data": {
      "text/plain": [
       "array(['MMM', 'ABT', 'ABBV', 'ACN', 'ACE', 'ATVI', 'ADBE', 'ADT'],\n",
       "      dtype='<U4')"
      ]
     },
     "execution_count": 63,
     "metadata": {},
     "output_type": "execute_result"
    }
   ],
   "source": [
    "sap = np.array(['MMM', 'ABT', 'ABBV', 'ACN', 'ACE', 'ATVI', 'ADBE', 'ADT'])\n",
    "sap"
   ]
  },
  {
   "cell_type": "code",
   "execution_count": 64,
   "id": "60cb242d",
   "metadata": {},
   "outputs": [
    {
     "data": {
      "text/plain": [
       "(8,)"
      ]
     },
     "execution_count": 64,
     "metadata": {},
     "output_type": "execute_result"
    }
   ],
   "source": [
    "sap.shape #1차원 배열"
   ]
  },
  {
   "cell_type": "code",
   "execution_count": 62,
   "id": "f0177dd4",
   "metadata": {},
   "outputs": [
    {
     "data": {
      "text/plain": [
       "(8,)"
      ]
     },
     "execution_count": 62,
     "metadata": {},
     "output_type": "execute_result"
    }
   ],
   "source": [
    "sap1d = sap.T # 왜? 전치해도 똑같지?\n",
    "sap1d.shape"
   ]
  },
  {
   "cell_type": "code",
   "execution_count": 58,
   "id": "e3cc9889",
   "metadata": {},
   "outputs": [
    {
     "data": {
      "text/plain": [
       "array([['MMM', 'ABT', 'ABBV', 'ACN'],\n",
       "       ['ACE', 'ATVI', 'ADBE', 'ADT']], dtype='<U4')"
      ]
     },
     "execution_count": 58,
     "metadata": {},
     "output_type": "execute_result"
    }
   ],
   "source": [
    "sap2d = sap.reshape(2, 4)\n",
    "sap2d"
   ]
  },
  {
   "cell_type": "code",
   "execution_count": 59,
   "id": "41c90662",
   "metadata": {},
   "outputs": [
    {
     "data": {
      "text/plain": [
       "array([[['MMM', 'ABT'],\n",
       "        ['ABBV', 'ACN']],\n",
       "\n",
       "       [['ACE', 'ATVI'],\n",
       "        ['ADBE', 'ADT']]], dtype='<U4')"
      ]
     },
     "execution_count": 59,
     "metadata": {},
     "output_type": "execute_result"
    }
   ],
   "source": [
    "sap3d = sap.reshape(2, 2, 2)\n",
    "sap3d # 두 개의 2차원 행렬이 나눠지면서 3차원이 됨"
   ]
  },
  {
   "cell_type": "code",
   "execution_count": 60,
   "id": "eef54ce0",
   "metadata": {},
   "outputs": [
    {
     "data": {
      "text/plain": [
       "array([['MMM', 'ACE'],\n",
       "       ['ABT', 'ATVI'],\n",
       "       ['ABBV', 'ADBE'],\n",
       "       ['ACN', 'ADT']], dtype='<U4')"
      ]
     },
     "execution_count": 60,
     "metadata": {},
     "output_type": "execute_result"
    }
   ],
   "source": [
    "# 행렬 전치가 필요할 때\n",
    "sap2d.T #4행 2열짜리 행렬이 됨"
   ]
  },
  {
   "cell_type": "code",
   "execution_count": 65,
   "id": "90edff39",
   "metadata": {},
   "outputs": [
    {
     "data": {
      "text/plain": [
       "array([[['MMM', 'ABBV'],\n",
       "        ['ABT', 'ACN']],\n",
       "\n",
       "       [['ACE', 'ADBE'],\n",
       "        ['ATVI', 'ADT']]], dtype='<U4')"
      ]
     },
     "execution_count": 65,
     "metadata": {},
     "output_type": "execute_result"
    }
   ],
   "source": [
    "sap3d.transpose((0, 2, 1)) #3차원 배열에 대한 이해가 필요하다"
   ]
  },
  {
   "cell_type": "code",
   "execution_count": 66,
   "id": "512fc795",
   "metadata": {},
   "outputs": [
    {
     "data": {
      "text/plain": [
       "array([1, 2, 3, 4, 5, 6, 7, 8, 9])"
      ]
     },
     "execution_count": 66,
     "metadata": {},
     "output_type": "execute_result"
    }
   ],
   "source": [
    "ar1 = np.arange(1, 10)\n",
    "ar1"
   ]
  },
  {
   "cell_type": "code",
   "execution_count": 68,
   "id": "85d2dc88",
   "metadata": {},
   "outputs": [
    {
     "ename": "ValueError",
     "evalue": "cannot reshape array of size 9 into shape (2,4)",
     "output_type": "error",
     "traceback": [
      "\u001b[1;31m---------------------------------------------------------------------------\u001b[0m",
      "\u001b[1;31mValueError\u001b[0m                                Traceback (most recent call last)",
      "\u001b[1;32mC:\\Users\\MINALA~1.DES\\AppData\\Local\\Temp/ipykernel_13124/2287739808.py\u001b[0m in \u001b[0;36m<module>\u001b[1;34m\u001b[0m\n\u001b[1;32m----> 1\u001b[1;33m \u001b[0mar1\u001b[0m\u001b[1;33m.\u001b[0m\u001b[0mreshape\u001b[0m\u001b[1;33m(\u001b[0m\u001b[1;33m[\u001b[0m\u001b[1;36m2\u001b[0m\u001b[1;33m,\u001b[0m \u001b[1;36m4\u001b[0m\u001b[1;33m]\u001b[0m\u001b[1;33m)\u001b[0m \u001b[1;31m#resha\u001b[0m\u001b[1;33m\u001b[0m\u001b[1;33m\u001b[0m\u001b[0m\n\u001b[0m",
      "\u001b[1;31mValueError\u001b[0m: cannot reshape array of size 9 into shape (2,4)"
     ]
    }
   ],
   "source": [
    "ar1.reshape([2, 4]) #reshape개수가 맞지않는다"
   ]
  },
  {
   "cell_type": "code",
   "execution_count": 70,
   "id": "0a2c49e7",
   "metadata": {},
   "outputs": [
    {
     "data": {
      "text/plain": [
       "array([ 9.e+00,  4.e+00,  1.e+00, -1.e-02, -1.e-03])"
      ]
     },
     "execution_count": 70,
     "metadata": {},
     "output_type": "execute_result"
    }
   ],
   "source": [
    "# 인덱싱과 슬라이싱\n",
    "# 리스트 안에 조건 넣어서 해보는거\n",
    "dirty = np.array([9, 4, 1, -0.01, -0.001])\n",
    "dirty\n",
    "# array([ 9.e+00,  4.e+00,  1.e+00, -1.e-02, -1.e-03(e의 -3승)])"
   ]
  },
  {
   "cell_type": "code",
   "execution_count": 72,
   "id": "eda16b24",
   "metadata": {},
   "outputs": [
    {
     "data": {
      "text/plain": [
       "array([False, False, False,  True,  True])"
      ]
     },
     "execution_count": 72,
     "metadata": {},
     "output_type": "execute_result"
    }
   ],
   "source": [
    "w_dirty = dirty < 0\n",
    "w_dirty #true인 값이 음수"
   ]
  },
  {
   "cell_type": "code",
   "execution_count": 74,
   "id": "eb878483",
   "metadata": {},
   "outputs": [
    {
     "data": {
      "text/plain": [
       "array([9., 4., 1., 0., 0.])"
      ]
     },
     "execution_count": 74,
     "metadata": {},
     "output_type": "execute_result"
    }
   ],
   "source": [
    "dirty[w_dirty] = 0\n",
    "#dirty[dirty < 0] #bool인덱스 사용\n",
    "# 0보다 작은 값들만 0으로 바꾸어준다\n",
    "dirty"
   ]
  },
  {
   "cell_type": "code",
   "execution_count": 75,
   "id": "5583ed7e",
   "metadata": {},
   "outputs": [
    {
     "data": {
      "text/plain": [
       "array([-1.00000000e+00, -8.00000000e-01, -6.00000000e-01, -4.00000000e-01,\n",
       "       -2.00000000e-01, -2.22044605e-16,  2.00000000e-01,  4.00000000e-01,\n",
       "        6.00000000e-01,  8.00000000e-01])"
      ]
     },
     "execution_count": 75,
     "metadata": {},
     "output_type": "execute_result"
    }
   ],
   "source": [
    "linear = np.arange(-1, 1, 0.2)\n",
    "linear"
   ]
  },
  {
   "cell_type": "code",
   "execution_count": 77,
   "id": "2f9e84ba",
   "metadata": {},
   "outputs": [
    {
     "data": {
      "text/plain": [
       "array([False, False, False,  True,  True,  True,  True,  True, False,\n",
       "       False])"
      ]
     },
     "execution_count": 77,
     "metadata": {},
     "output_type": "execute_result"
    }
   ],
   "source": [
    "(linear <= 0.5) & (linear >= -0.5)"
   ]
  },
  {
   "cell_type": "markdown",
   "id": "8493377d",
   "metadata": {},
   "source": [
    "#### and => &\n",
    "#### or => |\n",
    "#### not => -"
   ]
  },
  {
   "cell_type": "code",
   "execution_count": 78,
   "id": "26472dab",
   "metadata": {},
   "outputs": [
    {
     "data": {
      "text/plain": [
       "array([-4.00000000e-01, -2.00000000e-01, -2.22044605e-16,  2.00000000e-01,\n",
       "        4.00000000e-01])"
      ]
     },
     "execution_count": 78,
     "metadata": {},
     "output_type": "execute_result"
    }
   ],
   "source": [
    "linear[(linear <= 0.5) & (linear >= -0.5)] # 슬라이싱"
   ]
  },
  {
   "cell_type": "code",
   "execution_count": 79,
   "id": "40166994",
   "metadata": {},
   "outputs": [
    {
     "data": {
      "text/plain": [
       "array(['MMM', 'ABT', 'ABBV', 'ACN', 'ACE', 'ATVI', 'ADBE', 'ADT'],\n",
       "      dtype='<U4')"
      ]
     },
     "execution_count": 79,
     "metadata": {},
     "output_type": "execute_result"
    }
   ],
   "source": [
    "sap"
   ]
  },
  {
   "cell_type": "code",
   "execution_count": 80,
   "id": "905e564e",
   "metadata": {},
   "outputs": [
    {
     "data": {
      "text/plain": [
       "array(['ABT', 'ABBV', 'ADT'], dtype='<U4')"
      ]
     },
     "execution_count": 80,
     "metadata": {},
     "output_type": "execute_result"
    }
   ],
   "source": [
    "#스마트 인덱싱\n",
    "sap[[1, 2, -1]] # 원하는 것만"
   ]
  },
  {
   "cell_type": "code",
   "execution_count": 91,
   "id": "1df334e7",
   "metadata": {},
   "outputs": [
    {
     "data": {
      "text/plain": [
       "['MMM', 'ABT', 'ABBV', 'ACN', 'ACE', 'ATVI', 'ADBE', 'ADT']"
      ]
     },
     "execution_count": 91,
     "metadata": {},
     "output_type": "execute_result"
    }
   ],
   "source": [
    "l_sap = list(sap)\n",
    "l_sap"
   ]
  },
  {
   "cell_type": "code",
   "execution_count": 92,
   "id": "2fa9edf7",
   "metadata": {},
   "outputs": [
    {
     "data": {
      "text/plain": [
       "['ABT', 'ABBV', 'ADT']"
      ]
     },
     "execution_count": 92,
     "metadata": {},
     "output_type": "execute_result"
    }
   ],
   "source": [
    "[l_sap[1], l_sap[2], l_sap[-1]] #이렇게 하면 어려우니까 스마트 인덱싱을 활용함"
   ]
  },
  {
   "cell_type": "code",
   "execution_count": 82,
   "id": "f173d3af",
   "metadata": {},
   "outputs": [
    {
     "data": {
      "text/plain": [
       "array([['MMM', 'ABT', 'ABBV', 'ACN'],\n",
       "       ['ACE', 'ATVI', 'ADBE', 'ADT']], dtype='<U4')"
      ]
     },
     "execution_count": 82,
     "metadata": {},
     "output_type": "execute_result"
    }
   ],
   "source": [
    "sap2d"
   ]
  },
  {
   "cell_type": "code",
   "execution_count": 81,
   "id": "8bda7fdb",
   "metadata": {},
   "outputs": [
    {
     "data": {
      "text/plain": [
       "array([['ABT'],\n",
       "       ['ATVI']], dtype='<U4')"
      ]
     },
     "execution_count": 81,
     "metadata": {},
     "output_type": "execute_result"
    }
   ],
   "source": [
    "#스마트 슬라이싱\n",
    "\n",
    "sap2d[:, [1]] #전체 행 중 두번째 열만\n",
    "#2차원 행렬"
   ]
  },
  {
   "cell_type": "code",
   "execution_count": 85,
   "id": "e2a184db",
   "metadata": {},
   "outputs": [
    {
     "data": {
      "text/plain": [
       "2"
      ]
     },
     "execution_count": 85,
     "metadata": {},
     "output_type": "execute_result"
    }
   ],
   "source": [
    "#스마트 슬라이싱\n",
    "\n",
    "sap2d[:, [1]].ndim #전체 행 중 두번째 열만\n",
    "#2차원 행렬"
   ]
  },
  {
   "cell_type": "code",
   "execution_count": 84,
   "id": "31667333",
   "metadata": {},
   "outputs": [
    {
     "data": {
      "text/plain": [
       "array(['ABT', 'ATVI'], dtype='<U4')"
      ]
     },
     "execution_count": 84,
     "metadata": {},
     "output_type": "execute_result"
    }
   ],
   "source": [
    "sap2d[:, 1] # 출력된 모양이 다르다\n",
    "#1차원 행렬"
   ]
  },
  {
   "cell_type": "code",
   "execution_count": 86,
   "id": "761b8c89",
   "metadata": {},
   "outputs": [
    {
     "data": {
      "text/plain": [
       "1"
      ]
     },
     "execution_count": 86,
     "metadata": {},
     "output_type": "execute_result"
    }
   ],
   "source": [
    "sap2d[:, 1].ndim # 출력된 모양이 다르다\n",
    "#1차원 행렬"
   ]
  },
  {
   "cell_type": "code",
   "execution_count": 88,
   "id": "3e2ff2c7",
   "metadata": {},
   "outputs": [
    {
     "data": {
      "text/plain": [
       "array(['ATVI'], dtype='<U4')"
      ]
     },
     "execution_count": 88,
     "metadata": {},
     "output_type": "execute_result"
    }
   ],
   "source": [
    "sap2d[[1], [1]] #1 행 1열의 요소만 반환\n",
    "#2차원 행렬"
   ]
  },
  {
   "cell_type": "code",
   "execution_count": 4,
   "id": "518ff21d",
   "metadata": {},
   "outputs": [
    {
     "data": {
      "text/plain": [
       "array([[1, 2, 3],\n",
       "       [4, 5, 6],\n",
       "       [7, 8, 9]])"
      ]
     },
     "execution_count": 4,
     "metadata": {},
     "output_type": "execute_result"
    }
   ],
   "source": [
    "import numpy as np\n",
    "array2d = np.array([[1, 2, 3],\n",
    "                    [4, 5, 6],\n",
    "                    [7, 8, 9]])\n",
    "array2d"
   ]
  },
  {
   "cell_type": "code",
   "execution_count": 5,
   "id": "42142a24",
   "metadata": {},
   "outputs": [
    {
     "data": {
      "text/plain": [
       "array([[2],\n",
       "       [5]])"
      ]
     },
     "execution_count": 5,
     "metadata": {},
     "output_type": "execute_result"
    }
   ],
   "source": [
    "array2d[0:2,1:2] #2차원일 때는 이렇게 해도 충분하다"
   ]
  },
  {
   "cell_type": "code",
   "execution_count": 6,
   "id": "c2b9d38b",
   "metadata": {},
   "outputs": [
    {
     "data": {
      "text/plain": [
       "array([[1, 2],\n",
       "       [4, 5]])"
      ]
     },
     "execution_count": 6,
     "metadata": {},
     "output_type": "execute_result"
    }
   ],
   "source": [
    "array2d[0:2, 0:2] #다른 슬라이싱과 마찬가지로 end+1이 출력된다"
   ]
  },
  {
   "cell_type": "code",
   "execution_count": 7,
   "id": "c214f03b",
   "metadata": {},
   "outputs": [
    {
     "data": {
      "text/plain": [
       "[1, 2, 3, 4, 5, 6]"
      ]
     },
     "execution_count": 7,
     "metadata": {},
     "output_type": "execute_result"
    }
   ],
   "source": [
    "# 브로드캐스팅\n",
    "# 리스트와의 차이와 함께 살펴보기\n",
    "a = [1, 2, 3]\n",
    "b = [4, 5, 6]\n",
    "\n",
    "a + b"
   ]
  },
  {
   "cell_type": "code",
   "execution_count": 100,
   "id": "70bcf5dc",
   "metadata": {},
   "outputs": [
    {
     "data": {
      "text/plain": [
       "'for i in a:\\n    for j in b:'"
      ]
     },
     "execution_count": 100,
     "metadata": {},
     "output_type": "execute_result"
    }
   ],
   "source": [
    "#각 요소들을 더하고 싶다면?\n",
    "#즉, 배열에서 벡터의 연산을 하고싶다\n",
    "#리스트에서는 하나의 요소씩 더해줘야한다.\n",
    "for i in a:\n",
    "    for j in b:\n",
    "        j+i"
   ]
  },
  {
   "cell_type": "code",
   "execution_count": 101,
   "id": "b9678cfa",
   "metadata": {},
   "outputs": [
    {
     "data": {
      "text/plain": [
       "array([5, 7, 9])"
      ]
     },
     "execution_count": 101,
     "metadata": {},
     "output_type": "execute_result"
    }
   ],
   "source": [
    "a = np.array([1, 2, 3])\n",
    "b = np.array([4, 5, 6])\n",
    "#배열끼리의 사칙연산이 가능해진다.\n",
    "a + b"
   ]
  },
  {
   "cell_type": "code",
   "execution_count": 102,
   "id": "859cdbd9",
   "metadata": {},
   "outputs": [
    {
     "data": {
      "text/plain": [
       "[1, 2, 3, 1, 2, 3, 1, 2, 3, 1, 2, 3, 1, 2, 3]"
      ]
     },
     "execution_count": 102,
     "metadata": {},
     "output_type": "execute_result"
    }
   ],
   "source": [
    "#곱하기\n",
    "a = [1, 2, 3]\n",
    "a * 5"
   ]
  },
  {
   "cell_type": "code",
   "execution_count": 103,
   "id": "fe73e06a",
   "metadata": {},
   "outputs": [
    {
     "data": {
      "text/plain": [
       "array([ 5, 10, 15])"
      ]
     },
     "execution_count": 103,
     "metadata": {},
     "output_type": "execute_result"
    }
   ],
   "source": [
    "a = np.array([1, 2, 3])\n",
    "a * 5 #각 자리의 연산이 필요하다 할 때 np.array사용해주면 된다."
   ]
  },
  {
   "cell_type": "code",
   "execution_count": 104,
   "id": "b16a20d5",
   "metadata": {},
   "outputs": [
    {
     "data": {
      "text/plain": [
       "array([[1., 0., 0., 0.],\n",
       "       [0., 1., 0., 0.],\n",
       "       [0., 0., 1., 0.],\n",
       "       [0., 0., 0., 1.]])"
      ]
     },
     "execution_count": 104,
     "metadata": {},
     "output_type": "execute_result"
    }
   ],
   "source": [
    "np.eye(4) #대각행렬 만들어주는 함수"
   ]
  },
  {
   "cell_type": "code",
   "execution_count": 107,
   "id": "16fc1f4f",
   "metadata": {},
   "outputs": [
    {
     "data": {
      "text/plain": [
       "array([[1.01, 0.01, 0.01, 0.01],\n",
       "       [0.01, 1.01, 0.01, 0.01],\n",
       "       [0.01, 0.01, 1.01, 0.01],\n",
       "       [0.01, 0.01, 0.01, 1.01]])"
      ]
     },
     "execution_count": 107,
     "metadata": {},
     "output_type": "execute_result"
    }
   ],
   "source": [
    "noise = np.eye(4) + 0.01 * np.ones((4, )) # 모든 행렬에 0.01 더해주는 것\n",
    "# 0.01 * np.ones((4, ))\n",
    "noise"
   ]
  },
  {
   "cell_type": "code",
   "execution_count": 105,
   "id": "8d694107",
   "metadata": {},
   "outputs": [
    {
     "data": {
      "text/plain": [
       "array([0.01, 0.01, 0.01, 0.01])"
      ]
     },
     "execution_count": 105,
     "metadata": {},
     "output_type": "execute_result"
    }
   ],
   "source": [
    "0.01 * np.ones((4, ))"
   ]
  },
  {
   "cell_type": "code",
   "execution_count": 108,
   "id": "77289977",
   "metadata": {},
   "outputs": [
    {
     "data": {
      "text/plain": [
       "array([[1.00273293e+00, 1.66365626e-04, 4.26882375e-03, 9.22039716e-03],\n",
       "       [9.83491909e-03, 1.00924700e+00, 2.96549952e-03, 5.57734733e-03],\n",
       "       [9.62003490e-05, 5.96847200e-03, 1.00866951e+00, 9.10315542e-03],\n",
       "       [4.84039608e-03, 4.80561871e-03, 1.60205933e-03, 1.00507080e+00]])"
      ]
     },
     "execution_count": 108,
     "metadata": {},
     "output_type": "execute_result"
    }
   ],
   "source": [
    "#랜덤으로 노이즈를 넣어주고 싶다\n",
    "noise = np.eye(4) + 0.01 * np.random.random((4, 4)) # 모든 행렬에 0.01 더해주는 것\n",
    "# 0.01 * np.ones((4, ))\n",
    "noise"
   ]
  },
  {
   "cell_type": "code",
   "execution_count": 109,
   "id": "22ce7b09",
   "metadata": {},
   "outputs": [
    {
     "data": {
      "text/plain": [
       "array([[0.00700061, 0.00320276, 0.0006822 , 0.0070894 ],\n",
       "       [0.00819439, 0.00309791, 0.00856566, 0.00250959],\n",
       "       [0.00369688, 0.0090817 , 0.00464674, 0.00841282],\n",
       "       [0.00743226, 0.00270368, 0.00845857, 0.00716833]])"
      ]
     },
     "execution_count": 109,
     "metadata": {},
     "output_type": "execute_result"
    }
   ],
   "source": [
    "0.01 * np.random.random((4, 4))"
   ]
  },
  {
   "cell_type": "code",
   "execution_count": 110,
   "id": "d885d7ca",
   "metadata": {},
   "outputs": [
    {
     "data": {
      "text/plain": [
       "array([[1.01, 0.  , 0.  , 0.  ],\n",
       "       [0.  , 1.01, 0.01, 0.01],\n",
       "       [0.  , 0.  , 1.  , 0.01],\n",
       "       [0.01, 0.01, 0.  , 1.  ]])"
      ]
     },
     "execution_count": 110,
     "metadata": {},
     "output_type": "execute_result"
    }
   ],
   "source": [
    "noise = np.eye(4) + 0.01 * np.random.random((4, 4)) # 모든 행렬에 0.01 더해주는 것\n",
    "# 0.01 * np.ones((4, ))\n",
    "np.round(noise, 2)"
   ]
  },
  {
   "cell_type": "markdown",
   "id": "1f582c85",
   "metadata": {},
   "source": [
    "round함수는 universal함수.    \n",
    "#### 유니버셜 함수란?\n",
    "\"연산을 해줄 수 있는 함수들\"   \n",
    "- 사칙연산: add, multiply, negative, exp, log, sqrt\n",
    "- 삼각함수: sin, cos, hypot\n",
    "- 비트 단위: bitwise_and, left_shift\n",
    "- 관계형, 논리: less, logical_not, equal\n",
    "- 최대/최소: maximum, minimum\n",
    "- 부동소수점: isinf, infinite, isnan"
   ]
  },
  {
   "cell_type": "code",
   "execution_count": 8,
   "id": "445434a1",
   "metadata": {},
   "outputs": [
    {
     "data": {
      "text/plain": [
       "array([140.49,   0.97,  40.68,  41.53,  55.7 ,  57.21,  98.2 ,  40.49,\n",
       "         0.97,  40.68,  41.53,  55.7 ,  57.21,  98.2 ,  30.22,  30.91])"
      ]
     },
     "execution_count": 8,
     "metadata": {},
     "output_type": "execute_result"
    }
   ],
   "source": [
    "stocks = np.array([140.49, 0.97, 40.68, 41.53, 55.7, 57.21, 98.2, 40.49, 0.97, 40.68, 41.53, 55.7, 57.21, 98.2, 30.22, 30.91])\n",
    "stocks"
   ]
  },
  {
   "cell_type": "code",
   "execution_count": 9,
   "id": "4b462db4",
   "metadata": {},
   "outputs": [
    {
     "data": {
      "text/plain": [
       "array([[140.49,  40.68,  55.7 ,  98.2 ,   0.97,  41.53,  57.21,  30.22],\n",
       "       [  0.97,  41.53,  57.21,  40.49,  40.68,  55.7 ,  98.2 ,  30.91]])"
      ]
     },
     "execution_count": 9,
     "metadata": {},
     "output_type": "execute_result"
    }
   ],
   "source": [
    "#주말동안 어떤 주식이 떨어졌는지\n",
    "\n",
    "stocks = stocks.reshape(8, 2).T\n",
    "stocks"
   ]
  },
  {
   "cell_type": "code",
   "execution_count": 11,
   "id": "c359de5b",
   "metadata": {},
   "outputs": [
    {
     "data": {
      "text/plain": [
       "55.7"
      ]
     },
     "execution_count": 11,
     "metadata": {},
     "output_type": "execute_result"
    }
   ],
   "source": [
    "stocks[0][2]"
   ]
  },
  {
   "cell_type": "code",
   "execution_count": 14,
   "id": "acbe6caf",
   "metadata": {},
   "outputs": [
    {
     "data": {
      "text/plain": [
       "array([40.68, 55.7 , 98.2 ])"
      ]
     },
     "execution_count": 14,
     "metadata": {},
     "output_type": "execute_result"
    }
   ],
   "source": [
    "stocks[0][1:4]"
   ]
  },
  {
   "cell_type": "code",
   "execution_count": 118,
   "id": "597c0b69",
   "metadata": {},
   "outputs": [],
   "source": [
    "fall = np.greater(stocks[0], stocks[1]) #전, 후(행 기준) # 떨어진 것만 포함"
   ]
  },
  {
   "cell_type": "code",
   "execution_count": 119,
   "id": "2afdbf11",
   "metadata": {},
   "outputs": [
    {
     "data": {
      "text/plain": [
       "array(['MMM', 'ACN', 'ATVI', 'ADT'], dtype='<U4')"
      ]
     },
     "execution_count": 119,
     "metadata": {},
     "output_type": "execute_result"
    }
   ],
   "source": [
    "sap[fall] #sap에 적용\n",
    "#주가의 전 후 비교. 떨어진 주식만 뽑아줌"
   ]
  },
  {
   "cell_type": "code",
   "execution_count": 120,
   "id": "04df24c0",
   "metadata": {},
   "outputs": [
    {
     "data": {
      "text/plain": [
       "array(['MMM', 'ABT', 'ABBV', 'ACN', 'ACE', 'ATVI', 'ADBE', 'ADT'],\n",
       "      dtype='<U4')"
      ]
     },
     "execution_count": 120,
     "metadata": {},
     "output_type": "execute_result"
    }
   ],
   "source": [
    "sap"
   ]
  },
  {
   "cell_type": "code",
   "execution_count": 128,
   "id": "5781b5c3",
   "metadata": {},
   "outputs": [
    {
     "data": {
      "text/plain": [
       "array([False,  True,  True, False,  True, False,  True, False])"
      ]
     },
     "execution_count": 128,
     "metadata": {},
     "output_type": "execute_result"
    }
   ],
   "source": [
    "rise = np.greater(stocks[1], stocks[0])\n",
    "rise\n",
    "# 주가가 오른 것들만 true"
   ]
  },
  {
   "cell_type": "code",
   "execution_count": 129,
   "id": "a1362513",
   "metadata": {},
   "outputs": [
    {
     "data": {
      "text/plain": [
       "array(['ABT', 'ABBV', 'ACE', 'ADBE'], dtype='<U4')"
      ]
     },
     "execution_count": 129,
     "metadata": {},
     "output_type": "execute_result"
    }
   ],
   "source": [
    "sap[rise] # bool인덱스를 하는 것\n",
    "# 주가가 오른 종목만 표기됨"
   ]
  },
  {
   "cell_type": "code",
   "execution_count": 133,
   "id": "f7c6d666",
   "metadata": {},
   "outputs": [
    {
     "data": {
      "text/plain": [
       "array([-99.81,  42.5 ,  40.56, -26.99,  40.56,   0.  ,   0.  , -67.29])"
      ]
     },
     "execution_count": 133,
     "metadata": {},
     "output_type": "execute_result"
    }
   ],
   "source": [
    "changes = np.where(np.abs(stocks[1] - stocks[0])>20.00, stocks[1] - stocks[0], 0) #전후가격을 빼줌\n",
    "#abs: 절댓값\n",
    "#true, false 판단 후에 어떤걸 값으로 할건지 작성\n",
    "#다른 연산까지 한번에 하고 싶을 때\n",
    "changes\n",
    "\n",
    "#부가설명\n",
    "\"\"\"Docstring:\n",
    "where(condition, [x, y])\n",
    "\n",
    "Return elements chosen from `x` or `y` depending on `condition`.\"\"\""
   ]
  },
  {
   "cell_type": "code",
   "execution_count": 136,
   "id": "dc7e6f11",
   "metadata": {},
   "outputs": [
    {
     "data": {
      "text/plain": [
       "array(['MMM', 'ABT', 'ABBV', 'ACN', 'ACE', 'ADT'], dtype='<U4')"
      ]
     },
     "execution_count": 136,
     "metadata": {},
     "output_type": "execute_result"
    }
   ],
   "source": [
    "sap[np.nonzero(changes)]"
   ]
  },
  {
   "cell_type": "code",
   "execution_count": 135,
   "id": "fa6741bb",
   "metadata": {},
   "outputs": [
    {
     "data": {
      "text/plain": [
       "(array([0, 1, 2, 3, 4, 7], dtype=int64),)"
      ]
     },
     "execution_count": 135,
     "metadata": {},
     "output_type": "execute_result"
    }
   ],
   "source": [
    "np.nonzero(changes)"
   ]
  },
  {
   "cell_type": "code",
   "execution_count": 137,
   "id": "ba219c20",
   "metadata": {},
   "outputs": [
    {
     "data": {
      "text/plain": [
       "array(['ABT', 'ABBV', 'ACE'], dtype='<U4')"
      ]
     },
     "execution_count": 137,
     "metadata": {},
     "output_type": "execute_result"
    }
   ],
   "source": [
    "sap[stocks[1] - stocks[0]>20.00]"
   ]
  },
  {
   "cell_type": "markdown",
   "id": "df764477",
   "metadata": {},
   "source": [
    "숙제: 내장함수, 외장함수 자습하기"
   ]
  }
 ],
 "metadata": {
  "kernelspec": {
   "display_name": "Python 3 (ipykernel)",
   "language": "python",
   "name": "python3"
  },
  "language_info": {
   "codemirror_mode": {
    "name": "ipython",
    "version": 3
   },
   "file_extension": ".py",
   "mimetype": "text/x-python",
   "name": "python",
   "nbconvert_exporter": "python",
   "pygments_lexer": "ipython3",
   "version": "3.9.7"
  }
 },
 "nbformat": 4,
 "nbformat_minor": 5
}
