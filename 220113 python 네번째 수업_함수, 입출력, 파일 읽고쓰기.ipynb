{
 "cells": [
  {
   "cell_type": "markdown",
   "id": "d2403740",
   "metadata": {},
   "source": [
    "# 220113 네번째 수업: 함수, 입출력, 파일 읽고쓰기"
   ]
  },
  {
   "cell_type": "markdown",
   "id": "8cf42239",
   "metadata": {},
   "source": [
    "## 1. 파일 입출력\n",
    "- 1. 함수\n",
    "- 2. 입출력\n",
    "- 3. 파일 읽고 쓰기"
   ]
  },
  {
   "cell_type": "markdown",
   "id": "7fcbc3b6",
   "metadata": {},
   "source": [
    "### 1. 함수\n",
    "이미 만들어져있는 것도 있지만 내가 직접 필요한, 혹은 반복적으로 필요한 함수를 직접만들기도 한다.  \n",
    "#### 1) 함수를 왜 만들어야 하나?\n",
    "A: 반복적으로 어떤 함수를 사용해야할 때 매번 입력하는 것은 효율적이지 못함. 직접 만들면 흐름이 유연해지고 오류를 발견하기 수월함   \n",
    "\n",
    "#### 2) 사용자정의함수의 기본 구조\n",
    "(syntax)   \n",
    "def 함수의 이름(파라미터):   \n",
    "    수행할 문장   \n",
    "    return 결괏값   \n",
    "** def는 함수를 만드는 예약어   \n",
    "** 파라미터: 함수에서 입력으로 전달받는 매개변수"
   ]
  },
  {
   "cell_type": "code",
   "execution_count": 1,
   "id": "0b6ee057",
   "metadata": {},
   "outputs": [],
   "source": [
    "def add(a, b):\n",
    "    result = a + b\n",
    "    return result"
   ]
  },
  {
   "cell_type": "code",
   "execution_count": 2,
   "id": "ad00e94e",
   "metadata": {},
   "outputs": [],
   "source": [
    "def add(a, b):\n",
    "    return a + b"
   ]
  },
  {
   "cell_type": "code",
   "execution_count": 3,
   "id": "e9dcc6b4",
   "metadata": {},
   "outputs": [
    {
     "name": "stdout",
     "output_type": "stream",
     "text": [
      "7\n"
     ]
    }
   ],
   "source": [
    "# 만든 함수의 활용\n",
    "i = 3\n",
    "j = 4\n",
    "c = add(i, j)\n",
    "print(c)"
   ]
  },
  {
   "cell_type": "code",
   "execution_count": 5,
   "id": "37e20b6a",
   "metadata": {},
   "outputs": [
    {
     "ename": "TypeError",
     "evalue": "add() missing 1 required positional argument: 'b'",
     "output_type": "error",
     "traceback": [
      "\u001b[1;31m---------------------------------------------------------------------------\u001b[0m",
      "\u001b[1;31mTypeError\u001b[0m                                 Traceback (most recent call last)",
      "\u001b[1;32mC:\\Users\\MINALA~1.DES\\AppData\\Local\\Temp/ipykernel_8576/3851484574.py\u001b[0m in \u001b[0;36m<module>\u001b[1;34m\u001b[0m\n\u001b[0;32m      4\u001b[0m \u001b[1;31m## 오류를 내 맘껏 발생시켜보자\u001b[0m\u001b[1;33m\u001b[0m\u001b[1;33m\u001b[0m\u001b[0m\n\u001b[0;32m      5\u001b[0m \u001b[1;33m\u001b[0m\u001b[0m\n\u001b[1;32m----> 6\u001b[1;33m \u001b[0madd\u001b[0m\u001b[1;33m(\u001b[0m\u001b[1;36m3\u001b[0m\u001b[1;33m)\u001b[0m\u001b[1;33m\u001b[0m\u001b[1;33m\u001b[0m\u001b[0m\n\u001b[0m",
      "\u001b[1;31mTypeError\u001b[0m: add() missing 1 required positional argument: 'b'"
     ]
    }
   ],
   "source": [
    "# 파라미터(매개변수): 함수의 입력으로 전달된 값을 받는 변수. 입력받을 때의 변수\n",
    "# 인수(argument): 함수를 호출할 때(사용할 때) 전달하는 입력값. \n",
    "# 둘 다 입력값이지만 이러한 차이가 있다.\n",
    "## 오류를 내 맘껏 발생시켜보자\n",
    "\n",
    "add(3) #argument 'b'"
   ]
  },
  {
   "cell_type": "code",
   "execution_count": 6,
   "id": "63669231",
   "metadata": {},
   "outputs": [],
   "source": [
    "#입력값이 없는 함수\n",
    "def say(): #파라미터가 없어요\n",
    "    return 'Hi'"
   ]
  },
  {
   "cell_type": "code",
   "execution_count": 7,
   "id": "4bb32b05",
   "metadata": {},
   "outputs": [
    {
     "data": {
      "text/plain": [
       "'Hi'"
      ]
     },
     "execution_count": 7,
     "metadata": {},
     "output_type": "execute_result"
    }
   ],
   "source": [
    "say()"
   ]
  },
  {
   "cell_type": "code",
   "execution_count": 8,
   "id": "7128e730",
   "metadata": {},
   "outputs": [],
   "source": [
    "#결괏값이 없는 함수\n",
    "def add(a, b):\n",
    "    print(\"%d, %d의 합은 %d입니다.\" %(a, b, a +b))"
   ]
  },
  {
   "cell_type": "code",
   "execution_count": 9,
   "id": "df187f2f",
   "metadata": {},
   "outputs": [
    {
     "name": "stdout",
     "output_type": "stream",
     "text": [
      "5, 6의 합은 11입니다.\n"
     ]
    }
   ],
   "source": [
    "add(5, 6)"
   ]
  },
  {
   "cell_type": "code",
   "execution_count": 10,
   "id": "f4a47e24",
   "metadata": {},
   "outputs": [
    {
     "name": "stdout",
     "output_type": "stream",
     "text": [
      "5, 6의 합은 11입니다.\n"
     ]
    }
   ],
   "source": [
    "c = add(5, 6)"
   ]
  },
  {
   "cell_type": "code",
   "execution_count": 11,
   "id": "cf96b6c3",
   "metadata": {},
   "outputs": [
    {
     "name": "stdout",
     "output_type": "stream",
     "text": [
      "None\n"
     ]
    }
   ],
   "source": [
    "print(c) \n",
    "# c라는 변수에는 아무것도 없음. \n",
    "# 단순히 출력하는 함수이지 변수에 저장되는 결괏값은 없다.\n",
    "# None은 비어있다. bool자료형에서 숫자형은 비어있을 때 none\n",
    "# !!!!!!!none은 결괏값이 아님!!!!!!"
   ]
  },
  {
   "cell_type": "code",
   "execution_count": 12,
   "id": "6a4c670d",
   "metadata": {},
   "outputs": [],
   "source": [
    "#입력값도 결괏값도 없는 함수\n",
    "def say():\n",
    "    print('Hi')"
   ]
  },
  {
   "cell_type": "code",
   "execution_count": 13,
   "id": "924229f3",
   "metadata": {},
   "outputs": [
    {
     "name": "stdout",
     "output_type": "stream",
     "text": [
      "Hi\n"
     ]
    }
   ],
   "source": [
    "say()"
   ]
  },
  {
   "cell_type": "code",
   "execution_count": 14,
   "id": "312173ac",
   "metadata": {},
   "outputs": [
    {
     "name": "stdout",
     "output_type": "stream",
     "text": [
      "Hi\n",
      "None\n"
     ]
    }
   ],
   "source": [
    "a = say()\n",
    "print(a) "
   ]
  },
  {
   "cell_type": "code",
   "execution_count": 15,
   "id": "d88f8a16",
   "metadata": {},
   "outputs": [],
   "source": [
    "#매개변수 지정\n",
    "def add(a, b):\n",
    "    return a + b"
   ]
  },
  {
   "cell_type": "code",
   "execution_count": 16,
   "id": "dd7968ce",
   "metadata": {},
   "outputs": [
    {
     "data": {
      "text/plain": [
       "10"
      ]
     },
     "execution_count": 16,
     "metadata": {},
     "output_type": "execute_result"
    }
   ],
   "source": [
    "# a에 3을, b에 7을 넣어주기(매개변수 지정)\n",
    "add(a = 3, b = 7)"
   ]
  },
  {
   "cell_type": "code",
   "execution_count": 18,
   "id": "c472de8b",
   "metadata": {},
   "outputs": [],
   "source": [
    "# 더하기는 이런게 관계없을 수 있지만 특정함수(예: 빼기)에는 파라미터 지정해주는게 좋다\n",
    "\n",
    "def minus(a, b):\n",
    "    return a - b"
   ]
  },
  {
   "cell_type": "code",
   "execution_count": 19,
   "id": "356be011",
   "metadata": {},
   "outputs": [
    {
     "name": "stdout",
     "output_type": "stream",
     "text": [
      "4\n",
      "-4\n"
     ]
    }
   ],
   "source": [
    "print(minus(7, 3))\n",
    "print(minus(3, 7))"
   ]
  },
  {
   "cell_type": "code",
   "execution_count": 20,
   "id": "204b4458",
   "metadata": {},
   "outputs": [
    {
     "name": "stdout",
     "output_type": "stream",
     "text": [
      "4\n",
      "4\n"
     ]
    }
   ],
   "source": [
    "#따라서\n",
    "print(minus(a = 7, b = 3))\n",
    "print(minus(b = 3, a = 7))"
   ]
  },
  {
   "cell_type": "code",
   "execution_count": 21,
   "id": "8f6c0c3b",
   "metadata": {},
   "outputs": [],
   "source": [
    "# 입력값이 몇 개가 될 지 모를 때(여러개 받아줄 때)\n",
    "# 예: 들어온 변수들을 다 더해주는 함수\n",
    "#파라미터에 *붙이면 입력값을 모두모아 튜플로 받아준다\n",
    "def add_many(*args):\n",
    "    result = 0\n",
    "    for i in args:\n",
    "        result += i\n",
    "    return result"
   ]
  },
  {
   "cell_type": "code",
   "execution_count": 22,
   "id": "842f971f",
   "metadata": {},
   "outputs": [],
   "source": [
    "result = add_many(1, 2, 3, 4)"
   ]
  },
  {
   "cell_type": "code",
   "execution_count": 23,
   "id": "5e09638a",
   "metadata": {},
   "outputs": [
    {
     "name": "stdout",
     "output_type": "stream",
     "text": [
      "10\n"
     ]
    }
   ],
   "source": [
    "print(result)"
   ]
  },
  {
   "cell_type": "code",
   "execution_count": 24,
   "id": "c4b10d79",
   "metadata": {},
   "outputs": [],
   "source": [
    "def add_mul(choice, *args): #파라미터에 *만 붙여주면 아무문자나 관계없음\n",
    "    if choice == 'add':\n",
    "        result = 0\n",
    "        for i in args:\n",
    "            result += i\n",
    "    elif choice == 'mul':\n",
    "        result = 1\n",
    "        for i in args:\n",
    "            result *= i\n",
    "    return result\n",
    "#choice에 따라 합 혹은 곱을 연산하는 함수"
   ]
  },
  {
   "cell_type": "code",
   "execution_count": 25,
   "id": "b01daf23",
   "metadata": {},
   "outputs": [
    {
     "name": "stdout",
     "output_type": "stream",
     "text": [
      "21\n",
      "120\n"
     ]
    }
   ],
   "source": [
    "a = add_mul('add', 1, 2, 3, 4, 5, 6)\n",
    "print(a)\n",
    "b = add_mul('mul', 1, 2, 3, 4, 5)\n",
    "print(b)"
   ]
  },
  {
   "cell_type": "code",
   "execution_count": 32,
   "id": "e89183a9",
   "metadata": {},
   "outputs": [],
   "source": [
    "# 결괏값은 언제나 한개만 발생한다.\n",
    "def add_and_mul(a, b):\n",
    "    return a + b, a * b"
   ]
  },
  {
   "cell_type": "code",
   "execution_count": 28,
   "id": "2dd7f3d3",
   "metadata": {},
   "outputs": [
    {
     "name": "stdout",
     "output_type": "stream",
     "text": [
      "(7, 12)\n"
     ]
    }
   ],
   "source": [
    "result = add_and_mul(3, 4)\n",
    "print(result) #결괏값이 튜플 하나로 묶여 나온다."
   ]
  },
  {
   "cell_type": "code",
   "execution_count": 33,
   "id": "1e32ad8f",
   "metadata": {},
   "outputs": [
    {
     "name": "stdout",
     "output_type": "stream",
     "text": [
      "17\n",
      "70\n"
     ]
    }
   ],
   "source": [
    "# 각각 출력되면 좋겠어\n",
    "a, b = add_and_mul(7, 10)\n",
    "print(a)\n",
    "print(b)"
   ]
  },
  {
   "cell_type": "markdown",
   "id": "c333e1fe",
   "metadata": {},
   "source": [
    "결괏값 관련 추가 설명"
   ]
  },
  {
   "cell_type": "code",
   "execution_count": 57,
   "id": "e5cca7fd",
   "metadata": {},
   "outputs": [
    {
     "data": {
      "text/plain": [
       "(1, 2, 3)"
      ]
     },
     "execution_count": 57,
     "metadata": {},
     "output_type": "execute_result"
    }
   ],
   "source": [
    "# 왜 이렇게 나오냐구?\n",
    "# 튜플 배울 때 \n",
    "a = 1, 2, 3\n",
    "a #튜플의 괄호는 생략할 수 있다"
   ]
  },
  {
   "cell_type": "code",
   "execution_count": 58,
   "id": "4ab0655c",
   "metadata": {},
   "outputs": [
    {
     "name": "stdout",
     "output_type": "stream",
     "text": [
      "1\n",
      "2\n",
      "3\n"
     ]
    }
   ],
   "source": [
    "a, b, c = 1, 2, 3\n",
    "print(a)\n",
    "print(b)\n",
    "print(c)"
   ]
  },
  {
   "cell_type": "code",
   "execution_count": 34,
   "id": "73fea73b",
   "metadata": {},
   "outputs": [],
   "source": [
    "# 함수에선 어떻게 안되나?\n",
    "def add_and_mul(a, b):\n",
    "    return a + b \n",
    "    return a * b"
   ]
  },
  {
   "cell_type": "code",
   "execution_count": 35,
   "id": "09c29883",
   "metadata": {},
   "outputs": [
    {
     "name": "stdout",
     "output_type": "stream",
     "text": [
      "5\n"
     ]
    }
   ],
   "source": [
    "result = add_and_mul(2, 3)\n",
    "print(result) \n",
    "# return 두개로 하면 맨 앞 값만 return된다.\n",
    "# def에서 return문은 return문 만나면 구문이 끝남. 따라서 제일 마지막에 와야함\n",
    "#마지막이므로 가장 첫번째 입력된 return만 실행됨"
   ]
  },
  {
   "cell_type": "code",
   "execution_count": 36,
   "id": "fff3a572",
   "metadata": {},
   "outputs": [],
   "source": [
    "# 특별한 상황일 때 빠져나가기\n",
    "def say_a(a):\n",
    "    if a == 'a':\n",
    "        return\n",
    "    print(\"나는 'a'가 아닙니다. %s입니다.\" % a) \n",
    "    #a가 입력된다면 print문 구동안되고 빠져나감"
   ]
  },
  {
   "cell_type": "code",
   "execution_count": 38,
   "id": "ed889f0d",
   "metadata": {},
   "outputs": [
    {
     "name": "stdout",
     "output_type": "stream",
     "text": [
      "None\n"
     ]
    }
   ],
   "source": [
    "print(say_a('a')) #결괏값이 없으므로 None"
   ]
  },
  {
   "cell_type": "code",
   "execution_count": 39,
   "id": "11880167",
   "metadata": {},
   "outputs": [
    {
     "name": "stdout",
     "output_type": "stream",
     "text": [
      "나는 'a'가 아닙니다. b입니다.\n",
      "None\n"
     ]
    }
   ],
   "source": [
    "print(say_a('b')) #일단 print문이 실행이 됨. \n",
    "#print를 했어서 결과값까지 출력된거 이 구문에서는 return값이 none인게 맞음\n",
    "#######중요함중요함"
   ]
  },
  {
   "cell_type": "code",
   "execution_count": 40,
   "id": "ef273837",
   "metadata": {},
   "outputs": [
    {
     "name": "stdout",
     "output_type": "stream",
     "text": [
      "나는 'a'가 아닙니다. b입니다.\n"
     ]
    }
   ],
   "source": [
    "say_a('b')"
   ]
  },
  {
   "cell_type": "code",
   "execution_count": 41,
   "id": "6afdaccd",
   "metadata": {},
   "outputs": [
    {
     "name": "stdout",
     "output_type": "stream",
     "text": [
      "나는 'a'가 아닙니다. b입니다.\n",
      "None\n"
     ]
    }
   ],
   "source": [
    "c = say_a('b')\n",
    "print(c)\n",
    "#sep, end "
   ]
  },
  {
   "cell_type": "code",
   "execution_count": 42,
   "id": "d1be7241",
   "metadata": {},
   "outputs": [],
   "source": [
    "#함수의 기본값이 디폴트값\n",
    "def say_myself(name, age, woman = True):\n",
    "    print('나의 이름은 %s입니다.' % name)\n",
    "    print('나는 %s살 입니다.' % age)\n",
    "    if woman:\n",
    "        print('여자입니다.')\n",
    "    else: \n",
    "        print('남자입니다')"
   ]
  },
  {
   "cell_type": "code",
   "execution_count": 43,
   "id": "e783fdb4",
   "metadata": {},
   "outputs": [
    {
     "name": "stdout",
     "output_type": "stream",
     "text": [
      "나의 이름은 aaa입니다.\n",
      "나는 20살 입니다.\n",
      "여자입니다.\n"
     ]
    }
   ],
   "source": [
    "say_myself('aaa', 20, woman= True)"
   ]
  },
  {
   "cell_type": "code",
   "execution_count": 44,
   "id": "a5d72782",
   "metadata": {},
   "outputs": [
    {
     "ename": "SyntaxError",
     "evalue": "non-default argument follows default argument (Temp/ipykernel_8576/3600992230.py, line 3)",
     "output_type": "error",
     "traceback": [
      "\u001b[1;36m  File \u001b[1;32m\"C:\\Users\\MINALA~1.DES\\AppData\\Local\\Temp/ipykernel_8576/3600992230.py\"\u001b[1;36m, line \u001b[1;32m3\u001b[0m\n\u001b[1;33m    def say_myself(name, woman = True, age):\u001b[0m\n\u001b[1;37m                                          ^\u001b[0m\n\u001b[1;31mSyntaxError\u001b[0m\u001b[1;31m:\u001b[0m non-default argument follows default argument\n"
     ]
    }
   ],
   "source": [
    "## 초기값 설정시 주의사항\n",
    "#함수의 기본값이 디폴트값\n",
    "def say_myself(name, woman = True, age): #디폴트가 필요한 변수는 뒤에 가야함\n",
    "    print('나의 이름은 %s입니다.' % name)\n",
    "    print('나는 %s살 입니다.' % age)\n",
    "    if woman:\n",
    "        print('여자입니다.')\n",
    "    else: \n",
    "        print('남자입니다')"
   ]
  },
  {
   "cell_type": "code",
   "execution_count": 45,
   "id": "7fa6fbb2",
   "metadata": {},
   "outputs": [],
   "source": [
    "## 초기값 설정시 주의사항\n",
    "#함수의 기본값이 디폴트값\n",
    "def say_myself(name, woman = True, age = 20): #디폴트가 필요한 변수는 뒤에 가야함\n",
    "    print('나의 이름은 %s입니다.' % name)\n",
    "    print('나는 %s살 입니다.' % age)\n",
    "    if woman:\n",
    "        print('여자입니다.')\n",
    "    else: \n",
    "        print('남자입니다')"
   ]
  },
  {
   "cell_type": "code",
   "execution_count": 46,
   "id": "150bb20a",
   "metadata": {},
   "outputs": [
    {
     "name": "stdout",
     "output_type": "stream",
     "text": [
      "나의 이름은 aaa입니다.\n",
      "나는 24살 입니다.\n",
      "여자입니다.\n"
     ]
    }
   ],
   "source": [
    "say_myself('aaa', age = 24)"
   ]
  },
  {
   "cell_type": "code",
   "execution_count": 47,
   "id": "d724047b",
   "metadata": {},
   "outputs": [
    {
     "name": "stdout",
     "output_type": "stream",
     "text": [
      "1\n"
     ]
    }
   ],
   "source": [
    "# 매개변수의 효력\n",
    "a = 1\n",
    "def vtest(a):\n",
    "    a += 1\n",
    "    \n",
    "vtest(a)\n",
    "print(a)\n",
    "# 함수 안에서만 매개변수는 효력이 있다.\n",
    "#함수를 실행시켜서 함수 밖 변수에게 영향주고 싶으면?\n",
    "#return 사용하기"
   ]
  },
  {
   "cell_type": "code",
   "execution_count": 48,
   "id": "362dfc4c",
   "metadata": {},
   "outputs": [
    {
     "ename": "SyntaxError",
     "evalue": "invalid syntax (Temp/ipykernel_8576/2710535413.py, line 3)",
     "output_type": "error",
     "traceback": [
      "\u001b[1;36m  File \u001b[1;32m\"C:\\Users\\MINALA~1.DES\\AppData\\Local\\Temp/ipykernel_8576/2710535413.py\"\u001b[1;36m, line \u001b[1;32m3\u001b[0m\n\u001b[1;33m    return a += 1\u001b[0m\n\u001b[1;37m             ^\u001b[0m\n\u001b[1;31mSyntaxError\u001b[0m\u001b[1;31m:\u001b[0m invalid syntax\n"
     ]
    }
   ],
   "source": [
    "a = 1\n",
    "def vtest(a):\n",
    "    return a += 1\n",
    "    \n",
    "vtest(a)\n",
    "print(a)\n",
    "\n",
    "# 계속 더해지는 값이 return에 들어올 수 없다"
   ]
  },
  {
   "cell_type": "code",
   "execution_count": 49,
   "id": "a0a4205a",
   "metadata": {},
   "outputs": [
    {
     "name": "stdout",
     "output_type": "stream",
     "text": [
      "1\n"
     ]
    }
   ],
   "source": [
    "a = 1\n",
    "def vtest(a):\n",
    "    a += 1\n",
    "    return a\n",
    "    \n",
    "vtest(a)\n",
    "print(a)\n"
   ]
  },
  {
   "cell_type": "code",
   "execution_count": 50,
   "id": "c6f8363d",
   "metadata": {},
   "outputs": [
    {
     "name": "stdout",
     "output_type": "stream",
     "text": [
      "2\n",
      "1\n"
     ]
    }
   ],
   "source": [
    "a = 1\n",
    "def vtest(a):\n",
    "    a += 1\n",
    "    return a\n",
    "    \n",
    "print(vtest(a))\n",
    "print(a)\n",
    "# 함수 실행했을 때는 변화있지만 a그자체 변하지 않았다"
   ]
  },
  {
   "cell_type": "code",
   "execution_count": 51,
   "id": "99ffb775",
   "metadata": {},
   "outputs": [
    {
     "name": "stdout",
     "output_type": "stream",
     "text": [
      "2\n"
     ]
    }
   ],
   "source": [
    "# 해결\n",
    "a = 1\n",
    "def vtest(a):\n",
    "    a += 1\n",
    "    return a\n",
    "    \n",
    "a = vtest(a)\n",
    "print(a)"
   ]
  },
  {
   "cell_type": "code",
   "execution_count": 52,
   "id": "3aa4c95d",
   "metadata": {},
   "outputs": [
    {
     "name": "stdout",
     "output_type": "stream",
     "text": [
      "2\n"
     ]
    }
   ],
   "source": [
    "a = 1\n",
    "def vartest():\n",
    "    global a \n",
    "    #함수 밖에 있는 a 변수를 직접 가져와서 그 변수를 직접 변화시키겠다.\n",
    "    #밖에 있는 변수를 변화하기 때문에 주의해서 사용해야함\n",
    "    #코딩 잘하는 사람들은 잘 안씀. 함수는 독립적으로 사용해야하기 때문.    \n",
    "    a += 1\n",
    "vartest()\n",
    "print(a)"
   ]
  },
  {
   "cell_type": "markdown",
   "id": "045c74f3",
   "metadata": {},
   "source": [
    "## lambda"
   ]
  },
  {
   "cell_type": "code",
   "execution_count": 53,
   "id": "579b297d",
   "metadata": {},
   "outputs": [],
   "source": [
    "def add(a, b):\n",
    "    return a + b #람다를 사용하지 않은 형태"
   ]
  },
  {
   "cell_type": "code",
   "execution_count": 54,
   "id": "460a5ae4",
   "metadata": {},
   "outputs": [],
   "source": [
    "add = lambda a, b: a + b\n",
    "# syntax: lambda 매개변수 : 얻고 싶은 결과물\n",
    "# 뒷부분에 또 나오니까 이런 형식이다를 기억해두자"
   ]
  },
  {
   "cell_type": "code",
   "execution_count": 56,
   "id": "a235020f",
   "metadata": {},
   "outputs": [
    {
     "name": "stdout",
     "output_type": "stream",
     "text": [
      "7\n"
     ]
    }
   ],
   "source": [
    "print(add(3, 4))"
   ]
  },
  {
   "cell_type": "markdown",
   "id": "053bdc94",
   "metadata": {},
   "source": [
    "### 2. 입력과 출력\n"
   ]
  },
  {
   "cell_type": "code",
   "execution_count": 59,
   "id": "c5a31080",
   "metadata": {},
   "outputs": [
    {
     "name": "stdout",
     "output_type": "stream",
     "text": [
      "나에게 넌 해질녘 노을처럼 한 편의 아름다운 추억이 되고\n"
     ]
    }
   ],
   "source": [
    "#입력받기 input()\n",
    "\n",
    "a = input() #입력창 뜨는게 프롬프트라고 함"
   ]
  },
  {
   "cell_type": "code",
   "execution_count": 60,
   "id": "8a4bf313",
   "metadata": {},
   "outputs": [
    {
     "data": {
      "text/plain": [
       "'나에게 넌 해질녘 노을처럼 한 편의 아름다운 추억이 되고'"
      ]
     },
     "execution_count": 60,
     "metadata": {},
     "output_type": "execute_result"
    }
   ],
   "source": [
    "a # 내가 입력한게 문자열로 할당이 됨"
   ]
  },
  {
   "cell_type": "code",
   "execution_count": 61,
   "id": "4b35c10b",
   "metadata": {},
   "outputs": [
    {
     "name": "stdout",
     "output_type": "stream",
     "text": [
      "숫자를 입력하세요: 3\n"
     ]
    }
   ],
   "source": [
    "num = input('숫자를 입력하세요: ') #질문내용을 입력하면 됨"
   ]
  },
  {
   "cell_type": "code",
   "execution_count": 62,
   "id": "e7900ad6",
   "metadata": {},
   "outputs": [
    {
     "data": {
      "text/plain": [
       "'3'"
      ]
     },
     "execution_count": 62,
     "metadata": {},
     "output_type": "execute_result"
    }
   ],
   "source": [
    "num"
   ]
  },
  {
   "cell_type": "code",
   "execution_count": 63,
   "id": "745db4bf",
   "metadata": {},
   "outputs": [
    {
     "name": "stdout",
     "output_type": "stream",
     "text": [
      "abc\n",
      "abc\n",
      "a b c\n"
     ]
    }
   ],
   "source": [
    "#print문 복습하기\n",
    "print('a' 'b' 'c') # 문자열일 경우에 그냥 나열할 수 있다.\n",
    "print('a'+'b'+'c') # +로 연결하는 것과 같음\n",
    "print('a', 'b', 'c') # 기본 seperator가 공백이다"
   ]
  },
  {
   "cell_type": "code",
   "execution_count": 64,
   "id": "1d5ea6ad",
   "metadata": {},
   "outputs": [
    {
     "ename": "SyntaxError",
     "evalue": "invalid syntax (Temp/ipykernel_8576/445770258.py, line 1)",
     "output_type": "error",
     "traceback": [
      "\u001b[1;36m  File \u001b[1;32m\"C:\\Users\\MINALA~1.DES\\AppData\\Local\\Temp/ipykernel_8576/445770258.py\"\u001b[1;36m, line \u001b[1;32m1\u001b[0m\n\u001b[1;33m    print(1 2 3)\u001b[0m\n\u001b[1;37m            ^\u001b[0m\n\u001b[1;31mSyntaxError\u001b[0m\u001b[1;31m:\u001b[0m invalid syntax\n"
     ]
    }
   ],
   "source": [
    "print(1 2 3) # 숫자는 안됨"
   ]
  },
  {
   "cell_type": "code",
   "execution_count": 65,
   "id": "753bf3bf",
   "metadata": {},
   "outputs": [
    {
     "name": "stdout",
     "output_type": "stream",
     "text": [
      "6\n",
      "1 2 3\n"
     ]
    }
   ],
   "source": [
    "print(1+2+3) # 숫자는 안됨\n",
    "print(1, 2, 3)"
   ]
  },
  {
   "cell_type": "code",
   "execution_count": 66,
   "id": "abe1935e",
   "metadata": {},
   "outputs": [
    {
     "name": "stdout",
     "output_type": "stream",
     "text": [
      "abc\n"
     ]
    }
   ],
   "source": [
    "# sep사용\n",
    "print('a', 'b', 'c', sep='') \n",
    "# 기본 seperator가 공백인데 공백지워주면 앞의 두 경우와 마찬가지로 abc로 출력된다."
   ]
  },
  {
   "cell_type": "code",
   "execution_count": 67,
   "id": "1afcaa07",
   "metadata": {},
   "outputs": [
    {
     "name": "stdout",
     "output_type": "stream",
     "text": [
      "0\n",
      "1\n",
      "2\n",
      "3\n",
      "4\n",
      "5\n",
      "6\n",
      "7\n",
      "8\n",
      "9\n"
     ]
    }
   ],
   "source": [
    "for i in range(10):\n",
    "    print(i) #줄바꿈되어 출력됨"
   ]
  },
  {
   "cell_type": "code",
   "execution_count": 68,
   "id": "37f64ee3",
   "metadata": {},
   "outputs": [
    {
     "name": "stdout",
     "output_type": "stream",
     "text": [
      "0 1 2 3 4 5 6 7 8 9 "
     ]
    }
   ],
   "source": [
    "for i in range(10):\n",
    "    print(i, end = ' ') #띄어써서 출력됨"
   ]
  },
  {
   "cell_type": "code",
   "execution_count": 70,
   "id": "28cd757e",
   "metadata": {},
   "outputs": [
    {
     "name": "stdout",
     "output_type": "stream",
     "text": [
      "0, 1, 2, 3, 4, 5, 6, 7, 8, 9, "
     ]
    }
   ],
   "source": [
    "for i in range(10):\n",
    "    print(i, end = ', ') #구분자 ,로 출력됨"
   ]
  },
  {
   "cell_type": "markdown",
   "id": "9fac2472",
   "metadata": {},
   "source": [
    "### 3. 파일 읽고 쓰기"
   ]
  },
  {
   "cell_type": "code",
   "execution_count": 71,
   "id": "638cc499",
   "metadata": {},
   "outputs": [],
   "source": [
    "#파일 생성하기\n",
    "f = open(\"새파일.txt\", 'w') #파일이름, 모드(쓰기=w, 읽기=r)\n",
    "f.close() #파일 닫기"
   ]
  },
  {
   "cell_type": "code",
   "execution_count": 73,
   "id": "94c43c34",
   "metadata": {},
   "outputs": [],
   "source": [
    "#바탕화면에 만들고 싶다면\n",
    "f= open(\"C:/Users/minalang.DESKTOP-8M075ND/새파일.txt\", 'w')\n",
    "f.close()"
   ]
  },
  {
   "cell_type": "code",
   "execution_count": 75,
   "id": "8b24249c",
   "metadata": {},
   "outputs": [],
   "source": [
    "f = open(\"새파일.txt\", 'w')\n",
    "for i in range(1, 11):\n",
    "    f.write(\"%d번째 줄입니다.\\n\" % i)\n",
    "f.close()"
   ]
  },
  {
   "cell_type": "code",
   "execution_count": 74,
   "id": "acdff1a8",
   "metadata": {},
   "outputs": [
    {
     "name": "stdout",
     "output_type": "stream",
     "text": [
      "1번째 줄입니다.\n",
      "2번째 줄입니다.\n",
      "3번째 줄입니다.\n",
      "4번째 줄입니다.\n",
      "5번째 줄입니다.\n",
      "6번째 줄입니다.\n",
      "7번째 줄입니다.\n",
      "8번째 줄입니다.\n",
      "9번째 줄입니다.\n",
      "10번째 줄입니다.\n"
     ]
    }
   ],
   "source": [
    "for i in range(1, 11):\n",
    "    print(\"%d번째 줄입니다.\" % i)"
   ]
  },
  {
   "cell_type": "code",
   "execution_count": 78,
   "id": "bad1f8d7",
   "metadata": {},
   "outputs": [
    {
     "name": "stdout",
     "output_type": "stream",
     "text": [
      "1번째 줄입니다.\n",
      "\n"
     ]
    }
   ],
   "source": [
    "#파일 읽어오기(readline, readlines, read)\n",
    "f = open(\"새파일.txt\", 'r')\n",
    "line = f.readline() #한 줄을 읽어오겠다(readline)\n",
    "print(line)\n",
    "f.close()"
   ]
  },
  {
   "cell_type": "code",
   "execution_count": 79,
   "id": "0a3a8410",
   "metadata": {},
   "outputs": [
    {
     "name": "stdout",
     "output_type": "stream",
     "text": [
      "1번째 줄입니다.\n",
      "\n",
      "2번째 줄입니다.\n",
      "\n",
      "3번째 줄입니다.\n",
      "\n"
     ]
    }
   ],
   "source": [
    "#파일 읽어오기(readline, readlines, read)\n",
    "f = open(\"새파일.txt\", 'r')\n",
    "line = f.readline() #한 줄을 읽어오겠다(readline)--> 첫번째 줄\n",
    "print(line)\n",
    "line = f.readline() #한 줄을 읽어오겠다(readline)--> 두번째 줄\n",
    "print(line)\n",
    "line = f.readline() #한 줄을 읽어오겠다(readline)--> 세번째 줄\n",
    "print(line)\n",
    "f.close()"
   ]
  },
  {
   "cell_type": "code",
   "execution_count": 80,
   "id": "a816b6d8",
   "metadata": {},
   "outputs": [
    {
     "name": "stdout",
     "output_type": "stream",
     "text": [
      "1번째 줄입니다.\n",
      "\n",
      "2번째 줄입니다.\n",
      "\n",
      "3번째 줄입니다.\n",
      "\n",
      "4번째 줄입니다.\n",
      "\n",
      "5번째 줄입니다.\n",
      "\n",
      "6번째 줄입니다.\n",
      "\n",
      "7번째 줄입니다.\n",
      "\n",
      "8번째 줄입니다.\n",
      "\n",
      "9번째 줄입니다.\n",
      "\n",
      "10번째 줄입니다.\n",
      "\n"
     ]
    }
   ],
   "source": [
    "#while문을 활용하여 다 읽어오기\n",
    "f = open(\"새파일.txt\", 'r')\n",
    "while True:\n",
    "    line = f.readline() #한 줄을 읽어오겠다(readline)\n",
    "    if not line: break #line이 없으면 루프를 멈추겠다.\n",
    "    print(line)\n",
    "f.close()"
   ]
  },
  {
   "cell_type": "code",
   "execution_count": 81,
   "id": "e89e60ed",
   "metadata": {},
   "outputs": [
    {
     "name": "stdout",
     "output_type": "stream",
     "text": [
      "['1번째 줄입니다.\\n', '2번째 줄입니다.\\n', '3번째 줄입니다.\\n', '4번째 줄입니다.\\n', '5번째 줄입니다.\\n', '6번째 줄입니다.\\n', '7번째 줄입니다.\\n', '8번째 줄입니다.\\n', '9번째 줄입니다.\\n', '10번째 줄입니다.\\n']\n"
     ]
    }
   ],
   "source": [
    "#readlines\n",
    "f = open(\"새파일.txt\", 'r')\n",
    "lines = f.readlines() #한 줄을 읽어오겠다(readline)\n",
    "print(lines)\n",
    "f.close() \n",
    "#리스트 형태로 출력. 각 줄이 하나의 요소로 = 10개의 요소"
   ]
  },
  {
   "cell_type": "code",
   "execution_count": 82,
   "id": "b082a5c6",
   "metadata": {},
   "outputs": [
    {
     "name": "stdout",
     "output_type": "stream",
     "text": [
      "<class 'list'>\n"
     ]
    },
    {
     "data": {
      "text/plain": [
       "10"
      ]
     },
     "execution_count": 82,
     "metadata": {},
     "output_type": "execute_result"
    }
   ],
   "source": [
    "print(type(lines))\n",
    "len(lines)"
   ]
  },
  {
   "cell_type": "code",
   "execution_count": 83,
   "id": "7ccf6fb5",
   "metadata": {},
   "outputs": [
    {
     "name": "stdout",
     "output_type": "stream",
     "text": [
      "1번째 줄입니다.\n",
      "2번째 줄입니다.\n",
      "3번째 줄입니다.\n",
      "4번째 줄입니다.\n",
      "5번째 줄입니다.\n",
      "6번째 줄입니다.\n",
      "7번째 줄입니다.\n",
      "8번째 줄입니다.\n",
      "9번째 줄입니다.\n",
      "10번째 줄입니다.\n",
      "\n"
     ]
    }
   ],
   "source": [
    "#read\n",
    "f = open(\"새파일.txt\", 'r')\n",
    "data = f.read() #모두 읽어오겠다(read)\n",
    "print(data)\n",
    "f.close() \n",
    "#전체내용을 하나의 문자열로 읽어온다."
   ]
  },
  {
   "cell_type": "code",
   "execution_count": 84,
   "id": "c0b7ad12",
   "metadata": {},
   "outputs": [
    {
     "data": {
      "text/plain": [
       "str"
      ]
     },
     "execution_count": 84,
     "metadata": {},
     "output_type": "execute_result"
    }
   ],
   "source": [
    "type(data)"
   ]
  },
  {
   "cell_type": "code",
   "execution_count": 85,
   "id": "bb6ccf7c",
   "metadata": {},
   "outputs": [
    {
     "name": "stdout",
     "output_type": "stream",
     "text": [
      "1번째 줄입니다.\n",
      "2번째 줄입니다.\n",
      "3번째 줄입니다.\n",
      "4번째 줄입니다.\n",
      "5번째 줄입니다.\n",
      "6번째 줄입니다.\n",
      "7번째 줄입니다.\n",
      "8번째 줄입니다.\n",
      "9번째 줄입니다.\n",
      "10번째 줄입니다.\n",
      "\n"
     ]
    }
   ],
   "source": [
    "#닫는걸 늘 까먹을 것 같다면?\n",
    "with open(\"새파일.txt\", 'r') as f:\n",
    "    data = f.read()\n",
    "print(data)"
   ]
  },
  {
   "cell_type": "markdown",
   "id": "51e222ed",
   "metadata": {},
   "source": [
    "### 그동안 배운거\n",
    "data type / 제어문: if, while, for문 / 입출력: 함수(주의점, 만드는 법), 입력과 출력, 파일 읽고 쓰기\n",
    "\n",
    "### 앞으로 배울거\n",
    "여기서 응용할 수 있는 것: 클래스, 모듈, 패키지 / 예외처리, 내장함수, 외장함수  \n",
    "numpy, pandas 배울 것  \n",
    "수업계획서보다 numpy, pandas 하기 위해 조금 빨리 나감.  \n",
    "\n",
    "### 코드는\n",
    "내가 작성하는 것도 중요하지만 다른 사람의 코드를 눈으로 볼 줄 아는 것도 중요하다.    \n",
    "작성된 코드를 보고 이해하는 것도 중요하다. 시험문제를 복습할거에요.  \n",
    "눈으로 살펴보고 풀이를 해야함. 그 이후에 답을 확인하고 싶다면 입력할 것.  \n",
    "pdf파일 복사 붙여넣기 안돼요.  \n",
    "오늘 수업 여기까지하고 주말에 남는 시간에 보고 월요일에 남는 시간에 풀이하기  "
   ]
  }
 ],
 "metadata": {
  "kernelspec": {
   "display_name": "Python 3 (ipykernel)",
   "language": "python",
   "name": "python3"
  },
  "language_info": {
   "codemirror_mode": {
    "name": "ipython",
    "version": 3
   },
   "file_extension": ".py",
   "mimetype": "text/x-python",
   "name": "python",
   "nbconvert_exporter": "python",
   "pygments_lexer": "ipython3",
   "version": "3.9.7"
  }
 },
 "nbformat": 4,
 "nbformat_minor": 5
}
